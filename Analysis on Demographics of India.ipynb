{
 "cells": [
  {
   "cell_type": "markdown",
   "metadata": {},
   "source": [
    "# Project: Analysis on Demographics of India\n",
    "\n",
    "## Table of Contents\n",
    "<ul>\n",
    "<li><a href=\"#intro\">Introduction</a></li>\n",
    "<li><a href=\"#Gathering Data\">Gathering Data</a></li>\n",
    "<li><a href=\"#Cleaning Data\">Cleaning Data</a></li>\n",
    "<li><a href=\"#Exploring Data\">Exploration</a></li>\n",
    "<li><a href=\"#Conclusion\">Conclusion</a></li>\n",
    "</ul>"
   ]
  },
  {
   "cell_type": "markdown",
   "metadata": {},
   "source": [
    "<a id='intro'></a>\n",
    "## Introduction"
   ]
  },
  {
   "cell_type": "markdown",
   "metadata": {},
   "source": [
    "India is the second most populated country in the world with nearly a fifth of the world's population. According to the 2017 revision of the World Population Prospects, the population stood at 1,324,171,354. During 1975–2010 the population doubled to 1.2 billion. The Indian population reached the billion mark in 1998. India is projected to be the world's most populous country by 2024, surpassing the population of China.\n",
    "    \n",
    "Let's try to find the characteristics of increasing population and factors affecting the population."
   ]
  },
  {
   "cell_type": "code",
   "execution_count": 80,
   "metadata": {},
   "outputs": [
    {
     "data": {
      "text/html": [
       "<script>requirejs.config({paths: { 'plotly': ['https://cdn.plot.ly/plotly-latest.min']},});if(!window.Plotly) {{require(['plotly'],function(plotly) {window.Plotly=plotly;});}}</script>"
      ],
      "text/vnd.plotly.v1+html": [
       "<script>requirejs.config({paths: { 'plotly': ['https://cdn.plot.ly/plotly-latest.min']},});if(!window.Plotly) {{require(['plotly'],function(plotly) {window.Plotly=plotly;});}}</script>"
      ]
     },
     "metadata": {},
     "output_type": "display_data"
    }
   ],
   "source": [
    "# import necessary libraries\n",
    "import pandas as pd\n",
    "import numpy as np\n",
    "#% matplotlib inline\n",
    "#from matplotlib import pyplot as plt\n",
    "#import seaborn as sns\n",
    "import requests\n",
    "from bs4 import BeautifulSoup  \n",
    "import plotly.plotly as py\n",
    "from plotly.offline import init_notebook_mode, iplot\n",
    "init_notebook_mode(connected = True)\n",
    "import plotly.graph_objs as go\n",
    "from plotly import tools"
   ]
  },
  {
   "cell_type": "markdown",
   "metadata": {},
   "source": [
    "<a id='Gathering Data'></a>\n",
    "## Data Gathering"
   ]
  },
  {
   "cell_type": "code",
   "execution_count": 81,
   "metadata": {},
   "outputs": [
    {
     "data": {
      "text/plain": [
       "<Response [200]>"
      ]
     },
     "execution_count": 81,
     "metadata": {},
     "output_type": "execute_result"
    }
   ],
   "source": [
    "#get the url \n",
    "url = 'https://en.wikipedia.org/wiki/Demographics_of_India'\n",
    "response = requests.get(url)\n",
    "response"
   ]
  },
  {
   "cell_type": "code",
   "execution_count": 82,
   "metadata": {},
   "outputs": [],
   "source": [
    "#create soup\n",
    "soup = BeautifulSoup(response.content,'lxml')"
   ]
  },
  {
   "cell_type": "code",
   "execution_count": 83,
   "metadata": {},
   "outputs": [
    {
     "name": "stdout",
     "output_type": "stream",
     "text": [
      "Number of tables captured: 18\n"
     ]
    }
   ],
   "source": [
    "# get all tables data \n",
    "all_tables = soup.find_all('table', class_ = 'wikitable sortable')\n",
    "print(f\"Number of tables captured: {len(all_tables)}\")"
   ]
  },
  {
   "cell_type": "code",
   "execution_count": 84,
   "metadata": {},
   "outputs": [],
   "source": [
    "#get_data function returns a list with only text \n",
    "\n",
    "def get_data(all_data):\n",
    "    df_list = []\n",
    "    for data in all_data:\n",
    "        df_list.append(data.text.strip())\n",
    "    return df_list"
   ]
  },
  {
   "cell_type": "code",
   "execution_count": 85,
   "metadata": {},
   "outputs": [],
   "source": [
    "'''get_dataframe function collects soup for individual table.\n",
    "Gathers data under 'td' tag then creates a list for each column in respective table.\n",
    "then to create a dataframe we need dictionary structure hence created a dictionary 'df_dict' which takes in every column\n",
    "'''\n",
    "def get_dataframe(sample,num):\n",
    "    all_data = sample.find_all('td')\n",
    "    df_list = []\n",
    "    for i in range(num):\n",
    "        df_list.append(all_data[i::num])\n",
    "        \n",
    "    df_dict = {i:[] for i in range(num)}\n",
    "    for i in range(len(df_dict)):\n",
    "        data = get_data(df_list[i])\n",
    "        df_dict[i] = data\n",
    "    title = collect_col_names(sample)\n",
    "    return df_dict,title"
   ]
  },
  {
   "cell_type": "code",
   "execution_count": 86,
   "metadata": {},
   "outputs": [],
   "source": [
    "# collect_col_names function collectes column name of each table\n",
    "def collect_col_names(sample):\n",
    "    all_data = sample.find_all('th')\n",
    "    col_title=  [] \n",
    "    for header in all_data:\n",
    "        col_title.append(header.text.strip())\n",
    "    return col_title"
   ]
  },
  {
   "cell_type": "code",
   "execution_count": 87,
   "metadata": {},
   "outputs": [],
   "source": [
    "pop_under_british_dict,pop_under_british_cols = get_dataframe(all_tables[2],3)\n",
    "pop_per_decade_dict,pop_per_decade_cols = get_dataframe(all_tables[3],3)\n",
    "pop_dist_by_states_dict,pop_dist_by_states_cols = get_dataframe(all_tables[4],12)\n",
    "pop_bet_age_0_6_dict,pop_bet_age_0_6_cols = get_dataframe(all_tables[7],6)\n",
    "pop_abv_7_dict,pop_abv_7_cols = get_dataframe(all_tables[8],5)\n",
    "literacy_rate_dict,literacy_rate_cols = get_dataframe(all_tables[9],5)\n",
    "native_speakers_dict,native_speakers_cols = get_dataframe(all_tables[10],4)\n",
    "un_stat_dict,un_stat_cols = get_dataframe(all_tables[11],9)\n",
    "census_dict,census_cols = get_dataframe(all_tables[12],9)\n",
    "pop_struc_dict,pop_struc_cols = get_dataframe(all_tables[13],5)\n",
    "pop_struc_2016_dict,pop_struc_2016_cols = get_dataframe(all_tables[14],4)\n",
    "fertility_rate_dict,fertility_rate_cols = get_dataframe(all_tables[15],7)\n",
    "crude_birth_rate_dict,crude_birth_rate_cols = get_dataframe(all_tables[16],7)\n",
    "regional_stats_dict,regional_stats_cols = get_dataframe(all_tables[17],13)"
   ]
  },
  {
   "cell_type": "code",
   "execution_count": 88,
   "metadata": {},
   "outputs": [
    {
     "data": {
      "text/html": [
       "<div>\n",
       "<style scoped>\n",
       "    .dataframe tbody tr th:only-of-type {\n",
       "        vertical-align: middle;\n",
       "    }\n",
       "\n",
       "    .dataframe tbody tr th {\n",
       "        vertical-align: top;\n",
       "    }\n",
       "\n",
       "    .dataframe thead th {\n",
       "        text-align: right;\n",
       "    }\n",
       "</style>\n",
       "<table border=\"1\" class=\"dataframe\">\n",
       "  <thead>\n",
       "    <tr style=\"text-align: right;\">\n",
       "      <th></th>\n",
       "      <th>city</th>\n",
       "      <th>state</th>\n",
       "      <th>population</th>\n",
       "    </tr>\n",
       "  </thead>\n",
       "  <tbody>\n",
       "    <tr>\n",
       "      <th>0</th>\n",
       "      <td>Mumbai</td>\n",
       "      <td>Maharashtra</td>\n",
       "      <td>12,478,447</td>\n",
       "    </tr>\n",
       "    <tr>\n",
       "      <th>1</th>\n",
       "      <td>Kanpur</td>\n",
       "      <td>Uttar Pradesh</td>\n",
       "      <td>2,920,067</td>\n",
       "    </tr>\n",
       "    <tr>\n",
       "      <th>2</th>\n",
       "      <td>Delhi</td>\n",
       "      <td>Delhi</td>\n",
       "      <td>11,007,835</td>\n",
       "    </tr>\n",
       "    <tr>\n",
       "      <th>3</th>\n",
       "      <td>Lucknow</td>\n",
       "      <td>Uttar Pradesh</td>\n",
       "      <td>2,901,474</td>\n",
       "    </tr>\n",
       "    <tr>\n",
       "      <th>4</th>\n",
       "      <td>Bangalore</td>\n",
       "      <td>Karnataka</td>\n",
       "      <td>8,425,970</td>\n",
       "    </tr>\n",
       "  </tbody>\n",
       "</table>\n",
       "</div>"
      ],
      "text/plain": [
       "        city          state  population\n",
       "0     Mumbai    Maharashtra  12,478,447\n",
       "1     Kanpur  Uttar Pradesh   2,920,067\n",
       "2      Delhi          Delhi  11,007,835\n",
       "3    Lucknow  Uttar Pradesh   2,901,474\n",
       "4  Bangalore      Karnataka   8,425,970"
      ]
     },
     "execution_count": 88,
     "metadata": {},
     "output_type": "execute_result"
    }
   ],
   "source": [
    "lc = soup.find_all('table', class_ = 'navbox')[0].find_all('td')[1:]\n",
    "largest_cities = []\n",
    "for i in lc:\n",
    "    largest_cities.append(i.text.strip())\n",
    "    \n",
    "index = largest_cities.index('BangaloreHyderabad')\n",
    "\n",
    "del largest_cities[index]\n",
    "\n",
    "df_dict = {}\n",
    "for i in range(1,4):\n",
    "    df_dict[i] = largest_cities[i::4]\n",
    "\n",
    "    \n",
    "largest_cities_df = pd.DataFrame(df_dict)\n",
    "largest_cities_df.columns = ['city','state','population']\n",
    "largest_cities_df.head()"
   ]
  },
  {
   "cell_type": "code",
   "execution_count": 89,
   "metadata": {},
   "outputs": [
    {
     "data": {
      "text/html": [
       "<div>\n",
       "<style scoped>\n",
       "    .dataframe tbody tr th:only-of-type {\n",
       "        vertical-align: middle;\n",
       "    }\n",
       "\n",
       "    .dataframe tbody tr th {\n",
       "        vertical-align: top;\n",
       "    }\n",
       "\n",
       "    .dataframe thead th {\n",
       "        text-align: right;\n",
       "    }\n",
       "</style>\n",
       "<table border=\"1\" class=\"dataframe\">\n",
       "  <thead>\n",
       "    <tr style=\"text-align: right;\">\n",
       "      <th></th>\n",
       "      <th>period</th>\n",
       "      <th>life_expec_in_years</th>\n",
       "    </tr>\n",
       "  </thead>\n",
       "  <tbody>\n",
       "    <tr>\n",
       "      <th>0</th>\n",
       "      <td>1950–1955</td>\n",
       "      <td>36.6</td>\n",
       "    </tr>\n",
       "    <tr>\n",
       "      <th>1</th>\n",
       "      <td>1985–1990</td>\n",
       "      <td>56.7</td>\n",
       "    </tr>\n",
       "    <tr>\n",
       "      <th>2</th>\n",
       "      <td>1955–1960</td>\n",
       "      <td>39.7</td>\n",
       "    </tr>\n",
       "    <tr>\n",
       "      <th>3</th>\n",
       "      <td>1990–1995</td>\n",
       "      <td>59.1</td>\n",
       "    </tr>\n",
       "    <tr>\n",
       "      <th>4</th>\n",
       "      <td>1960–1965</td>\n",
       "      <td>42.7</td>\n",
       "    </tr>\n",
       "  </tbody>\n",
       "</table>\n",
       "</div>"
      ],
      "text/plain": [
       "      period life_expec_in_years\n",
       "0  1950–1955                36.6\n",
       "1  1985–1990                56.7\n",
       "2  1955–1960                39.7\n",
       "3  1990–1995                59.1\n",
       "4  1960–1965                42.7"
      ]
     },
     "execution_count": 89,
     "metadata": {},
     "output_type": "execute_result"
    }
   ],
   "source": [
    "life_expec = soup.find_all('table',class_ = 'wikitable')[18]\n",
    "life_dict = {i:[] for i in range(2)}\n",
    "life_dict\n",
    "\n",
    "life_expectaion = []\n",
    "for i in range(0,2):\n",
    "    life_expectaion.append(life_expec.find_all('td')[i::2])\n",
    "    \n",
    "for i in range(len(life_dict)):\n",
    "    data = get_data(life_expectaion[i])\n",
    "    life_dict[i] = data\n",
    "    \n",
    "life_expe_df = pd.DataFrame(life_dict)\n",
    "life_expe_df.columns = ['period','life_expec_in_years']\n",
    "life_expe_df.head()"
   ]
  },
  {
   "cell_type": "markdown",
   "metadata": {},
   "source": [
    "- Collected all the necessary tables\n",
    "\n",
    "Let's move ahead to clean the tables"
   ]
  },
  {
   "cell_type": "markdown",
   "metadata": {},
   "source": [
    "<a id='Cleaning Data'></a>\n",
    "## Data Cleaning"
   ]
  },
  {
   "cell_type": "markdown",
   "metadata": {},
   "source": [
    "- First of all assign names to all the columns of dataframes"
   ]
  },
  {
   "cell_type": "code",
   "execution_count": 90,
   "metadata": {},
   "outputs": [],
   "source": [
    "# create_dataframe function return a dataframe by a taking dictionary and column names as input.\n",
    "def create_dataframe(df,cols):\n",
    "    df=pd.DataFrame(df)\n",
    "    df.columns = cols\n",
    "    return df"
   ]
  },
  {
   "cell_type": "markdown",
   "metadata": {},
   "source": [
    "### Dataframe has population and growth % under british raj"
   ]
  },
  {
   "cell_type": "code",
   "execution_count": 91,
   "metadata": {},
   "outputs": [
    {
     "name": "stdout",
     "output_type": "stream",
     "text": [
      "Number of observations:(8, 3)\n"
     ]
    },
    {
     "data": {
      "text/html": [
       "<div>\n",
       "<style scoped>\n",
       "    .dataframe tbody tr th:only-of-type {\n",
       "        vertical-align: middle;\n",
       "    }\n",
       "\n",
       "    .dataframe tbody tr th {\n",
       "        vertical-align: top;\n",
       "    }\n",
       "\n",
       "    .dataframe thead th {\n",
       "        text-align: right;\n",
       "    }\n",
       "</style>\n",
       "<table border=\"1\" class=\"dataframe\">\n",
       "  <thead>\n",
       "    <tr style=\"text-align: right;\">\n",
       "      <th></th>\n",
       "      <th>Census year</th>\n",
       "      <th>Population</th>\n",
       "      <th>Growth (%)</th>\n",
       "    </tr>\n",
       "  </thead>\n",
       "  <tbody>\n",
       "    <tr>\n",
       "      <th>0</th>\n",
       "      <td>1871[35]</td>\n",
       "      <td>238,830,958</td>\n",
       "      <td>–</td>\n",
       "    </tr>\n",
       "    <tr>\n",
       "      <th>1</th>\n",
       "      <td>1881[36]</td>\n",
       "      <td>253,896,330</td>\n",
       "      <td>6.3</td>\n",
       "    </tr>\n",
       "    <tr>\n",
       "      <th>2</th>\n",
       "      <td>1891[35]</td>\n",
       "      <td>287,223,431</td>\n",
       "      <td>13.1</td>\n",
       "    </tr>\n",
       "    <tr>\n",
       "      <th>3</th>\n",
       "      <td>1901[35]</td>\n",
       "      <td>293,550,310</td>\n",
       "      <td>2.2</td>\n",
       "    </tr>\n",
       "    <tr>\n",
       "      <th>4</th>\n",
       "      <td>1911[37]</td>\n",
       "      <td>315,156,396</td>\n",
       "      <td>7.4</td>\n",
       "    </tr>\n",
       "  </tbody>\n",
       "</table>\n",
       "</div>"
      ],
      "text/plain": [
       "  Census year   Population Growth (%)\n",
       "0    1871[35]  238,830,958          –\n",
       "1    1881[36]  253,896,330        6.3\n",
       "2    1891[35]  287,223,431       13.1\n",
       "3    1901[35]  293,550,310        2.2\n",
       "4    1911[37]  315,156,396        7.4"
      ]
     },
     "execution_count": 91,
     "metadata": {},
     "output_type": "execute_result"
    }
   ],
   "source": [
    "pop_under_british_df = create_dataframe(pop_under_british_dict,pop_under_british_cols )\n",
    "print(f\"Number of observations:{pop_under_british_df.shape}\")\n",
    "pop_under_british_df.head()"
   ]
  },
  {
   "cell_type": "markdown",
   "metadata": {},
   "source": [
    "### Dataframe has information about population growth per decade"
   ]
  },
  {
   "cell_type": "code",
   "execution_count": 92,
   "metadata": {},
   "outputs": [
    {
     "name": "stdout",
     "output_type": "stream",
     "text": [
      "Number of observations:(7, 3)\n"
     ]
    },
    {
     "data": {
      "text/html": [
       "<div>\n",
       "<style scoped>\n",
       "    .dataframe tbody tr th:only-of-type {\n",
       "        vertical-align: middle;\n",
       "    }\n",
       "\n",
       "    .dataframe tbody tr th {\n",
       "        vertical-align: top;\n",
       "    }\n",
       "\n",
       "    .dataframe thead th {\n",
       "        text-align: right;\n",
       "    }\n",
       "</style>\n",
       "<table border=\"1\" class=\"dataframe\">\n",
       "  <thead>\n",
       "    <tr style=\"text-align: right;\">\n",
       "      <th></th>\n",
       "      <th>Census year</th>\n",
       "      <th>Population</th>\n",
       "      <th>Change (%)</th>\n",
       "    </tr>\n",
       "  </thead>\n",
       "  <tbody>\n",
       "    <tr>\n",
       "      <th>0</th>\n",
       "      <td>1951</td>\n",
       "      <td>361,088,000</td>\n",
       "      <td>–</td>\n",
       "    </tr>\n",
       "    <tr>\n",
       "      <th>1</th>\n",
       "      <td>1961</td>\n",
       "      <td>439,235,000</td>\n",
       "      <td>21.6</td>\n",
       "    </tr>\n",
       "    <tr>\n",
       "      <th>2</th>\n",
       "      <td>1971</td>\n",
       "      <td>548,160,000</td>\n",
       "      <td>24.8</td>\n",
       "    </tr>\n",
       "    <tr>\n",
       "      <th>3</th>\n",
       "      <td>1981</td>\n",
       "      <td>683,329,000</td>\n",
       "      <td>24.7</td>\n",
       "    </tr>\n",
       "    <tr>\n",
       "      <th>4</th>\n",
       "      <td>1991</td>\n",
       "      <td>846,387,888</td>\n",
       "      <td>23.9</td>\n",
       "    </tr>\n",
       "  </tbody>\n",
       "</table>\n",
       "</div>"
      ],
      "text/plain": [
       "  Census year   Population Change (%)\n",
       "0        1951  361,088,000          –\n",
       "1        1961  439,235,000       21.6\n",
       "2        1971  548,160,000       24.8\n",
       "3        1981  683,329,000       24.7\n",
       "4        1991  846,387,888       23.9"
      ]
     },
     "execution_count": 92,
     "metadata": {},
     "output_type": "execute_result"
    }
   ],
   "source": [
    "pop_per_decade_df= create_dataframe(pop_per_decade_dict,pop_per_decade_cols)\n",
    "print(f\"Number of observations:{pop_per_decade_df.shape}\")\n",
    "pop_per_decade_df.head()"
   ]
  },
  {
   "cell_type": "markdown",
   "metadata": {},
   "source": [
    "### Dataframe has information about population distribution by states"
   ]
  },
  {
   "cell_type": "code",
   "execution_count": 93,
   "metadata": {},
   "outputs": [
    {
     "name": "stdout",
     "output_type": "stream",
     "text": [
      "['Rank', 'State/UT', 'Population[51]', 'Percent (%)', 'Male', 'Female', 'Difference between male and female', 'Sex Ratio', 'Rural[52]', 'Urban[52]', 'Area[53] (km2)', 'Density (per km2)']\n"
     ]
    }
   ],
   "source": [
    "print(pop_dist_by_states_cols[:-12])"
   ]
  },
  {
   "cell_type": "code",
   "execution_count": 94,
   "metadata": {},
   "outputs": [
    {
     "name": "stdout",
     "output_type": "stream",
     "text": [
      "Number of observations:(36, 12)\n"
     ]
    },
    {
     "data": {
      "text/html": [
       "<div>\n",
       "<style scoped>\n",
       "    .dataframe tbody tr th:only-of-type {\n",
       "        vertical-align: middle;\n",
       "    }\n",
       "\n",
       "    .dataframe tbody tr th {\n",
       "        vertical-align: top;\n",
       "    }\n",
       "\n",
       "    .dataframe thead th {\n",
       "        text-align: right;\n",
       "    }\n",
       "</style>\n",
       "<table border=\"1\" class=\"dataframe\">\n",
       "  <thead>\n",
       "    <tr style=\"text-align: right;\">\n",
       "      <th></th>\n",
       "      <th>Rank</th>\n",
       "      <th>State/UT</th>\n",
       "      <th>Population[51]</th>\n",
       "      <th>Percent (%)</th>\n",
       "      <th>Male</th>\n",
       "      <th>Female</th>\n",
       "      <th>Difference between male and female</th>\n",
       "      <th>Sex Ratio</th>\n",
       "      <th>Rural[52]</th>\n",
       "      <th>Urban[52]</th>\n",
       "      <th>Area[53] (km2)</th>\n",
       "      <th>Density (per km2)</th>\n",
       "    </tr>\n",
       "  </thead>\n",
       "  <tbody>\n",
       "    <tr>\n",
       "      <th>0</th>\n",
       "      <td>1</td>\n",
       "      <td>Uttar Pradesh</td>\n",
       "      <td>199,812,341</td>\n",
       "      <td>16.50</td>\n",
       "      <td>104,480,510</td>\n",
       "      <td>95,331,831</td>\n",
       "      <td>9,148,679</td>\n",
       "      <td>930</td>\n",
       "      <td>155,111,022</td>\n",
       "      <td>44,470,455</td>\n",
       "      <td>240,928</td>\n",
       "      <td>828</td>\n",
       "    </tr>\n",
       "    <tr>\n",
       "      <th>1</th>\n",
       "      <td>2</td>\n",
       "      <td>Maharashtra</td>\n",
       "      <td>112,374,333</td>\n",
       "      <td>9.28</td>\n",
       "      <td>58,243,056</td>\n",
       "      <td>54,131,277</td>\n",
       "      <td>4,111,779</td>\n",
       "      <td>929</td>\n",
       "      <td>61,545,441</td>\n",
       "      <td>50,827,531</td>\n",
       "      <td>307,713</td>\n",
       "      <td>365</td>\n",
       "    </tr>\n",
       "    <tr>\n",
       "      <th>2</th>\n",
       "      <td>3</td>\n",
       "      <td>Bihar</td>\n",
       "      <td>104,099,452</td>\n",
       "      <td>8.60</td>\n",
       "      <td>54,278,157</td>\n",
       "      <td>49,821,295</td>\n",
       "      <td>4,456,862</td>\n",
       "      <td>918</td>\n",
       "      <td>92,075,028</td>\n",
       "      <td>11,729,609</td>\n",
       "      <td>94,163</td>\n",
       "      <td>1,102</td>\n",
       "    </tr>\n",
       "    <tr>\n",
       "      <th>3</th>\n",
       "      <td>4</td>\n",
       "      <td>West Bengal</td>\n",
       "      <td>91,276,115</td>\n",
       "      <td>7.54</td>\n",
       "      <td>46,809,027</td>\n",
       "      <td>44,467,088</td>\n",
       "      <td>2,341,939</td>\n",
       "      <td>950</td>\n",
       "      <td>62,213,676</td>\n",
       "      <td>29,134,060</td>\n",
       "      <td>88,752</td>\n",
       "      <td>1,030</td>\n",
       "    </tr>\n",
       "    <tr>\n",
       "      <th>4</th>\n",
       "      <td>5</td>\n",
       "      <td>Madhya Pradesh</td>\n",
       "      <td>72,626,809</td>\n",
       "      <td>6.00</td>\n",
       "      <td>37,612,306</td>\n",
       "      <td>35,014,503</td>\n",
       "      <td>2,597,803</td>\n",
       "      <td>931</td>\n",
       "      <td>52,537,899</td>\n",
       "      <td>20,059,666</td>\n",
       "      <td>308,245</td>\n",
       "      <td>236</td>\n",
       "    </tr>\n",
       "  </tbody>\n",
       "</table>\n",
       "</div>"
      ],
      "text/plain": [
       "  Rank        State/UT Population[51] Percent (%)         Male      Female  \\\n",
       "0    1   Uttar Pradesh    199,812,341       16.50  104,480,510  95,331,831   \n",
       "1    2     Maharashtra    112,374,333        9.28   58,243,056  54,131,277   \n",
       "2    3           Bihar    104,099,452        8.60   54,278,157  49,821,295   \n",
       "3    4     West Bengal     91,276,115        7.54   46,809,027  44,467,088   \n",
       "4    5  Madhya Pradesh     72,626,809        6.00   37,612,306  35,014,503   \n",
       "\n",
       "  Difference between male and female Sex Ratio    Rural[52]   Urban[52]  \\\n",
       "0                          9,148,679       930  155,111,022  44,470,455   \n",
       "1                          4,111,779       929   61,545,441  50,827,531   \n",
       "2                          4,456,862       918   92,075,028  11,729,609   \n",
       "3                          2,341,939       950   62,213,676  29,134,060   \n",
       "4                          2,597,803       931   52,537,899  20,059,666   \n",
       "\n",
       "  Area[53] (km2) Density (per km2)  \n",
       "0        240,928               828  \n",
       "1        307,713               365  \n",
       "2         94,163             1,102  \n",
       "3         88,752             1,030  \n",
       "4        308,245               236  "
      ]
     },
     "execution_count": 94,
     "metadata": {},
     "output_type": "execute_result"
    }
   ],
   "source": [
    "pop_dist_by_states_df = create_dataframe(pop_dist_by_states_dict,pop_dist_by_states_cols[:-12])\n",
    "print(f\"Number of observations:{pop_dist_by_states_df.shape}\")\n",
    "pop_dist_by_states_df.head()"
   ]
  },
  {
   "cell_type": "markdown",
   "metadata": {},
   "source": [
    "### Dataframe has information about population distribution between age 0 and 6 by states."
   ]
  },
  {
   "cell_type": "code",
   "execution_count": 95,
   "metadata": {},
   "outputs": [
    {
     "data": {
      "text/plain": [
       "['State or UT code', 'State or UT', 'Total', 'Male', 'Female', 'Difference']"
      ]
     },
     "execution_count": 95,
     "metadata": {},
     "output_type": "execute_result"
    }
   ],
   "source": [
    "pop_bet_age_0_6_cols[:-6]"
   ]
  },
  {
   "cell_type": "code",
   "execution_count": 96,
   "metadata": {},
   "outputs": [
    {
     "name": "stdout",
     "output_type": "stream",
     "text": [
      "Number of observations:(35, 6)\n"
     ]
    },
    {
     "data": {
      "text/html": [
       "<div>\n",
       "<style scoped>\n",
       "    .dataframe tbody tr th:only-of-type {\n",
       "        vertical-align: middle;\n",
       "    }\n",
       "\n",
       "    .dataframe tbody tr th {\n",
       "        vertical-align: top;\n",
       "    }\n",
       "\n",
       "    .dataframe thead th {\n",
       "        text-align: right;\n",
       "    }\n",
       "</style>\n",
       "<table border=\"1\" class=\"dataframe\">\n",
       "  <thead>\n",
       "    <tr style=\"text-align: right;\">\n",
       "      <th></th>\n",
       "      <th>State or UT code</th>\n",
       "      <th>State or UT</th>\n",
       "      <th>Total</th>\n",
       "      <th>Male</th>\n",
       "      <th>Female</th>\n",
       "      <th>Difference</th>\n",
       "    </tr>\n",
       "  </thead>\n",
       "  <tbody>\n",
       "    <tr>\n",
       "      <th>0</th>\n",
       "      <td>1</td>\n",
       "      <td>Jammu and Kashmir</td>\n",
       "      <td>2,008,670</td>\n",
       "      <td>1,080,662</td>\n",
       "      <td>927,982</td>\n",
       "      <td>152,680</td>\n",
       "    </tr>\n",
       "    <tr>\n",
       "      <th>1</th>\n",
       "      <td>2</td>\n",
       "      <td>Himachal Pradesh</td>\n",
       "      <td>763,864</td>\n",
       "      <td>400,681</td>\n",
       "      <td>363,183</td>\n",
       "      <td>37,498</td>\n",
       "    </tr>\n",
       "    <tr>\n",
       "      <th>2</th>\n",
       "      <td>3</td>\n",
       "      <td>Punjab</td>\n",
       "      <td>2,941,570</td>\n",
       "      <td>1,593,262</td>\n",
       "      <td>1,348,308</td>\n",
       "      <td>244,954</td>\n",
       "    </tr>\n",
       "    <tr>\n",
       "      <th>3</th>\n",
       "      <td>4</td>\n",
       "      <td>Chandigarh</td>\n",
       "      <td>117,953</td>\n",
       "      <td>63,187</td>\n",
       "      <td>54,766</td>\n",
       "      <td>8,421</td>\n",
       "    </tr>\n",
       "    <tr>\n",
       "      <th>4</th>\n",
       "      <td>5</td>\n",
       "      <td>Uttarakhand</td>\n",
       "      <td>1,328,844</td>\n",
       "      <td>704,769</td>\n",
       "      <td>624,075</td>\n",
       "      <td>80,694</td>\n",
       "    </tr>\n",
       "  </tbody>\n",
       "</table>\n",
       "</div>"
      ],
      "text/plain": [
       "  State or UT code        State or UT      Total       Male     Female  \\\n",
       "0                1  Jammu and Kashmir  2,008,670  1,080,662    927,982   \n",
       "1                2   Himachal Pradesh    763,864    400,681    363,183   \n",
       "2                3             Punjab  2,941,570  1,593,262  1,348,308   \n",
       "3                4         Chandigarh    117,953     63,187     54,766   \n",
       "4                5        Uttarakhand  1,328,844    704,769    624,075   \n",
       "\n",
       "  Difference  \n",
       "0    152,680  \n",
       "1     37,498  \n",
       "2    244,954  \n",
       "3      8,421  \n",
       "4     80,694  "
      ]
     },
     "execution_count": 96,
     "metadata": {},
     "output_type": "execute_result"
    }
   ],
   "source": [
    "pop_bet_age_0_6_df = create_dataframe(pop_bet_age_0_6_dict,pop_bet_age_0_6_cols[:-6])\n",
    "print(f\"Number of observations:{pop_bet_age_0_6_df.shape}\")\n",
    "pop_bet_age_0_6_df.head()"
   ]
  },
  {
   "cell_type": "markdown",
   "metadata": {},
   "source": [
    "### Dataframe has information about population distribution above age 7 by states."
   ]
  },
  {
   "cell_type": "code",
   "execution_count": 97,
   "metadata": {},
   "outputs": [
    {
     "data": {
      "text/plain": [
       "['State or UT code', 'State or UT', 'Total', 'Male', 'Female']"
      ]
     },
     "execution_count": 97,
     "metadata": {},
     "output_type": "execute_result"
    }
   ],
   "source": [
    "pop_abv_7_cols[:-5]"
   ]
  },
  {
   "cell_type": "code",
   "execution_count": 98,
   "metadata": {},
   "outputs": [
    {
     "name": "stdout",
     "output_type": "stream",
     "text": [
      "Number of observations:(35, 5)\n"
     ]
    },
    {
     "data": {
      "text/html": [
       "<div>\n",
       "<style scoped>\n",
       "    .dataframe tbody tr th:only-of-type {\n",
       "        vertical-align: middle;\n",
       "    }\n",
       "\n",
       "    .dataframe tbody tr th {\n",
       "        vertical-align: top;\n",
       "    }\n",
       "\n",
       "    .dataframe thead th {\n",
       "        text-align: right;\n",
       "    }\n",
       "</style>\n",
       "<table border=\"1\" class=\"dataframe\">\n",
       "  <thead>\n",
       "    <tr style=\"text-align: right;\">\n",
       "      <th></th>\n",
       "      <th>State or UT code</th>\n",
       "      <th>State or UT</th>\n",
       "      <th>Total</th>\n",
       "      <th>Male</th>\n",
       "      <th>Female</th>\n",
       "    </tr>\n",
       "  </thead>\n",
       "  <tbody>\n",
       "    <tr>\n",
       "      <th>0</th>\n",
       "      <td>1</td>\n",
       "      <td>Jammu and Kashmir</td>\n",
       "      <td>–</td>\n",
       "      <td>–</td>\n",
       "      <td>–</td>\n",
       "    </tr>\n",
       "    <tr>\n",
       "      <th>1</th>\n",
       "      <td>2</td>\n",
       "      <td>Himachal Pradesh</td>\n",
       "      <td>–</td>\n",
       "      <td>–</td>\n",
       "      <td>–</td>\n",
       "    </tr>\n",
       "    <tr>\n",
       "      <th>2</th>\n",
       "      <td>3</td>\n",
       "      <td>Punjab</td>\n",
       "      <td>–</td>\n",
       "      <td>–</td>\n",
       "      <td>–</td>\n",
       "    </tr>\n",
       "    <tr>\n",
       "      <th>3</th>\n",
       "      <td>4</td>\n",
       "      <td>Chandigarh</td>\n",
       "      <td>–</td>\n",
       "      <td>–</td>\n",
       "      <td>–</td>\n",
       "    </tr>\n",
       "    <tr>\n",
       "      <th>4</th>\n",
       "      <td>5</td>\n",
       "      <td>Uttarakhand</td>\n",
       "      <td>–</td>\n",
       "      <td>–</td>\n",
       "      <td>–</td>\n",
       "    </tr>\n",
       "  </tbody>\n",
       "</table>\n",
       "</div>"
      ],
      "text/plain": [
       "  State or UT code        State or UT Total Male Female\n",
       "0                1  Jammu and Kashmir     –    –      –\n",
       "1                2   Himachal Pradesh     –    –      –\n",
       "2                3             Punjab     –    –      –\n",
       "3                4         Chandigarh     –    –      –\n",
       "4                5        Uttarakhand     –    –      –"
      ]
     },
     "execution_count": 98,
     "metadata": {},
     "output_type": "execute_result"
    }
   ],
   "source": [
    "pop_abv_7_df = create_dataframe(pop_abv_7_dict,pop_abv_7_cols[:-5])\n",
    "print(f\"Number of observations:{pop_abv_7_df.shape}\")\n",
    "pop_abv_7_df.head()"
   ]
  },
  {
   "cell_type": "markdown",
   "metadata": {},
   "source": [
    "### Dataframe has information about literacy rate by states."
   ]
  },
  {
   "cell_type": "code",
   "execution_count": 99,
   "metadata": {},
   "outputs": [
    {
     "data": {
      "text/plain": [
       "['State or UT code', 'State or UT', 'Overall (%)', 'Male (%)', 'Female (%)']"
      ]
     },
     "execution_count": 99,
     "metadata": {},
     "output_type": "execute_result"
    }
   ],
   "source": [
    "literacy_rate_cols[:-5]"
   ]
  },
  {
   "cell_type": "code",
   "execution_count": 100,
   "metadata": {},
   "outputs": [
    {
     "name": "stdout",
     "output_type": "stream",
     "text": [
      "Number of observations:(35, 5)\n"
     ]
    },
    {
     "data": {
      "text/html": [
       "<div>\n",
       "<style scoped>\n",
       "    .dataframe tbody tr th:only-of-type {\n",
       "        vertical-align: middle;\n",
       "    }\n",
       "\n",
       "    .dataframe tbody tr th {\n",
       "        vertical-align: top;\n",
       "    }\n",
       "\n",
       "    .dataframe thead th {\n",
       "        text-align: right;\n",
       "    }\n",
       "</style>\n",
       "<table border=\"1\" class=\"dataframe\">\n",
       "  <thead>\n",
       "    <tr style=\"text-align: right;\">\n",
       "      <th></th>\n",
       "      <th>State or UT code</th>\n",
       "      <th>State or UT</th>\n",
       "      <th>Overall (%)</th>\n",
       "      <th>Male (%)</th>\n",
       "      <th>Female (%)</th>\n",
       "    </tr>\n",
       "  </thead>\n",
       "  <tbody>\n",
       "    <tr>\n",
       "      <th>0</th>\n",
       "      <td>1</td>\n",
       "      <td>Jammu and Kashmir</td>\n",
       "      <td>86.61</td>\n",
       "      <td>87.26</td>\n",
       "      <td>86.23</td>\n",
       "    </tr>\n",
       "    <tr>\n",
       "      <th>1</th>\n",
       "      <td>2</td>\n",
       "      <td>Himachal Pradesh</td>\n",
       "      <td>83.78</td>\n",
       "      <td>90.83</td>\n",
       "      <td>76.60</td>\n",
       "    </tr>\n",
       "    <tr>\n",
       "      <th>2</th>\n",
       "      <td>3</td>\n",
       "      <td>Punjab</td>\n",
       "      <td>76.60</td>\n",
       "      <td>81.48</td>\n",
       "      <td>71.34</td>\n",
       "    </tr>\n",
       "    <tr>\n",
       "      <th>3</th>\n",
       "      <td>4</td>\n",
       "      <td>Chandigarh</td>\n",
       "      <td>86.43</td>\n",
       "      <td>90.54</td>\n",
       "      <td>81.38</td>\n",
       "    </tr>\n",
       "    <tr>\n",
       "      <th>4</th>\n",
       "      <td>5</td>\n",
       "      <td>Uttarakhand</td>\n",
       "      <td>79.63</td>\n",
       "      <td>88.33</td>\n",
       "      <td>70.70</td>\n",
       "    </tr>\n",
       "  </tbody>\n",
       "</table>\n",
       "</div>"
      ],
      "text/plain": [
       "  State or UT code        State or UT Overall (%) Male (%) Female (%)\n",
       "0                1  Jammu and Kashmir       86.61    87.26      86.23\n",
       "1                2   Himachal Pradesh       83.78    90.83      76.60\n",
       "2                3             Punjab       76.60    81.48      71.34\n",
       "3                4         Chandigarh       86.43    90.54      81.38\n",
       "4                5        Uttarakhand       79.63    88.33      70.70"
      ]
     },
     "execution_count": 100,
     "metadata": {},
     "output_type": "execute_result"
    }
   ],
   "source": [
    "literacy_rate_df = create_dataframe(literacy_rate_dict,literacy_rate_cols[:-5])\n",
    "print(f\"Number of observations:{literacy_rate_df.shape}\")\n",
    "literacy_rate_df.head()"
   ]
  },
  {
   "cell_type": "markdown",
   "metadata": {},
   "source": [
    "### Dataframe has information about languages of india by number of native speakers at the 2001 census."
   ]
  },
  {
   "cell_type": "code",
   "execution_count": 101,
   "metadata": {},
   "outputs": [
    {
     "name": "stdout",
     "output_type": "stream",
     "text": [
      "Number of observations:(29, 4)\n"
     ]
    },
    {
     "data": {
      "text/html": [
       "<div>\n",
       "<style scoped>\n",
       "    .dataframe tbody tr th:only-of-type {\n",
       "        vertical-align: middle;\n",
       "    }\n",
       "\n",
       "    .dataframe tbody tr th {\n",
       "        vertical-align: top;\n",
       "    }\n",
       "\n",
       "    .dataframe thead th {\n",
       "        text-align: right;\n",
       "    }\n",
       "</style>\n",
       "<table border=\"1\" class=\"dataframe\">\n",
       "  <thead>\n",
       "    <tr style=\"text-align: right;\">\n",
       "      <th></th>\n",
       "      <th>Rank</th>\n",
       "      <th>Language</th>\n",
       "      <th>Speakers</th>\n",
       "      <th>Percentage (%)</th>\n",
       "    </tr>\n",
       "  </thead>\n",
       "  <tbody>\n",
       "    <tr>\n",
       "      <th>0</th>\n",
       "      <td>1</td>\n",
       "      <td>Hindi[74]</td>\n",
       "      <td>422,048,642</td>\n",
       "      <td>41.030</td>\n",
       "    </tr>\n",
       "    <tr>\n",
       "      <th>1</th>\n",
       "      <td>2</td>\n",
       "      <td>Bengali</td>\n",
       "      <td>83,369,769</td>\n",
       "      <td>8.110</td>\n",
       "    </tr>\n",
       "    <tr>\n",
       "      <th>2</th>\n",
       "      <td>3</td>\n",
       "      <td>Telugu</td>\n",
       "      <td>74,002,856</td>\n",
       "      <td>7.190</td>\n",
       "    </tr>\n",
       "    <tr>\n",
       "      <th>3</th>\n",
       "      <td>4</td>\n",
       "      <td>Marathi</td>\n",
       "      <td>71,936,894</td>\n",
       "      <td>6.990</td>\n",
       "    </tr>\n",
       "    <tr>\n",
       "      <th>4</th>\n",
       "      <td>5</td>\n",
       "      <td>Tamil</td>\n",
       "      <td>60,793,814</td>\n",
       "      <td>5.910</td>\n",
       "    </tr>\n",
       "  </tbody>\n",
       "</table>\n",
       "</div>"
      ],
      "text/plain": [
       "  Rank   Language     Speakers Percentage (%)\n",
       "0    1  Hindi[74]  422,048,642         41.030\n",
       "1    2    Bengali   83,369,769          8.110\n",
       "2    3     Telugu   74,002,856          7.190\n",
       "3    4    Marathi   71,936,894          6.990\n",
       "4    5      Tamil   60,793,814          5.910"
      ]
     },
     "execution_count": 101,
     "metadata": {},
     "output_type": "execute_result"
    }
   ],
   "source": [
    "native_speakers_df  = create_dataframe(native_speakers_dict,native_speakers_cols)\n",
    "print(f\"Number of observations:{native_speakers_df.shape}\")\n",
    "native_speakers_df.head()"
   ]
  },
  {
   "cell_type": "markdown",
   "metadata": {},
   "source": [
    "### Dataframe has information about United Nations, World Population Prospects: The 2015 revision – India"
   ]
  },
  {
   "cell_type": "code",
   "execution_count": 102,
   "metadata": {},
   "outputs": [
    {
     "name": "stdout",
     "output_type": "stream",
     "text": [
      "Number of observations:(13, 9)\n"
     ]
    },
    {
     "data": {
      "text/html": [
       "<div>\n",
       "<style scoped>\n",
       "    .dataframe tbody tr th:only-of-type {\n",
       "        vertical-align: middle;\n",
       "    }\n",
       "\n",
       "    .dataframe tbody tr th {\n",
       "        vertical-align: top;\n",
       "    }\n",
       "\n",
       "    .dataframe thead th {\n",
       "        text-align: right;\n",
       "    }\n",
       "</style>\n",
       "<table border=\"1\" class=\"dataframe\">\n",
       "  <thead>\n",
       "    <tr style=\"text-align: right;\">\n",
       "      <th></th>\n",
       "      <th>Period</th>\n",
       "      <th>Births per year</th>\n",
       "      <th>Deaths per year</th>\n",
       "      <th>Natural change per year</th>\n",
       "      <th>CBR1</th>\n",
       "      <th>CDR1</th>\n",
       "      <th>NC1</th>\n",
       "      <th>TFR1</th>\n",
       "      <th>IMR1</th>\n",
       "    </tr>\n",
       "  </thead>\n",
       "  <tbody>\n",
       "    <tr>\n",
       "      <th>0</th>\n",
       "      <td>1950–1955</td>\n",
       "      <td>16,832,000</td>\n",
       "      <td>9,928,000</td>\n",
       "      <td>6,904,000</td>\n",
       "      <td>43.3</td>\n",
       "      <td>25.5</td>\n",
       "      <td>17.7</td>\n",
       "      <td>5.90</td>\n",
       "      <td>165.0</td>\n",
       "    </tr>\n",
       "    <tr>\n",
       "      <th>1</th>\n",
       "      <td>1955–1960</td>\n",
       "      <td>17,981,000</td>\n",
       "      <td>9,686,000</td>\n",
       "      <td>8,295,000</td>\n",
       "      <td>42.1</td>\n",
       "      <td>22.7</td>\n",
       "      <td>19.4</td>\n",
       "      <td>5.90</td>\n",
       "      <td>153.1</td>\n",
       "    </tr>\n",
       "    <tr>\n",
       "      <th>2</th>\n",
       "      <td>1960–1965</td>\n",
       "      <td>19,086,000</td>\n",
       "      <td>9,358,000</td>\n",
       "      <td>9,728,000</td>\n",
       "      <td>40.4</td>\n",
       "      <td>19.8</td>\n",
       "      <td>20.6</td>\n",
       "      <td>5.82</td>\n",
       "      <td>140.1</td>\n",
       "    </tr>\n",
       "    <tr>\n",
       "      <th>3</th>\n",
       "      <td>1965–1970</td>\n",
       "      <td>20,611,000</td>\n",
       "      <td>9,057,000</td>\n",
       "      <td>11,554,000</td>\n",
       "      <td>39.2</td>\n",
       "      <td>17.2</td>\n",
       "      <td>22.0</td>\n",
       "      <td>5.69</td>\n",
       "      <td>128.5</td>\n",
       "    </tr>\n",
       "    <tr>\n",
       "      <th>4</th>\n",
       "      <td>1970–1975</td>\n",
       "      <td>22,022,000</td>\n",
       "      <td>8,821,000</td>\n",
       "      <td>13,201,000</td>\n",
       "      <td>37.5</td>\n",
       "      <td>15.0</td>\n",
       "      <td>22.5</td>\n",
       "      <td>5.26</td>\n",
       "      <td>118.0</td>\n",
       "    </tr>\n",
       "  </tbody>\n",
       "</table>\n",
       "</div>"
      ],
      "text/plain": [
       "      Period Births per year Deaths per year Natural change per year  CBR1  \\\n",
       "0  1950–1955      16,832,000       9,928,000               6,904,000  43.3   \n",
       "1  1955–1960      17,981,000       9,686,000               8,295,000  42.1   \n",
       "2  1960–1965      19,086,000       9,358,000               9,728,000  40.4   \n",
       "3  1965–1970      20,611,000       9,057,000              11,554,000  39.2   \n",
       "4  1970–1975      22,022,000       8,821,000              13,201,000  37.5   \n",
       "\n",
       "   CDR1   NC1  TFR1   IMR1  \n",
       "0  25.5  17.7  5.90  165.0  \n",
       "1  22.7  19.4  5.90  153.1  \n",
       "2  19.8  20.6  5.82  140.1  \n",
       "3  17.2  22.0  5.69  128.5  \n",
       "4  15.0  22.5  5.26  118.0  "
      ]
     },
     "execution_count": 102,
     "metadata": {},
     "output_type": "execute_result"
    }
   ],
   "source": [
    "del un_stat_dict[0][-1]\n",
    "un_stat_df = create_dataframe(un_stat_dict,un_stat_cols)\n",
    "print(f\"Number of observations:{un_stat_df.shape}\")\n",
    "un_stat_df.head()"
   ]
  },
  {
   "cell_type": "markdown",
   "metadata": {},
   "source": [
    "### Dataframe has information about Census of India\n",
    "- The numbers of births and deaths were calculated from the birth and death rates and the average population."
   ]
  },
  {
   "cell_type": "code",
   "execution_count": 103,
   "metadata": {},
   "outputs": [
    {
     "name": "stdout",
     "output_type": "stream",
     "text": [
      "Number of observations:(36, 9)\n"
     ]
    },
    {
     "data": {
      "text/html": [
       "<div>\n",
       "<style scoped>\n",
       "    .dataframe tbody tr th:only-of-type {\n",
       "        vertical-align: middle;\n",
       "    }\n",
       "\n",
       "    .dataframe tbody tr th {\n",
       "        vertical-align: top;\n",
       "    }\n",
       "\n",
       "    .dataframe thead th {\n",
       "        text-align: right;\n",
       "    }\n",
       "</style>\n",
       "<table border=\"1\" class=\"dataframe\">\n",
       "  <thead>\n",
       "    <tr style=\"text-align: right;\">\n",
       "      <th></th>\n",
       "      <th>Year</th>\n",
       "      <th>Average population(x 1000)</th>\n",
       "      <th>Live births1</th>\n",
       "      <th>Deaths1</th>\n",
       "      <th>Natural change</th>\n",
       "      <th>Crude birth rate(per 1000)</th>\n",
       "      <th>Crude death rate(per 1000)</th>\n",
       "      <th>Natural change(per 1000)</th>\n",
       "      <th>Total fertility rate</th>\n",
       "    </tr>\n",
       "  </thead>\n",
       "  <tbody>\n",
       "    <tr>\n",
       "      <th>0</th>\n",
       "      <td>1981</td>\n",
       "      <td>716,493</td>\n",
       "      <td>24,289,000</td>\n",
       "      <td>8,956,000</td>\n",
       "      <td>15,333,000</td>\n",
       "      <td>33.9</td>\n",
       "      <td>12.5</td>\n",
       "      <td>21.4</td>\n",
       "      <td>–</td>\n",
       "    </tr>\n",
       "    <tr>\n",
       "      <th>1</th>\n",
       "      <td>1982</td>\n",
       "      <td>733,152</td>\n",
       "      <td>24,781,000</td>\n",
       "      <td>8,725,000</td>\n",
       "      <td>16,056,000</td>\n",
       "      <td>33.8</td>\n",
       "      <td>11.9</td>\n",
       "      <td>21.9</td>\n",
       "      <td>–</td>\n",
       "    </tr>\n",
       "    <tr>\n",
       "      <th>2</th>\n",
       "      <td>1983</td>\n",
       "      <td>750,034</td>\n",
       "      <td>25,276,000</td>\n",
       "      <td>8,925,000</td>\n",
       "      <td>16,351,000</td>\n",
       "      <td>33.7</td>\n",
       "      <td>11.9</td>\n",
       "      <td>21.8</td>\n",
       "      <td>–</td>\n",
       "    </tr>\n",
       "    <tr>\n",
       "      <th>3</th>\n",
       "      <td>1984</td>\n",
       "      <td>767,147</td>\n",
       "      <td>26,006,000</td>\n",
       "      <td>9,666,000</td>\n",
       "      <td>16,340,000</td>\n",
       "      <td>33.9</td>\n",
       "      <td>12.6</td>\n",
       "      <td>21.3</td>\n",
       "      <td>–</td>\n",
       "    </tr>\n",
       "    <tr>\n",
       "      <th>4</th>\n",
       "      <td>1985</td>\n",
       "      <td>784,491</td>\n",
       "      <td>25,810,000</td>\n",
       "      <td>9,257,000</td>\n",
       "      <td>16,553,000</td>\n",
       "      <td>32.9</td>\n",
       "      <td>11.8</td>\n",
       "      <td>21.1</td>\n",
       "      <td>–</td>\n",
       "    </tr>\n",
       "  </tbody>\n",
       "</table>\n",
       "</div>"
      ],
      "text/plain": [
       "   Year Average population(x 1000) Live births1    Deaths1 Natural change  \\\n",
       "0  1981                    716,493   24,289,000  8,956,000     15,333,000   \n",
       "1  1982                    733,152   24,781,000  8,725,000     16,056,000   \n",
       "2  1983                    750,034   25,276,000  8,925,000     16,351,000   \n",
       "3  1984                    767,147   26,006,000  9,666,000     16,340,000   \n",
       "4  1985                    784,491   25,810,000  9,257,000     16,553,000   \n",
       "\n",
       "  Crude birth rate(per 1000) Crude death rate(per 1000)  \\\n",
       "0                       33.9                       12.5   \n",
       "1                       33.8                       11.9   \n",
       "2                       33.7                       11.9   \n",
       "3                       33.9                       12.6   \n",
       "4                       32.9                       11.8   \n",
       "\n",
       "  Natural change(per 1000) Total fertility rate  \n",
       "0                     21.4                    –  \n",
       "1                     21.9                    –  \n",
       "2                     21.8                    –  \n",
       "3                     21.3                    –  \n",
       "4                     21.1                    –  "
      ]
     },
     "execution_count": 103,
     "metadata": {},
     "output_type": "execute_result"
    }
   ],
   "source": [
    "del census_dict[0][-1]\n",
    "census_df = create_dataframe(census_dict,census_cols)\n",
    "print(f\"Number of observations:{census_df.shape}\")\n",
    "census_df.head()"
   ]
  },
  {
   "cell_type": "markdown",
   "metadata": {},
   "source": [
    "### Dataframe has structure of the population (09.02.2011) (Census) (Includes data for the Indian-administered part of Jammu and Kashmir)"
   ]
  },
  {
   "cell_type": "code",
   "execution_count": 104,
   "metadata": {},
   "outputs": [
    {
     "name": "stdout",
     "output_type": "stream",
     "text": [
      "Number of observations:(22, 5)\n"
     ]
    },
    {
     "data": {
      "text/html": [
       "<div>\n",
       "<style scoped>\n",
       "    .dataframe tbody tr th:only-of-type {\n",
       "        vertical-align: middle;\n",
       "    }\n",
       "\n",
       "    .dataframe tbody tr th {\n",
       "        vertical-align: top;\n",
       "    }\n",
       "\n",
       "    .dataframe thead th {\n",
       "        text-align: right;\n",
       "    }\n",
       "</style>\n",
       "<table border=\"1\" class=\"dataframe\">\n",
       "  <thead>\n",
       "    <tr style=\"text-align: right;\">\n",
       "      <th></th>\n",
       "      <th>Age group</th>\n",
       "      <th>Male</th>\n",
       "      <th>Female</th>\n",
       "      <th>Total</th>\n",
       "      <th>Percentage (%)</th>\n",
       "    </tr>\n",
       "  </thead>\n",
       "  <tbody>\n",
       "    <tr>\n",
       "      <th>0</th>\n",
       "      <td>0–4</td>\n",
       "      <td>58,632,074</td>\n",
       "      <td>54,174,704</td>\n",
       "      <td>112,806,778</td>\n",
       "      <td>9.32</td>\n",
       "    </tr>\n",
       "    <tr>\n",
       "      <th>1</th>\n",
       "      <td>5–9</td>\n",
       "      <td>66,300,466</td>\n",
       "      <td>60,627,660</td>\n",
       "      <td>126,928,126</td>\n",
       "      <td>10.48</td>\n",
       "    </tr>\n",
       "    <tr>\n",
       "      <th>2</th>\n",
       "      <td>10–14</td>\n",
       "      <td>69,418,835</td>\n",
       "      <td>63,290,377</td>\n",
       "      <td>132,709,212</td>\n",
       "      <td>10.96</td>\n",
       "    </tr>\n",
       "    <tr>\n",
       "      <th>3</th>\n",
       "      <td>15–19</td>\n",
       "      <td>63,982,396</td>\n",
       "      <td>56,544,053</td>\n",
       "      <td>120,526,449</td>\n",
       "      <td>9.95</td>\n",
       "    </tr>\n",
       "    <tr>\n",
       "      <th>4</th>\n",
       "      <td>20–24</td>\n",
       "      <td>57,584,693</td>\n",
       "      <td>53,839,529</td>\n",
       "      <td>111,424,222</td>\n",
       "      <td>9.20</td>\n",
       "    </tr>\n",
       "  </tbody>\n",
       "</table>\n",
       "</div>"
      ],
      "text/plain": [
       "  Age group        Male      Female        Total Percentage (%)\n",
       "0       0–4  58,632,074  54,174,704  112,806,778           9.32\n",
       "1       5–9  66,300,466  60,627,660  126,928,126          10.48\n",
       "2     10–14  69,418,835  63,290,377  132,709,212          10.96\n",
       "3     15–19  63,982,396  56,544,053  120,526,449           9.95\n",
       "4     20–24  57,584,693  53,839,529  111,424,222           9.20"
      ]
     },
     "execution_count": 104,
     "metadata": {},
     "output_type": "execute_result"
    }
   ],
   "source": [
    "pop_struc_df = create_dataframe(pop_struc_dict,pop_struc_cols[:-5])\n",
    "print(f\"Number of observations:{pop_struc_df.shape}\")\n",
    "pop_struc_df.head()"
   ]
  },
  {
   "cell_type": "markdown",
   "metadata": {},
   "source": [
    "### Dataframe has population pyramid 2016 (estimates)"
   ]
  },
  {
   "cell_type": "code",
   "execution_count": 105,
   "metadata": {},
   "outputs": [
    {
     "name": "stdout",
     "output_type": "stream",
     "text": [
      "Number of observations:(21, 4)\n"
     ]
    },
    {
     "data": {
      "text/html": [
       "<div>\n",
       "<style scoped>\n",
       "    .dataframe tbody tr th:only-of-type {\n",
       "        vertical-align: middle;\n",
       "    }\n",
       "\n",
       "    .dataframe tbody tr th {\n",
       "        vertical-align: top;\n",
       "    }\n",
       "\n",
       "    .dataframe thead th {\n",
       "        text-align: right;\n",
       "    }\n",
       "</style>\n",
       "<table border=\"1\" class=\"dataframe\">\n",
       "  <thead>\n",
       "    <tr style=\"text-align: right;\">\n",
       "      <th></th>\n",
       "      <th>Age group</th>\n",
       "      <th>Male</th>\n",
       "      <th>Female</th>\n",
       "      <th>Total</th>\n",
       "    </tr>\n",
       "  </thead>\n",
       "  <tbody>\n",
       "    <tr>\n",
       "      <th>0</th>\n",
       "      <td>0–4</td>\n",
       "      <td>8.7</td>\n",
       "      <td>8.2</td>\n",
       "      <td>8.5</td>\n",
       "    </tr>\n",
       "    <tr>\n",
       "      <th>1</th>\n",
       "      <td>5–9</td>\n",
       "      <td>9.1</td>\n",
       "      <td>8.8</td>\n",
       "      <td>8.9</td>\n",
       "    </tr>\n",
       "    <tr>\n",
       "      <th>2</th>\n",
       "      <td>10–14</td>\n",
       "      <td>9.8</td>\n",
       "      <td>9.4</td>\n",
       "      <td>9.6</td>\n",
       "    </tr>\n",
       "    <tr>\n",
       "      <th>3</th>\n",
       "      <td>15–19</td>\n",
       "      <td>10.4</td>\n",
       "      <td>9.9</td>\n",
       "      <td>10.1</td>\n",
       "    </tr>\n",
       "    <tr>\n",
       "      <th>4</th>\n",
       "      <td>20–24</td>\n",
       "      <td>10.2</td>\n",
       "      <td>10.7</td>\n",
       "      <td>10.4</td>\n",
       "    </tr>\n",
       "  </tbody>\n",
       "</table>\n",
       "</div>"
      ],
      "text/plain": [
       "  Age group  Male Female Total\n",
       "0       0–4   8.7    8.2   8.5\n",
       "1       5–9   9.1    8.8   8.9\n",
       "2     10–14   9.8    9.4   9.6\n",
       "3     15–19  10.4    9.9  10.1\n",
       "4     20–24  10.2   10.7  10.4"
      ]
     },
     "execution_count": 105,
     "metadata": {},
     "output_type": "execute_result"
    }
   ],
   "source": [
    "pop_struc_2016_df = create_dataframe(pop_struc_2016_dict,pop_struc_2016_cols )\n",
    "print(f\"Number of observations:{pop_struc_2016_df.shape}\")\n",
    "pop_struc_2016_df.head()"
   ]
  },
  {
   "cell_type": "markdown",
   "metadata": {},
   "source": [
    "CBR = crude birth rate (per 1000); TFR = total fertility rate (number of children per woman). 1Number in parenthesis represents the wanted fertility rate.\n",
    "- Collected from the Demographic Health Survey:"
   ]
  },
  {
   "cell_type": "code",
   "execution_count": 106,
   "metadata": {},
   "outputs": [
    {
     "name": "stdout",
     "output_type": "stream",
     "text": [
      "Number of observations:(29, 7)\n"
     ]
    },
    {
     "data": {
      "text/html": [
       "<div>\n",
       "<style scoped>\n",
       "    .dataframe tbody tr th:only-of-type {\n",
       "        vertical-align: middle;\n",
       "    }\n",
       "\n",
       "    .dataframe tbody tr th {\n",
       "        vertical-align: top;\n",
       "    }\n",
       "\n",
       "    .dataframe thead th {\n",
       "        text-align: right;\n",
       "    }\n",
       "</style>\n",
       "<table border=\"1\" class=\"dataframe\">\n",
       "  <thead>\n",
       "    <tr style=\"text-align: right;\">\n",
       "      <th></th>\n",
       "      <th>State (Population 2011)</th>\n",
       "      <th>CBR – Total</th>\n",
       "      <th>TFR – Total1</th>\n",
       "      <th>CBR – Urban</th>\n",
       "      <th>TFR – Urban1</th>\n",
       "      <th>CBR – Rural</th>\n",
       "      <th>TFR – Rural1</th>\n",
       "    </tr>\n",
       "  </thead>\n",
       "  <tbody>\n",
       "    <tr>\n",
       "      <th>0</th>\n",
       "      <td>Uttar Pradesh (199 812 341)</td>\n",
       "      <td>22.6</td>\n",
       "      <td>2.74 (2.06)</td>\n",
       "      <td>18.6</td>\n",
       "      <td>2.08 (1.62)</td>\n",
       "      <td>24.0</td>\n",
       "      <td>2.99 (2.22)</td>\n",
       "    </tr>\n",
       "    <tr>\n",
       "      <th>1</th>\n",
       "      <td>Maharashtra (112 374 333)</td>\n",
       "      <td>16.6</td>\n",
       "      <td>1.87 (1.57)</td>\n",
       "      <td>15.5</td>\n",
       "      <td>1.68 (1.41)</td>\n",
       "      <td>17.5</td>\n",
       "      <td>2.06 (1.73)</td>\n",
       "    </tr>\n",
       "    <tr>\n",
       "      <th>2</th>\n",
       "      <td>Bihar (104 099 452)</td>\n",
       "      <td>27.1</td>\n",
       "      <td>3.41 (2.48)</td>\n",
       "      <td>20.4</td>\n",
       "      <td>2.42 (1.83)</td>\n",
       "      <td>28.0</td>\n",
       "      <td>3.56 (2.58)</td>\n",
       "    </tr>\n",
       "    <tr>\n",
       "      <th>3</th>\n",
       "      <td>West Bengal (91 276 115)</td>\n",
       "      <td>16.6</td>\n",
       "      <td>1.77 (1.53)</td>\n",
       "      <td>14.0</td>\n",
       "      <td>1.57 (1.38)</td>\n",
       "      <td>18.0</td>\n",
       "      <td>1.85 (1.58)</td>\n",
       "    </tr>\n",
       "    <tr>\n",
       "      <th>4</th>\n",
       "      <td>Madhya Pradesh (72 626 809)</td>\n",
       "      <td>20.2</td>\n",
       "      <td>2.32 (1.82)</td>\n",
       "      <td>17.7</td>\n",
       "      <td>1.95 (1.61)</td>\n",
       "      <td>21.3</td>\n",
       "      <td>2.48 (1.91)</td>\n",
       "    </tr>\n",
       "  </tbody>\n",
       "</table>\n",
       "</div>"
      ],
      "text/plain": [
       "       State (Population 2011) CBR – Total TFR – Total1 CBR – Urban  \\\n",
       "0  Uttar Pradesh (199 812 341)        22.6  2.74 (2.06)        18.6   \n",
       "1    Maharashtra (112 374 333)        16.6  1.87 (1.57)        15.5   \n",
       "2          Bihar (104 099 452)        27.1  3.41 (2.48)        20.4   \n",
       "3     West Bengal (91 276 115)        16.6  1.77 (1.53)        14.0   \n",
       "4  Madhya Pradesh (72 626 809)        20.2  2.32 (1.82)        17.7   \n",
       "\n",
       "  TFR – Urban1 CBR – Rural TFR – Rural1  \n",
       "0  2.08 (1.62)        24.0  2.99 (2.22)  \n",
       "1  1.68 (1.41)        17.5  2.06 (1.73)  \n",
       "2  2.42 (1.83)        28.0  3.56 (2.58)  \n",
       "3  1.57 (1.38)        18.0  1.85 (1.58)  \n",
       "4  1.95 (1.61)        21.3  2.48 (1.91)  "
      ]
     },
     "execution_count": 106,
     "metadata": {},
     "output_type": "execute_result"
    }
   ],
   "source": [
    "del crude_birth_rate_dict[0][-1]\n",
    "del crude_birth_rate_dict[1][-1]\n",
    "crude_birth_rate_df = create_dataframe(crude_birth_rate_dict,crude_birth_rate_cols)\n",
    "print(f\"Number of observations:{crude_birth_rate_df.shape}\")\n",
    "crude_birth_rate_df.head()"
   ]
  },
  {
   "cell_type": "code",
   "execution_count": 107,
   "metadata": {},
   "outputs": [
    {
     "name": "stdout",
     "output_type": "stream",
     "text": [
      "Number of observations:(4, 7)\n"
     ]
    },
    {
     "data": {
      "text/html": [
       "<div>\n",
       "<style scoped>\n",
       "    .dataframe tbody tr th:only-of-type {\n",
       "        vertical-align: middle;\n",
       "    }\n",
       "\n",
       "    .dataframe tbody tr th {\n",
       "        vertical-align: top;\n",
       "    }\n",
       "\n",
       "    .dataframe thead th {\n",
       "        text-align: right;\n",
       "    }\n",
       "</style>\n",
       "<table border=\"1\" class=\"dataframe\">\n",
       "  <thead>\n",
       "    <tr style=\"text-align: right;\">\n",
       "      <th></th>\n",
       "      <th>Year</th>\n",
       "      <th>CBR – Total</th>\n",
       "      <th>TFR – Total1</th>\n",
       "      <th>CBR – Urban</th>\n",
       "      <th>TFR – Urban1</th>\n",
       "      <th>CBR – Rural</th>\n",
       "      <th>TFR – Rural1</th>\n",
       "    </tr>\n",
       "  </thead>\n",
       "  <tbody>\n",
       "    <tr>\n",
       "      <th>0</th>\n",
       "      <td>1992–1993</td>\n",
       "      <td>28.7</td>\n",
       "      <td>3.39 (2.64)</td>\n",
       "      <td>24.1</td>\n",
       "      <td>2.70 (2.09)</td>\n",
       "      <td>30.4</td>\n",
       "      <td>3.67 (2.86)</td>\n",
       "    </tr>\n",
       "    <tr>\n",
       "      <th>1</th>\n",
       "      <td>1998–1999</td>\n",
       "      <td>24.8</td>\n",
       "      <td>2.85 (2.13)</td>\n",
       "      <td>20.9</td>\n",
       "      <td>2.27 (1.73)</td>\n",
       "      <td>26.2</td>\n",
       "      <td>3.07 (2.28)</td>\n",
       "    </tr>\n",
       "    <tr>\n",
       "      <th>2</th>\n",
       "      <td>2005–2006</td>\n",
       "      <td>23.1</td>\n",
       "      <td>2.68 (1.90)</td>\n",
       "      <td>18.8</td>\n",
       "      <td>2.06 (1.60)</td>\n",
       "      <td>25.0</td>\n",
       "      <td>2.98 (2.10)</td>\n",
       "    </tr>\n",
       "    <tr>\n",
       "      <th>3</th>\n",
       "      <td>2015–2016</td>\n",
       "      <td>19.0</td>\n",
       "      <td>2.18 (1.8)</td>\n",
       "      <td>15.8</td>\n",
       "      <td>1.75 (1.5)</td>\n",
       "      <td>20.7</td>\n",
       "      <td>2.41 (1.9)</td>\n",
       "    </tr>\n",
       "  </tbody>\n",
       "</table>\n",
       "</div>"
      ],
      "text/plain": [
       "        Year CBR – Total TFR – Total1 CBR – Urban TFR – Urban1 CBR – Rural  \\\n",
       "0  1992–1993        28.7  3.39 (2.64)        24.1  2.70 (2.09)        30.4   \n",
       "1  1998–1999        24.8  2.85 (2.13)        20.9  2.27 (1.73)        26.2   \n",
       "2  2005–2006        23.1  2.68 (1.90)        18.8  2.06 (1.60)        25.0   \n",
       "3  2015–2016        19.0   2.18 (1.8)        15.8   1.75 (1.5)        20.7   \n",
       "\n",
       "  TFR – Rural1  \n",
       "0  3.67 (2.86)  \n",
       "1  3.07 (2.28)  \n",
       "2  2.98 (2.10)  \n",
       "3   2.41 (1.9)  "
      ]
     },
     "execution_count": 107,
     "metadata": {},
     "output_type": "execute_result"
    }
   ],
   "source": [
    "del fertility_rate_dict[0][-1]\n",
    "fertility_rate_df = create_dataframe(fertility_rate_dict,fertility_rate_cols)\n",
    "print(f\"Number of observations:{fertility_rate_df.shape}\")\n",
    "fertility_rate_df.head()"
   ]
  },
  {
   "cell_type": "markdown",
   "metadata": {},
   "source": [
    "### Birth rate, death rate, natural growth rate, and infant mortality rate, by state or UT(2010)"
   ]
  },
  {
   "cell_type": "code",
   "execution_count": 108,
   "metadata": {},
   "outputs": [
    {
     "name": "stdout",
     "output_type": "stream",
     "text": [
      "Number of observations:(35, 13)\n"
     ]
    },
    {
     "data": {
      "text/html": [
       "<div>\n",
       "<style scoped>\n",
       "    .dataframe tbody tr th:only-of-type {\n",
       "        vertical-align: middle;\n",
       "    }\n",
       "\n",
       "    .dataframe tbody tr th {\n",
       "        vertical-align: top;\n",
       "    }\n",
       "\n",
       "    .dataframe thead th {\n",
       "        text-align: right;\n",
       "    }\n",
       "</style>\n",
       "<table border=\"1\" class=\"dataframe\">\n",
       "  <thead>\n",
       "    <tr style=\"text-align: right;\">\n",
       "      <th></th>\n",
       "      <th>state</th>\n",
       "      <th>birth_rate_total</th>\n",
       "      <th>birth_rate_rural</th>\n",
       "      <th>birth_rate_urban</th>\n",
       "      <th>death_rate_total</th>\n",
       "      <th>death_rate_rural</th>\n",
       "      <th>death_rate_urban</th>\n",
       "      <th>natural_growth_rate_total</th>\n",
       "      <th>natural_growth_rate_rural</th>\n",
       "      <th>natural_growth_rate_urban</th>\n",
       "      <th>infant_moratatily_rate_total</th>\n",
       "      <th>infant_moratatily_rate_rural</th>\n",
       "      <th>infant_moratatily_rate_urban</th>\n",
       "    </tr>\n",
       "  </thead>\n",
       "  <tbody>\n",
       "    <tr>\n",
       "      <th>0</th>\n",
       "      <td>Andaman and Nicobar Islands</td>\n",
       "      <td>15.6</td>\n",
       "      <td>15.5</td>\n",
       "      <td>15.8</td>\n",
       "      <td>4.3</td>\n",
       "      <td>4.8</td>\n",
       "      <td>3.3</td>\n",
       "      <td>11.3</td>\n",
       "      <td>10.7</td>\n",
       "      <td>12.6</td>\n",
       "      <td>25</td>\n",
       "      <td>29</td>\n",
       "      <td>18</td>\n",
       "    </tr>\n",
       "    <tr>\n",
       "      <th>1</th>\n",
       "      <td>Andhra Pradesh</td>\n",
       "      <td>17.9</td>\n",
       "      <td>18.3</td>\n",
       "      <td>16.7</td>\n",
       "      <td>7.6</td>\n",
       "      <td>8.6</td>\n",
       "      <td>5.4</td>\n",
       "      <td>10.2</td>\n",
       "      <td>9.7</td>\n",
       "      <td>11.3</td>\n",
       "      <td>46</td>\n",
       "      <td>51</td>\n",
       "      <td>33</td>\n",
       "    </tr>\n",
       "    <tr>\n",
       "      <th>2</th>\n",
       "      <td>Arunachal Pradesh</td>\n",
       "      <td>20.5</td>\n",
       "      <td>22.1</td>\n",
       "      <td>14.6</td>\n",
       "      <td>5.9</td>\n",
       "      <td>6.9</td>\n",
       "      <td>2.3</td>\n",
       "      <td>14.6</td>\n",
       "      <td>15.2</td>\n",
       "      <td>12.3</td>\n",
       "      <td>31</td>\n",
       "      <td>34</td>\n",
       "      <td>12</td>\n",
       "    </tr>\n",
       "    <tr>\n",
       "      <th>3</th>\n",
       "      <td>Assam</td>\n",
       "      <td>23.2</td>\n",
       "      <td>24.4</td>\n",
       "      <td>15.8</td>\n",
       "      <td>8.2</td>\n",
       "      <td>8.6</td>\n",
       "      <td>5.8</td>\n",
       "      <td>14.9</td>\n",
       "      <td>15.8</td>\n",
       "      <td>10.1</td>\n",
       "      <td>58</td>\n",
       "      <td>60</td>\n",
       "      <td>36</td>\n",
       "    </tr>\n",
       "    <tr>\n",
       "      <th>4</th>\n",
       "      <td>Bihar</td>\n",
       "      <td>28.1</td>\n",
       "      <td>28.8</td>\n",
       "      <td>22.0</td>\n",
       "      <td>6.8</td>\n",
       "      <td>7.0</td>\n",
       "      <td>5.6</td>\n",
       "      <td>21.3</td>\n",
       "      <td>21.8</td>\n",
       "      <td>16.4</td>\n",
       "      <td>48</td>\n",
       "      <td>49</td>\n",
       "      <td>38</td>\n",
       "    </tr>\n",
       "  </tbody>\n",
       "</table>\n",
       "</div>"
      ],
      "text/plain": [
       "                         state birth_rate_total birth_rate_rural  \\\n",
       "0  Andaman and Nicobar Islands             15.6             15.5   \n",
       "1               Andhra Pradesh             17.9             18.3   \n",
       "2            Arunachal Pradesh             20.5             22.1   \n",
       "3                        Assam             23.2             24.4   \n",
       "4                        Bihar             28.1             28.8   \n",
       "\n",
       "  birth_rate_urban death_rate_total death_rate_rural death_rate_urban  \\\n",
       "0             15.8              4.3              4.8              3.3   \n",
       "1             16.7              7.6              8.6              5.4   \n",
       "2             14.6              5.9              6.9              2.3   \n",
       "3             15.8              8.2              8.6              5.8   \n",
       "4             22.0              6.8              7.0              5.6   \n",
       "\n",
       "  natural_growth_rate_total natural_growth_rate_rural  \\\n",
       "0                      11.3                      10.7   \n",
       "1                      10.2                       9.7   \n",
       "2                      14.6                      15.2   \n",
       "3                      14.9                      15.8   \n",
       "4                      21.3                      21.8   \n",
       "\n",
       "  natural_growth_rate_urban infant_moratatily_rate_total  \\\n",
       "0                      12.6                           25   \n",
       "1                      11.3                           46   \n",
       "2                      12.3                           31   \n",
       "3                      10.1                           58   \n",
       "4                      16.4                           48   \n",
       "\n",
       "  infant_moratatily_rate_rural infant_moratatily_rate_urban  \n",
       "0                           29                           18  \n",
       "1                           51                           33  \n",
       "2                           34                           12  \n",
       "3                           60                           36  \n",
       "4                           49                           38  "
      ]
     },
     "execution_count": 108,
     "metadata": {},
     "output_type": "execute_result"
    }
   ],
   "source": [
    "regional_stats_df = pd.DataFrame(regional_stats_dict)\n",
    "regional_stats_df.columns = ['state','birth_rate_total','birth_rate_rural','birth_rate_urban','death_rate_total','death_rate_rural','death_rate_urban','natural_growth_rate_total','natural_growth_rate_rural','natural_growth_rate_urban','infant_moratatily_rate_total','infant_moratatily_rate_rural','infant_moratatily_rate_urban']\n",
    "print(f\"Number of observations:{regional_stats_df.shape}\")\n",
    "regional_stats_df.head()"
   ]
  },
  {
   "cell_type": "markdown",
   "metadata": {},
   "source": [
    "### Quality"
   ]
  },
  {
   "cell_type": "markdown",
   "metadata": {},
   "source": [
    "- Values in columns are separated by comma Eg. Population column in pop_under_british_df \n",
    "- Missing data is represented by '-'.\n",
    "- Multiple information is available in one column.\n",
    "- total fertility column has '~' symbol before the number\n",
    "- dtype of some of the columns should be int or float instead of object."
   ]
  },
  {
   "cell_type": "markdown",
   "metadata": {},
   "source": [
    "Copy dataframes into another before moving to cleaning process."
   ]
  },
  {
   "cell_type": "code",
   "execution_count": 109,
   "metadata": {},
   "outputs": [],
   "source": [
    "pop_under_british_df_clean = pop_under_british_df.copy()\n",
    "regional_stats_df_clean = regional_stats_df.copy()\n",
    "fertility_rate_df_clean = fertility_rate_df.copy()\n",
    "crude_birth_rate_df_clean = crude_birth_rate_df.copy()\n",
    "pop_struc_2016_df_clean = pop_struc_2016_df.copy()\n",
    "pop_struc_df_clean =  pop_struc_df.copy()\n",
    "census_df_clean =  census_df.copy()\n",
    "un_stat_df_clean =  un_stat_df.copy()\n",
    "native_speakers_df_clean =  native_speakers_df.copy()\n",
    "literacy_rate_df_clean =  literacy_rate_df.copy()\n",
    "pop_abv_7_df_clean =  pop_abv_7_df.copy()\n",
    "pop_bet_age_0_6_df_clean =  pop_bet_age_0_6_df.copy()\n",
    "pop_dist_by_states_df_clean =  pop_dist_by_states_df.copy()\n",
    "pop_per_decade_df_clean = pop_per_decade_df.copy()\n",
    "life_expe_df_clean = life_expe_df.copy()\n",
    "largest_cities_df_clean = largest_cities_df.copy()"
   ]
  },
  {
   "cell_type": "markdown",
   "metadata": {},
   "source": [
    "### `Define`\n",
    "- Get the rows containing '~' and replace them.\n",
    "\n",
    "### `Code`"
   ]
  },
  {
   "cell_type": "code",
   "execution_count": 110,
   "metadata": {},
   "outputs": [],
   "source": [
    "maskk = census_df_clean['Total fertility rate'].str.contains('~')\n",
    "census_df_clean.loc[maskk,'Total fertility rate'] = census_df_clean.loc[maskk,'Total fertility rate'].str.replace('~ ','')"
   ]
  },
  {
   "cell_type": "markdown",
   "metadata": {},
   "source": [
    "### `Test`"
   ]
  },
  {
   "cell_type": "code",
   "execution_count": 111,
   "metadata": {},
   "outputs": [
    {
     "data": {
      "text/plain": [
       "31    2.4\n",
       "32    2.3\n",
       "33    2.3\n",
       "34    2.2\n",
       "35    2.2\n",
       "Name: Total fertility rate, dtype: object"
      ]
     },
     "execution_count": 111,
     "metadata": {},
     "output_type": "execute_result"
    }
   ],
   "source": [
    "census_df_clean['Total fertility rate'].tail()"
   ]
  },
  {
   "cell_type": "markdown",
   "metadata": {},
   "source": [
    "### `Define`\n",
    "\n",
    "- Get the rows having '-' and put nan \n",
    "\n",
    "### `Code`"
   ]
  },
  {
   "cell_type": "code",
   "execution_count": 112,
   "metadata": {},
   "outputs": [],
   "source": [
    "df_missing_list = [pop_abv_7_df_clean,census_df_clean,pop_under_british_df_clean,\n",
    "                   pop_per_decade_df_clean,un_stat_df_clean] \n",
    "#un_stat_df_clean.iloc[:,1:]\n",
    "errors_missing = {}\n",
    "for df in df_missing_list:\n",
    "    cols = df.columns\n",
    "    for col in cols:\n",
    "        try:\n",
    "            mask = df.loc[:,col] == '–'\n",
    "            df.loc[mask,col] = np.nan\n",
    "        except Exception as e:\n",
    "            errors_missing[col] = str(e)     \n"
   ]
  },
  {
   "cell_type": "code",
   "execution_count": 113,
   "metadata": {},
   "outputs": [
    {
     "data": {
      "text/plain": [
       "{}"
      ]
     },
     "execution_count": 113,
     "metadata": {},
     "output_type": "execute_result"
    }
   ],
   "source": [
    "errors_missing"
   ]
  },
  {
   "cell_type": "markdown",
   "metadata": {},
   "source": [
    "### `Test`"
   ]
  },
  {
   "cell_type": "code",
   "execution_count": 114,
   "metadata": {},
   "outputs": [
    {
     "data": {
      "text/html": [
       "<div>\n",
       "<style scoped>\n",
       "    .dataframe tbody tr th:only-of-type {\n",
       "        vertical-align: middle;\n",
       "    }\n",
       "\n",
       "    .dataframe tbody tr th {\n",
       "        vertical-align: top;\n",
       "    }\n",
       "\n",
       "    .dataframe thead th {\n",
       "        text-align: right;\n",
       "    }\n",
       "</style>\n",
       "<table border=\"1\" class=\"dataframe\">\n",
       "  <thead>\n",
       "    <tr style=\"text-align: right;\">\n",
       "      <th></th>\n",
       "      <th>State or UT code</th>\n",
       "      <th>State or UT</th>\n",
       "      <th>Total</th>\n",
       "      <th>Male</th>\n",
       "      <th>Female</th>\n",
       "    </tr>\n",
       "  </thead>\n",
       "  <tbody>\n",
       "    <tr>\n",
       "      <th>0</th>\n",
       "      <td>1</td>\n",
       "      <td>Jammu and Kashmir</td>\n",
       "      <td>NaN</td>\n",
       "      <td>NaN</td>\n",
       "      <td>NaN</td>\n",
       "    </tr>\n",
       "    <tr>\n",
       "      <th>1</th>\n",
       "      <td>2</td>\n",
       "      <td>Himachal Pradesh</td>\n",
       "      <td>NaN</td>\n",
       "      <td>NaN</td>\n",
       "      <td>NaN</td>\n",
       "    </tr>\n",
       "    <tr>\n",
       "      <th>2</th>\n",
       "      <td>3</td>\n",
       "      <td>Punjab</td>\n",
       "      <td>NaN</td>\n",
       "      <td>NaN</td>\n",
       "      <td>NaN</td>\n",
       "    </tr>\n",
       "    <tr>\n",
       "      <th>3</th>\n",
       "      <td>4</td>\n",
       "      <td>Chandigarh</td>\n",
       "      <td>NaN</td>\n",
       "      <td>NaN</td>\n",
       "      <td>NaN</td>\n",
       "    </tr>\n",
       "    <tr>\n",
       "      <th>4</th>\n",
       "      <td>5</td>\n",
       "      <td>Uttarakhand</td>\n",
       "      <td>NaN</td>\n",
       "      <td>NaN</td>\n",
       "      <td>NaN</td>\n",
       "    </tr>\n",
       "  </tbody>\n",
       "</table>\n",
       "</div>"
      ],
      "text/plain": [
       "  State or UT code        State or UT Total Male Female\n",
       "0                1  Jammu and Kashmir   NaN  NaN    NaN\n",
       "1                2   Himachal Pradesh   NaN  NaN    NaN\n",
       "2                3             Punjab   NaN  NaN    NaN\n",
       "3                4         Chandigarh   NaN  NaN    NaN\n",
       "4                5        Uttarakhand   NaN  NaN    NaN"
      ]
     },
     "execution_count": 114,
     "metadata": {},
     "output_type": "execute_result"
    }
   ],
   "source": [
    "pop_abv_7_df_clean.head()"
   ]
  },
  {
   "cell_type": "markdown",
   "metadata": {},
   "source": [
    "### `Define`\n",
    "\n",
    "#### Few of the columns in dataframes are integer type but stored as object also the number are separated by commas.\n",
    "- To solve the issue I decided to create a dictionary with dataframe and assigned a key value..\n",
    "- The next step is to apply a for loop to the dictionary take column names of each dataframe in a variable and again apply  a for loop to check if respective column values contains comma. If yes, then replace it and change the dtype.\n",
    "- If error occurs collect it in another dictionary and handle it separately.\n",
    "\n",
    "### `Code`"
   ]
  },
  {
   "cell_type": "code",
   "execution_count": 115,
   "metadata": {},
   "outputs": [],
   "source": [
    "df_dict = {0:pop_under_british_df_clean,1:regional_stats_df_clean,2:fertility_rate_df_clean,3:crude_birth_rate_df_clean,\n",
    "           4:pop_struc_2016_df_clean,5:pop_struc_df_clean,6:census_df_clean,7:un_stat_df_clean,8:native_speakers_df_clean,\n",
    "           9:literacy_rate_df_clean,10:pop_abv_7_df_clean,11:pop_bet_age_0_6_df_clean,12:pop_dist_by_states_df_clean,\n",
    "           13:pop_per_decade_df_clean,14:life_expe_df_clean,15:largest_cities_df_clean}\n",
    "\n",
    "errors = {}\n",
    "for key ,df in df_dict.items():\n",
    "    cols = df.columns\n",
    "    for col in cols:\n",
    "        if (df[col].str.contains(',')).any():\n",
    "            try:\n",
    "                df[col] = df[col].str.replace(',','').astype(int)\n",
    "            except Exception as e:\n",
    "                errors[key] = col"
   ]
  },
  {
   "cell_type": "code",
   "execution_count": 116,
   "metadata": {},
   "outputs": [
    {
     "name": "stdout",
     "output_type": "stream",
     "text": [
      "{7: 'Natural change per year', 10: 'Female', 15: 'population'}\n"
     ]
    }
   ],
   "source": [
    "print(errors)\n",
    "largest_cities_df_clean['population'] = largest_cities_df_clean['population'].str.replace(',','').str.replace(' ','').astype(int)"
   ]
  },
  {
   "cell_type": "markdown",
   "metadata": {},
   "source": [
    "### `Test`"
   ]
  },
  {
   "cell_type": "code",
   "execution_count": 117,
   "metadata": {},
   "outputs": [
    {
     "name": "stdout",
     "output_type": "stream",
     "text": [
      "Before Cleaning\n",
      "Census year    object\n",
      "Population     object\n",
      "Growth (%)     object\n",
      "dtype: object\n",
      "After Cleaning\n",
      "Census year    object\n",
      "Population      int32\n",
      "Growth (%)     object\n",
      "dtype: object\n"
     ]
    }
   ],
   "source": [
    "print(f\"Before Cleaning\\n{pop_under_british_df.dtypes}\")\n",
    "print(f\"After Cleaning\\n{pop_under_british_df_clean.dtypes}\")"
   ]
  },
  {
   "cell_type": "markdown",
   "metadata": {},
   "source": [
    "- As we can see population columns is now changed to integer type. In similar way it has been applied to all the required columns in dataframe."
   ]
  },
  {
   "cell_type": "markdown",
   "metadata": {},
   "source": [
    "<a id='Exploring Data'></a>\n",
    "## Exploratory Analysis"
   ]
  },
  {
   "cell_type": "code",
   "execution_count": 118,
   "metadata": {},
   "outputs": [],
   "source": [
    "def att_line_plot(X,Y,T,XA,YA):\n",
    "    trace = go.Scatter(\n",
    "     x = X,\n",
    "     y =Y,\n",
    "     mode = 'lines+markers',\n",
    "     marker = dict(size = (Y/ Y.mean())*50,\n",
    "                    color = np.random.randn(len(Y)),\n",
    "                    opacity = 0.6,\n",
    "                    line = dict( color = 'rgb(0,0,0)'))\n",
    "    \n",
    "    )\n",
    "    \n",
    "    layout = dict(title = T, \n",
    "                  xaxis = dict(title = XA),\n",
    "                  yaxis = dict(title = YA))\n",
    "    \n",
    "    data = [trace]\n",
    "    fig = {'data':data,'layout':layout}\n",
    "    return fig\n",
    "    "
   ]
  },
  {
   "cell_type": "code",
   "execution_count": 119,
   "metadata": {},
   "outputs": [
    {
     "data": {
      "application/vnd.plotly.v1+json": {
       "data": [
        {
         "marker": {
          "color": [
           -1.1738161793780089,
           -0.3056040386346301,
           0.12061637728156646,
           2.2654462715414114,
           0.49912955305918855,
           0.10094538135661482,
           -1.1087121696721012,
           -0.5413084070898683
          ],
          "line": {
           "color": "rgb(0,0,0)"
          },
          "opacity": 0.6,
          "size": [
           39.00179360418042,
           41.46201289164063,
           46.90442590841409,
           47.937623744167965,
           51.46596074797537,
           52.08423933284831,
           57.61944058070409,
           63.524503190069126
          ]
         },
         "mode": "lines+markers",
         "type": "scatter",
         "uid": "9613f300-e0c1-11e8-9e92-186024bdfae3",
         "x": [
          "1871",
          "1881",
          "1891",
          "1901",
          "1911",
          "1921",
          "1931",
          "1941"
         ],
         "y": [
          238830958,
          253896330,
          287223431,
          293550310,
          315156396,
          318942480,
          352837778,
          388997955
         ]
        }
       ],
       "layout": {
        "title": "Population Growth under British Raj",
        "xaxis": {
         "title": "Year"
        },
        "yaxis": {
         "title": "Population in Millions"
        }
       }
      },
      "text/html": [
       "<div id=\"60e7396c-2d93-409c-af0f-9a540c72abf4\" style=\"height: 525px; width: 100%;\" class=\"plotly-graph-div\"></div><script type=\"text/javascript\">require([\"plotly\"], function(Plotly) { window.PLOTLYENV=window.PLOTLYENV || {};window.PLOTLYENV.BASE_URL=\"https://plot.ly\";Plotly.newPlot(\"60e7396c-2d93-409c-af0f-9a540c72abf4\", [{\"marker\": {\"color\": [-1.1738161793780089, -0.3056040386346301, 0.12061637728156646, 2.2654462715414114, 0.49912955305918855, 0.10094538135661482, -1.1087121696721012, -0.5413084070898683], \"line\": {\"color\": \"rgb(0,0,0)\"}, \"opacity\": 0.6, \"size\": [39.00179360418042, 41.46201289164063, 46.90442590841409, 47.937623744167965, 51.46596074797537, 52.08423933284831, 57.61944058070409, 63.524503190069126]}, \"mode\": \"lines+markers\", \"x\": [\"1871\", \"1881\", \"1891\", \"1901\", \"1911\", \"1921\", \"1931\", \"1941\"], \"y\": [238830958.0, 253896330.0, 287223431.0, 293550310.0, 315156396.0, 318942480.0, 352837778.0, 388997955.0], \"type\": \"scatter\", \"uid\": \"962d4906-e0c1-11e8-a140-186024bdfae3\"}], {\"title\": \"Population Growth under British Raj\", \"xaxis\": {\"title\": \"Year\"}, \"yaxis\": {\"title\": \"Population in Millions\"}}, {\"showLink\": true, \"linkText\": \"Export to plot.ly\"})});</script>"
      ],
      "text/vnd.plotly.v1+html": [
       "<div id=\"60e7396c-2d93-409c-af0f-9a540c72abf4\" style=\"height: 525px; width: 100%;\" class=\"plotly-graph-div\"></div><script type=\"text/javascript\">require([\"plotly\"], function(Plotly) { window.PLOTLYENV=window.PLOTLYENV || {};window.PLOTLYENV.BASE_URL=\"https://plot.ly\";Plotly.newPlot(\"60e7396c-2d93-409c-af0f-9a540c72abf4\", [{\"marker\": {\"color\": [-1.1738161793780089, -0.3056040386346301, 0.12061637728156646, 2.2654462715414114, 0.49912955305918855, 0.10094538135661482, -1.1087121696721012, -0.5413084070898683], \"line\": {\"color\": \"rgb(0,0,0)\"}, \"opacity\": 0.6, \"size\": [39.00179360418042, 41.46201289164063, 46.90442590841409, 47.937623744167965, 51.46596074797537, 52.08423933284831, 57.61944058070409, 63.524503190069126]}, \"mode\": \"lines+markers\", \"x\": [\"1871\", \"1881\", \"1891\", \"1901\", \"1911\", \"1921\", \"1931\", \"1941\"], \"y\": [238830958.0, 253896330.0, 287223431.0, 293550310.0, 315156396.0, 318942480.0, 352837778.0, 388997955.0], \"type\": \"scatter\", \"uid\": \"962d4906-e0c1-11e8-a140-186024bdfae3\"}], {\"title\": \"Population Growth under British Raj\", \"xaxis\": {\"title\": \"Year\"}, \"yaxis\": {\"title\": \"Population in Millions\"}}, {\"showLink\": true, \"linkText\": \"Export to plot.ly\"})});</script>"
      ]
     },
     "metadata": {},
     "output_type": "display_data"
    }
   ],
   "source": [
    "#Census year has [35] after a year hence remove it.\n",
    "pop_under_british_df_clean['Census year'] = pop_under_british_df_clean['Census year'].apply(lambda x:x.split('[')[0])\n",
    "\n",
    "FIG = att_line_plot(pop_under_british_df_clean['Census year'],pop_under_british_df_clean['Population'],'Population Growth under British Raj','Year','Population in Millions')\n",
    "iplot(FIG)"
   ]
  },
  {
   "cell_type": "markdown",
   "metadata": {},
   "source": [
    "- Population increased by 63% in 70 years. Let's find the growth rate after independence."
   ]
  },
  {
   "cell_type": "code",
   "execution_count": 120,
   "metadata": {},
   "outputs": [
    {
     "data": {
      "application/vnd.plotly.v1+json": {
       "data": [
        {
         "marker": {
          "color": [
           1.7404452869934328,
           -0.34276308155439467,
           1.029742765630455,
           0.8383035455447334,
           -0.30040493882169894,
           -1.1288283073904082,
           1.9297288114577995
          ],
          "line": {
           "color": "rgb(0,0,0)"
          },
          "opacity": 0.6,
          "size": [
           24.695015866238176,
           30.039534113587617,
           37.4889774715225,
           46.73326307398935,
           57.88495414733201,
           70.35594454596436,
           82.80231078136596
          ]
         },
         "mode": "lines+markers",
         "type": "scatter",
         "uid": "9651f886-e0c1-11e8-9526-186024bdfae3",
         "x": [
          "1951",
          "1961",
          "1971",
          "1981",
          "1991",
          "2001",
          "2011"
         ],
         "y": [
          361088000,
          439235000,
          548160000,
          683329000,
          846387888,
          1028737436,
          1210726932
         ]
        }
       ],
       "layout": {
        "title": "Population Growth after Independence",
        "xaxis": {
         "title": "Year"
        },
        "yaxis": {
         "title": "Population in Billions"
        }
       }
      },
      "text/html": [
       "<div id=\"c9f541f6-f8e5-492d-b386-0335fcad2615\" style=\"height: 525px; width: 100%;\" class=\"plotly-graph-div\"></div><script type=\"text/javascript\">require([\"plotly\"], function(Plotly) { window.PLOTLYENV=window.PLOTLYENV || {};window.PLOTLYENV.BASE_URL=\"https://plot.ly\";Plotly.newPlot(\"c9f541f6-f8e5-492d-b386-0335fcad2615\", [{\"marker\": {\"color\": [1.7404452869934328, -0.34276308155439467, 1.029742765630455, 0.8383035455447334, -0.30040493882169894, -1.1288283073904082, 1.9297288114577995], \"line\": {\"color\": \"rgb(0,0,0)\"}, \"opacity\": 0.6, \"size\": [24.695015866238176, 30.039534113587617, 37.4889774715225, 46.73326307398935, 57.88495414733201, 70.35594454596436, 82.80231078136596]}, \"mode\": \"lines+markers\", \"x\": [\"1951\", \"1961\", \"1971\", \"1981\", \"1991\", \"2001\", \"2011\"], \"y\": [361088000.0, 439235000.0, 548160000.0, 683329000.0, 846387888.0, 1028737436.0, 1210726932.0], \"type\": \"scatter\", \"uid\": \"967895e6-e0c1-11e8-abae-186024bdfae3\"}], {\"title\": \"Population Growth after Independence\", \"xaxis\": {\"title\": \"Year\"}, \"yaxis\": {\"title\": \"Population in Billions\"}}, {\"showLink\": true, \"linkText\": \"Export to plot.ly\"})});</script>"
      ],
      "text/vnd.plotly.v1+html": [
       "<div id=\"c9f541f6-f8e5-492d-b386-0335fcad2615\" style=\"height: 525px; width: 100%;\" class=\"plotly-graph-div\"></div><script type=\"text/javascript\">require([\"plotly\"], function(Plotly) { window.PLOTLYENV=window.PLOTLYENV || {};window.PLOTLYENV.BASE_URL=\"https://plot.ly\";Plotly.newPlot(\"c9f541f6-f8e5-492d-b386-0335fcad2615\", [{\"marker\": {\"color\": [1.7404452869934328, -0.34276308155439467, 1.029742765630455, 0.8383035455447334, -0.30040493882169894, -1.1288283073904082, 1.9297288114577995], \"line\": {\"color\": \"rgb(0,0,0)\"}, \"opacity\": 0.6, \"size\": [24.695015866238176, 30.039534113587617, 37.4889774715225, 46.73326307398935, 57.88495414733201, 70.35594454596436, 82.80231078136596]}, \"mode\": \"lines+markers\", \"x\": [\"1951\", \"1961\", \"1971\", \"1981\", \"1991\", \"2001\", \"2011\"], \"y\": [361088000.0, 439235000.0, 548160000.0, 683329000.0, 846387888.0, 1028737436.0, 1210726932.0], \"type\": \"scatter\", \"uid\": \"967895e6-e0c1-11e8-abae-186024bdfae3\"}], {\"title\": \"Population Growth after Independence\", \"xaxis\": {\"title\": \"Year\"}, \"yaxis\": {\"title\": \"Population in Billions\"}}, {\"showLink\": true, \"linkText\": \"Export to plot.ly\"})});</script>"
      ]
     },
     "metadata": {},
     "output_type": "display_data"
    }
   ],
   "source": [
    "FIG = att_line_plot(pop_per_decade_df_clean['Census year'],pop_per_decade_df_clean['Population'],'Population Growth after Independence','Year','Population in Billions')\n",
    "iplot(FIG)"
   ]
  },
  {
   "cell_type": "markdown",
   "metadata": {},
   "source": [
    "- In next 60 years population increased by 235%.\n",
    "- From 1970 to 2010 population almost doubled to 1.2 Billion.\n",
    "- Decade population growth rate was 1.77%.(2001 to 2010)"
   ]
  },
  {
   "cell_type": "code",
   "execution_count": 121,
   "metadata": {},
   "outputs": [],
   "source": [
    "def bar_plot(X,Y,color_list,T,TP):\n",
    "    trace = go.Bar(\n",
    "        x = X,\n",
    "        y = Y,\n",
    "        text = T,\n",
    "        textposition = TP,\n",
    "        marker = dict(color = color_list,\n",
    "                             line=dict(color='rgb(0,0,0)',width=1.5)))\n",
    "    \n",
    "    return trace"
   ]
  },
  {
   "cell_type": "code",
   "execution_count": 122,
   "metadata": {},
   "outputs": [],
   "source": [
    "#assign color to each bar in bar plot\n",
    "def assign_color(col,condn):\n",
    "    colors = []\n",
    "    for i in col:\n",
    "        if i > condn:\n",
    "            colors.append('rgba(222,45,38,0.8)')\n",
    "        else:\n",
    "            colors.append('rgba(204,204,204,1)')\n",
    "    return colors"
   ]
  },
  {
   "cell_type": "code",
   "execution_count": 123,
   "metadata": {},
   "outputs": [
    {
     "data": {
      "application/vnd.plotly.v1+json": {
       "data": [
        {
         "marker": {
          "color": [
           "rgba(222,45,38,0.8)",
           "rgba(222,45,38,0.8)",
           "rgba(222,45,38,0.8)",
           "rgba(204,204,204,1)",
           "rgba(204,204,204,1)",
           "rgba(204,204,204,1)",
           "rgba(204,204,204,1)",
           "rgba(204,204,204,1)",
           "rgba(204,204,204,1)",
           "rgba(204,204,204,1)",
           "rgba(204,204,204,1)",
           "rgba(204,204,204,1)",
           "rgba(204,204,204,1)",
           "rgba(204,204,204,1)",
           "rgba(204,204,204,1)",
           "rgba(204,204,204,1)",
           "rgba(204,204,204,1)",
           "rgba(204,204,204,1)",
           "rgba(204,204,204,1)",
           "rgba(204,204,204,1)",
           "rgba(204,204,204,1)",
           "rgba(204,204,204,1)",
           "rgba(204,204,204,1)",
           "rgba(204,204,204,1)",
           "rgba(204,204,204,1)",
           "rgba(204,204,204,1)",
           "rgba(204,204,204,1)",
           "rgba(204,204,204,1)",
           "rgba(204,204,204,1)",
           "rgba(204,204,204,1)",
           "rgba(204,204,204,1)",
           "rgba(204,204,204,1)",
           "rgba(204,204,204,1)",
           "rgba(204,204,204,1)",
           "rgba(204,204,204,1)",
           "rgba(204,204,204,1)"
          ],
          "line": {
           "color": "rgb(0,0,0)",
           "width": 1.5
          }
         },
         "type": "bar",
         "uid": "973e63e2-e0c1-11e8-ab47-186024bdfae3",
         "x": [
          "Uttar Pradesh",
          "Maharashtra",
          "Bihar",
          "West Bengal",
          "Madhya Pradesh",
          "Tamil Nadu",
          "Rajasthan",
          "Karnataka",
          "Gujarat",
          "Andhra Pradesh",
          "Odisha",
          "Telangana",
          "Kerala",
          "Jharkhand",
          "Assam",
          "Punjab",
          "Chhattisgarh",
          "Haryana",
          "Delhi (UT)",
          "Jammu and Kashmir",
          "Uttarakhand",
          "Himachal Pradesh",
          "Tripura",
          "Meghalaya",
          "Manipur",
          "Nagaland",
          "Goa",
          "Arunachal Pradesh",
          "Puducherry (UT)",
          "Mizoram",
          "Chandigarh (UT)",
          "Sikkim",
          "Andaman and Nicobar Islands (UT)",
          "Dadra and Nagar Haveli (UT)",
          "Daman and Diu (UT)",
          "Lakshadweep (UT)"
         ],
         "xaxis": "x",
         "y": [
          199812341,
          112374333,
          104099452,
          91276115,
          72626809,
          72147030,
          68548437,
          61095297,
          60439692,
          49386799,
          41974218,
          35193978,
          33406061,
          32988134,
          31205576,
          27743338,
          25545198,
          25351462,
          16787941,
          12541302,
          10086292,
          6864602,
          3673917,
          2966889,
          2855794,
          1978502,
          1458545,
          1383727,
          1247953,
          1097206,
          1055450,
          610577,
          380581,
          343709,
          243247,
          64473
         ],
         "yaxis": "y"
        },
        {
         "marker": {
          "color": [
           "rgba(222,45,38,0.8)",
           "rgba(222,45,38,0.8)",
           "rgba(222,45,38,0.8)",
           "rgba(222,45,38,0.8)",
           "rgba(222,45,38,0.8)",
           "rgba(222,45,38,0.8)",
           "rgba(222,45,38,0.8)",
           "rgba(222,45,38,0.8)",
           "rgba(204,204,204,1)",
           "rgba(204,204,204,1)",
           "rgba(204,204,204,1)",
           "rgba(204,204,204,1)",
           "rgba(204,204,204,1)",
           "rgba(204,204,204,1)",
           "rgba(204,204,204,1)",
           "rgba(204,204,204,1)",
           "rgba(204,204,204,1)",
           "rgba(204,204,204,1)",
           "rgba(204,204,204,1)",
           "rgba(204,204,204,1)"
          ],
          "line": {
           "color": "rgb(0,0,0)",
           "width": 1.5
          }
         },
         "text": [
          "Maharashtra",
          "Delhi",
          "Karnataka",
          "Telangana",
          "Gujarat",
          "Tamil Nadu",
          "West Bengal",
          "Gujarat",
          "Maharashtra",
          "Rajasthan",
          "Uttar Pradesh",
          "Uttar Pradesh",
          "Maharashtra",
          "Madhya Pradesh",
          "Maharastra",
          "Madhya Pradesh",
          "Andhra Pradesh",
          "Maharashtra",
          "Bihar",
          "Punjab"
         ],
         "type": "bar",
         "uid": "97431f1c-e0c1-11e8-90e4-186024bdfae3",
         "x": [
          "Mumbai",
          "Delhi",
          "Bangalore",
          "Hyderabad",
          "Ahmedabad",
          "Chennai",
          "Kolkata",
          "Surat",
          "Pune",
          "Jaipur",
          "Kanpur",
          "Lucknow",
          "Nagpur",
          "Indore",
          "Thane",
          "Bhopal",
          "Visakhapatnam",
          "Pimpri-Chinchwad",
          "Patna",
          "Ludhiana"
         ],
         "xaxis": "x2",
         "y": [
          12478447,
          11007835,
          8425970,
          6809970,
          5570585,
          4681087,
          4486679,
          4462002,
          3115431,
          3073350,
          2920067,
          2901474,
          2405421,
          1960521,
          1818872,
          1795648,
          1730320,
          1729359,
          1683200,
          1613878
         ],
         "yaxis": "y2"
        },
        {
         "marker": {
          "color": [
           "rgba(222,45,38,0.8)",
           "rgba(222,45,38,0.8)",
           "rgba(204,204,204,1)",
           "rgba(204,204,204,1)",
           "rgba(204,204,204,1)",
           "rgba(204,204,204,1)",
           "rgba(204,204,204,1)",
           "rgba(204,204,204,1)",
           "rgba(204,204,204,1)",
           "rgba(204,204,204,1)",
           "rgba(204,204,204,1)",
           "rgba(204,204,204,1)",
           "rgba(204,204,204,1)",
           "rgba(204,204,204,1)",
           "rgba(204,204,204,1)",
           "rgba(204,204,204,1)",
           "rgba(204,204,204,1)",
           "rgba(204,204,204,1)",
           "rgba(204,204,204,1)",
           "rgba(204,204,204,1)",
           "rgba(204,204,204,1)",
           "rgba(204,204,204,1)",
           "rgba(204,204,204,1)",
           "rgba(204,204,204,1)",
           "rgba(204,204,204,1)",
           "rgba(204,204,204,1)",
           "rgba(204,204,204,1)",
           "rgba(204,204,204,1)",
           "rgba(204,204,204,1)",
           "rgba(204,204,204,1)",
           "rgba(204,204,204,1)",
           "rgba(204,204,204,1)",
           "rgba(204,204,204,1)",
           "rgba(204,204,204,1)",
           "rgba(204,204,204,1)",
           "rgba(204,204,204,1)"
          ],
          "line": {
           "color": "rgb(0,0,0)",
           "width": 1.5
          }
         },
         "type": "bar",
         "uid": "9749d658-e0c1-11e8-872e-186024bdfae3",
         "x": [
          "Kerala",
          "Puducherry (UT)",
          "Tamil Nadu",
          "Andhra Pradesh",
          "Chhattisgarh",
          "Meghalaya",
          "Telangana",
          "Manipur",
          "Odisha",
          "Mizoram",
          "Karnataka",
          "Goa",
          "Himachal Pradesh",
          "Uttarakhand",
          "Tripura",
          "Assam",
          "West Bengal",
          "Jharkhand",
          "Lakshadweep (UT)",
          "Arunachal Pradesh",
          "Nagaland",
          "Madhya Pradesh",
          "Uttar Pradesh",
          "Maharashtra",
          "Rajasthan",
          "Gujarat",
          "Bihar",
          "Punjab",
          "Sikkim",
          "Jammu and Kashmir",
          "Haryana",
          "Andaman and Nicobar Islands (UT)",
          "Delhi (UT)",
          "Chandigarh (UT)",
          "Dadra and Nagar Haveli (UT)",
          "Daman and Diu (UT)"
         ],
         "xaxis": "x3",
         "y": [
          1084,
          1037,
          996,
          996,
          991,
          989,
          988,
          985,
          979,
          976,
          973,
          973,
          972,
          963,
          960,
          958,
          950,
          948,
          946,
          938,
          931,
          931,
          930,
          929,
          928,
          919,
          918,
          895,
          890,
          889,
          879,
          876,
          868,
          818,
          774,
          618
         ],
         "yaxis": "y3"
        }
       ],
       "layout": {
        "annotations": [
         {
          "font": {
           "size": 16
          },
          "showarrow": false,
          "text": "Population distribution by States(2011)",
          "x": 0.5,
          "xanchor": "center",
          "xref": "paper",
          "y": 1,
          "yanchor": "bottom",
          "yref": "paper"
         },
         {
          "font": {
           "size": 16
          },
          "showarrow": false,
          "text": "Cities with largest Population(2011)",
          "x": 0.5,
          "xanchor": "center",
          "xref": "paper",
          "y": 0.6111111111111112,
          "yanchor": "bottom",
          "yref": "paper"
         },
         {
          "font": {
           "size": 16
          },
          "showarrow": false,
          "text": "Sex Ratio by States(2011)",
          "x": 0.5,
          "xanchor": "center",
          "xref": "paper",
          "y": 0.22222222222222224,
          "yanchor": "bottom",
          "yref": "paper"
         }
        ],
        "height": 1000,
        "showlegend": false,
        "width": 1000,
        "xaxis": {
         "anchor": "y",
         "domain": [
          0,
          1
         ]
        },
        "xaxis2": {
         "anchor": "y2",
         "domain": [
          0,
          1
         ]
        },
        "xaxis3": {
         "anchor": "y3",
         "domain": [
          0,
          1
         ]
        },
        "yaxis": {
         "anchor": "x",
         "domain": [
          0.7777777777777778,
          1
         ],
         "title": "Population"
        },
        "yaxis2": {
         "anchor": "x2",
         "domain": [
          0.3888888888888889,
          0.6111111111111112
         ],
         "title": "Population"
        },
        "yaxis3": {
         "anchor": "x3",
         "domain": [
          0,
          0.22222222222222224
         ],
         "title": "Sex Ratio"
        }
       }
      },
      "text/html": [
       "<div id=\"f10b242d-7322-415a-8c22-5f19e32b1b3a\" style=\"height: 1000px; width: 1000px;\" class=\"plotly-graph-div\"></div><script type=\"text/javascript\">require([\"plotly\"], function(Plotly) { window.PLOTLYENV=window.PLOTLYENV || {};window.PLOTLYENV.BASE_URL=\"https://plot.ly\";\n",
       "        Plotly.plot(\n",
       "            'f10b242d-7322-415a-8c22-5f19e32b1b3a',\n",
       "            [{\"marker\": {\"color\": [\"rgba(222,45,38,0.8)\", \"rgba(222,45,38,0.8)\", \"rgba(222,45,38,0.8)\", \"rgba(204,204,204,1)\", \"rgba(204,204,204,1)\", \"rgba(204,204,204,1)\", \"rgba(204,204,204,1)\", \"rgba(204,204,204,1)\", \"rgba(204,204,204,1)\", \"rgba(204,204,204,1)\", \"rgba(204,204,204,1)\", \"rgba(204,204,204,1)\", \"rgba(204,204,204,1)\", \"rgba(204,204,204,1)\", \"rgba(204,204,204,1)\", \"rgba(204,204,204,1)\", \"rgba(204,204,204,1)\", \"rgba(204,204,204,1)\", \"rgba(204,204,204,1)\", \"rgba(204,204,204,1)\", \"rgba(204,204,204,1)\", \"rgba(204,204,204,1)\", \"rgba(204,204,204,1)\", \"rgba(204,204,204,1)\", \"rgba(204,204,204,1)\", \"rgba(204,204,204,1)\", \"rgba(204,204,204,1)\", \"rgba(204,204,204,1)\", \"rgba(204,204,204,1)\", \"rgba(204,204,204,1)\", \"rgba(204,204,204,1)\", \"rgba(204,204,204,1)\", \"rgba(204,204,204,1)\", \"rgba(204,204,204,1)\", \"rgba(204,204,204,1)\", \"rgba(204,204,204,1)\"], \"line\": {\"color\": \"rgb(0,0,0)\", \"width\": 1.5}}, \"x\": [\"Uttar Pradesh\", \"Maharashtra\", \"Bihar\", \"West Bengal\", \"Madhya Pradesh\", \"Tamil Nadu\", \"Rajasthan\", \"Karnataka\", \"Gujarat\", \"Andhra Pradesh\", \"Odisha\", \"Telangana\", \"Kerala\", \"Jharkhand\", \"Assam\", \"Punjab\", \"Chhattisgarh\", \"Haryana\", \"Delhi (UT)\", \"Jammu and Kashmir\", \"Uttarakhand\", \"Himachal Pradesh\", \"Tripura\", \"Meghalaya\", \"Manipur\", \"Nagaland\", \"Goa\", \"Arunachal Pradesh\", \"Puducherry (UT)\", \"Mizoram\", \"Chandigarh (UT)\", \"Sikkim\", \"Andaman and Nicobar Islands (UT)\", \"Dadra and Nagar Haveli (UT)\", \"Daman and Diu (UT)\", \"Lakshadweep (UT)\"], \"y\": [199812341.0, 112374333.0, 104099452.0, 91276115.0, 72626809.0, 72147030.0, 68548437.0, 61095297.0, 60439692.0, 49386799.0, 41974218.0, 35193978.0, 33406061.0, 32988134.0, 31205576.0, 27743338.0, 25545198.0, 25351462.0, 16787941.0, 12541302.0, 10086292.0, 6864602.0, 3673917.0, 2966889.0, 2855794.0, 1978502.0, 1458545.0, 1383727.0, 1247953.0, 1097206.0, 1055450.0, 610577.0, 380581.0, 343709.0, 243247.0, 64473.0], \"type\": \"bar\", \"uid\": \"973e63e2-e0c1-11e8-ab47-186024bdfae3\", \"xaxis\": \"x\", \"yaxis\": \"y\"}, {\"marker\": {\"color\": [\"rgba(222,45,38,0.8)\", \"rgba(222,45,38,0.8)\", \"rgba(222,45,38,0.8)\", \"rgba(222,45,38,0.8)\", \"rgba(222,45,38,0.8)\", \"rgba(222,45,38,0.8)\", \"rgba(222,45,38,0.8)\", \"rgba(222,45,38,0.8)\", \"rgba(204,204,204,1)\", \"rgba(204,204,204,1)\", \"rgba(204,204,204,1)\", \"rgba(204,204,204,1)\", \"rgba(204,204,204,1)\", \"rgba(204,204,204,1)\", \"rgba(204,204,204,1)\", \"rgba(204,204,204,1)\", \"rgba(204,204,204,1)\", \"rgba(204,204,204,1)\", \"rgba(204,204,204,1)\", \"rgba(204,204,204,1)\"], \"line\": {\"color\": \"rgb(0,0,0)\", \"width\": 1.5}}, \"text\": [\"Maharashtra\", \"Delhi\", \"Karnataka\", \"Telangana\", \"Gujarat\", \"Tamil Nadu\", \"West Bengal\", \"Gujarat\", \"Maharashtra\", \"Rajasthan\", \"Uttar Pradesh\", \"Uttar Pradesh\", \"Maharashtra\", \"Madhya Pradesh\", \"Maharastra\", \"Madhya Pradesh\", \"Andhra Pradesh\", \"Maharashtra\", \"Bihar\", \"Punjab\"], \"x\": [\"Mumbai\", \"Delhi\", \"Bangalore\", \"Hyderabad\", \"Ahmedabad\", \"Chennai\", \"Kolkata\", \"Surat\", \"Pune\", \"Jaipur\", \"Kanpur\", \"Lucknow\", \"Nagpur\", \"Indore\", \"Thane\", \"Bhopal\", \"Visakhapatnam\", \"Pimpri-Chinchwad\", \"Patna\", \"Ludhiana\"], \"y\": [12478447.0, 11007835.0, 8425970.0, 6809970.0, 5570585.0, 4681087.0, 4486679.0, 4462002.0, 3115431.0, 3073350.0, 2920067.0, 2901474.0, 2405421.0, 1960521.0, 1818872.0, 1795648.0, 1730320.0, 1729359.0, 1683200.0, 1613878.0], \"type\": \"bar\", \"uid\": \"97431f1c-e0c1-11e8-90e4-186024bdfae3\", \"xaxis\": \"x2\", \"yaxis\": \"y2\"}, {\"marker\": {\"color\": [\"rgba(222,45,38,0.8)\", \"rgba(222,45,38,0.8)\", \"rgba(204,204,204,1)\", \"rgba(204,204,204,1)\", \"rgba(204,204,204,1)\", \"rgba(204,204,204,1)\", \"rgba(204,204,204,1)\", \"rgba(204,204,204,1)\", \"rgba(204,204,204,1)\", \"rgba(204,204,204,1)\", \"rgba(204,204,204,1)\", \"rgba(204,204,204,1)\", \"rgba(204,204,204,1)\", \"rgba(204,204,204,1)\", \"rgba(204,204,204,1)\", \"rgba(204,204,204,1)\", \"rgba(204,204,204,1)\", \"rgba(204,204,204,1)\", \"rgba(204,204,204,1)\", \"rgba(204,204,204,1)\", \"rgba(204,204,204,1)\", \"rgba(204,204,204,1)\", \"rgba(204,204,204,1)\", \"rgba(204,204,204,1)\", \"rgba(204,204,204,1)\", \"rgba(204,204,204,1)\", \"rgba(204,204,204,1)\", \"rgba(204,204,204,1)\", \"rgba(204,204,204,1)\", \"rgba(204,204,204,1)\", \"rgba(204,204,204,1)\", \"rgba(204,204,204,1)\", \"rgba(204,204,204,1)\", \"rgba(204,204,204,1)\", \"rgba(204,204,204,1)\", \"rgba(204,204,204,1)\"], \"line\": {\"color\": \"rgb(0,0,0)\", \"width\": 1.5}}, \"x\": [\"Kerala\", \"Puducherry (UT)\", \"Tamil Nadu\", \"Andhra Pradesh\", \"Chhattisgarh\", \"Meghalaya\", \"Telangana\", \"Manipur\", \"Odisha\", \"Mizoram\", \"Karnataka\", \"Goa\", \"Himachal Pradesh\", \"Uttarakhand\", \"Tripura\", \"Assam\", \"West Bengal\", \"Jharkhand\", \"Lakshadweep (UT)\", \"Arunachal Pradesh\", \"Nagaland\", \"Madhya Pradesh\", \"Uttar Pradesh\", \"Maharashtra\", \"Rajasthan\", \"Gujarat\", \"Bihar\", \"Punjab\", \"Sikkim\", \"Jammu and Kashmir\", \"Haryana\", \"Andaman and Nicobar Islands (UT)\", \"Delhi (UT)\", \"Chandigarh (UT)\", \"Dadra and Nagar Haveli (UT)\", \"Daman and Diu (UT)\"], \"y\": [1084.0, 1037.0, 996.0, 996.0, 991.0, 989.0, 988.0, 985.0, 979.0, 976.0, 973.0, 973.0, 972.0, 963.0, 960.0, 958.0, 950.0, 948.0, 946.0, 938.0, 931.0, 931.0, 930.0, 929.0, 928.0, 919.0, 918.0, 895.0, 890.0, 889.0, 879.0, 876.0, 868.0, 818.0, 774.0, 618.0], \"type\": \"bar\", \"uid\": \"9749d658-e0c1-11e8-872e-186024bdfae3\", \"xaxis\": \"x3\", \"yaxis\": \"y3\"}],\n",
       "            {\"annotations\": [{\"font\": {\"size\": 16}, \"showarrow\": false, \"text\": \"Population distribution by States(2011)\", \"x\": 0.5, \"xanchor\": \"center\", \"xref\": \"paper\", \"y\": 1.0, \"yanchor\": \"bottom\", \"yref\": \"paper\"}, {\"font\": {\"size\": 16}, \"showarrow\": false, \"text\": \"Cities with largest Population(2011)\", \"x\": 0.5, \"xanchor\": \"center\", \"xref\": \"paper\", \"y\": 0.6111111111111112, \"yanchor\": \"bottom\", \"yref\": \"paper\"}, {\"font\": {\"size\": 16}, \"showarrow\": false, \"text\": \"Sex Ratio by States(2011)\", \"x\": 0.5, \"xanchor\": \"center\", \"xref\": \"paper\", \"y\": 0.22222222222222224, \"yanchor\": \"bottom\", \"yref\": \"paper\"}], \"xaxis\": {\"anchor\": \"y\", \"domain\": [0.0, 1.0]}, \"yaxis\": {\"anchor\": \"x\", \"domain\": [0.7777777777777778, 1.0], \"title\": \"Population\"}, \"xaxis2\": {\"anchor\": \"y2\", \"domain\": [0.0, 1.0]}, \"yaxis2\": {\"anchor\": \"x2\", \"domain\": [0.3888888888888889, 0.6111111111111112], \"title\": \"Population\"}, \"xaxis3\": {\"anchor\": \"y3\", \"domain\": [0.0, 1.0]}, \"yaxis3\": {\"anchor\": \"x3\", \"domain\": [0.0, 0.22222222222222224], \"title\": \"Sex Ratio\"}, \"height\": 1000, \"width\": 1000, \"showlegend\": false},\n",
       "            {\"showLink\": true, \"linkText\": \"Export to plot.ly\"}\n",
       "        ).then(function () {return Plotly.addFrames('f10b242d-7322-415a-8c22-5f19e32b1b3a',{});}).then(function(){Plotly.animate('f10b242d-7322-415a-8c22-5f19e32b1b3a');})\n",
       "        });</script>"
      ],
      "text/vnd.plotly.v1+html": [
       "<div id=\"f10b242d-7322-415a-8c22-5f19e32b1b3a\" style=\"height: 1000px; width: 1000px;\" class=\"plotly-graph-div\"></div><script type=\"text/javascript\">require([\"plotly\"], function(Plotly) { window.PLOTLYENV=window.PLOTLYENV || {};window.PLOTLYENV.BASE_URL=\"https://plot.ly\";\n",
       "        Plotly.plot(\n",
       "            'f10b242d-7322-415a-8c22-5f19e32b1b3a',\n",
       "            [{\"marker\": {\"color\": [\"rgba(222,45,38,0.8)\", \"rgba(222,45,38,0.8)\", \"rgba(222,45,38,0.8)\", \"rgba(204,204,204,1)\", \"rgba(204,204,204,1)\", \"rgba(204,204,204,1)\", \"rgba(204,204,204,1)\", \"rgba(204,204,204,1)\", \"rgba(204,204,204,1)\", \"rgba(204,204,204,1)\", \"rgba(204,204,204,1)\", \"rgba(204,204,204,1)\", \"rgba(204,204,204,1)\", \"rgba(204,204,204,1)\", \"rgba(204,204,204,1)\", \"rgba(204,204,204,1)\", \"rgba(204,204,204,1)\", \"rgba(204,204,204,1)\", \"rgba(204,204,204,1)\", \"rgba(204,204,204,1)\", \"rgba(204,204,204,1)\", \"rgba(204,204,204,1)\", \"rgba(204,204,204,1)\", \"rgba(204,204,204,1)\", \"rgba(204,204,204,1)\", \"rgba(204,204,204,1)\", \"rgba(204,204,204,1)\", \"rgba(204,204,204,1)\", \"rgba(204,204,204,1)\", \"rgba(204,204,204,1)\", \"rgba(204,204,204,1)\", \"rgba(204,204,204,1)\", \"rgba(204,204,204,1)\", \"rgba(204,204,204,1)\", \"rgba(204,204,204,1)\", \"rgba(204,204,204,1)\"], \"line\": {\"color\": \"rgb(0,0,0)\", \"width\": 1.5}}, \"x\": [\"Uttar Pradesh\", \"Maharashtra\", \"Bihar\", \"West Bengal\", \"Madhya Pradesh\", \"Tamil Nadu\", \"Rajasthan\", \"Karnataka\", \"Gujarat\", \"Andhra Pradesh\", \"Odisha\", \"Telangana\", \"Kerala\", \"Jharkhand\", \"Assam\", \"Punjab\", \"Chhattisgarh\", \"Haryana\", \"Delhi (UT)\", \"Jammu and Kashmir\", \"Uttarakhand\", \"Himachal Pradesh\", \"Tripura\", \"Meghalaya\", \"Manipur\", \"Nagaland\", \"Goa\", \"Arunachal Pradesh\", \"Puducherry (UT)\", \"Mizoram\", \"Chandigarh (UT)\", \"Sikkim\", \"Andaman and Nicobar Islands (UT)\", \"Dadra and Nagar Haveli (UT)\", \"Daman and Diu (UT)\", \"Lakshadweep (UT)\"], \"y\": [199812341.0, 112374333.0, 104099452.0, 91276115.0, 72626809.0, 72147030.0, 68548437.0, 61095297.0, 60439692.0, 49386799.0, 41974218.0, 35193978.0, 33406061.0, 32988134.0, 31205576.0, 27743338.0, 25545198.0, 25351462.0, 16787941.0, 12541302.0, 10086292.0, 6864602.0, 3673917.0, 2966889.0, 2855794.0, 1978502.0, 1458545.0, 1383727.0, 1247953.0, 1097206.0, 1055450.0, 610577.0, 380581.0, 343709.0, 243247.0, 64473.0], \"type\": \"bar\", \"uid\": \"973e63e2-e0c1-11e8-ab47-186024bdfae3\", \"xaxis\": \"x\", \"yaxis\": \"y\"}, {\"marker\": {\"color\": [\"rgba(222,45,38,0.8)\", \"rgba(222,45,38,0.8)\", \"rgba(222,45,38,0.8)\", \"rgba(222,45,38,0.8)\", \"rgba(222,45,38,0.8)\", \"rgba(222,45,38,0.8)\", \"rgba(222,45,38,0.8)\", \"rgba(222,45,38,0.8)\", \"rgba(204,204,204,1)\", \"rgba(204,204,204,1)\", \"rgba(204,204,204,1)\", \"rgba(204,204,204,1)\", \"rgba(204,204,204,1)\", \"rgba(204,204,204,1)\", \"rgba(204,204,204,1)\", \"rgba(204,204,204,1)\", \"rgba(204,204,204,1)\", \"rgba(204,204,204,1)\", \"rgba(204,204,204,1)\", \"rgba(204,204,204,1)\"], \"line\": {\"color\": \"rgb(0,0,0)\", \"width\": 1.5}}, \"text\": [\"Maharashtra\", \"Delhi\", \"Karnataka\", \"Telangana\", \"Gujarat\", \"Tamil Nadu\", \"West Bengal\", \"Gujarat\", \"Maharashtra\", \"Rajasthan\", \"Uttar Pradesh\", \"Uttar Pradesh\", \"Maharashtra\", \"Madhya Pradesh\", \"Maharastra\", \"Madhya Pradesh\", \"Andhra Pradesh\", \"Maharashtra\", \"Bihar\", \"Punjab\"], \"x\": [\"Mumbai\", \"Delhi\", \"Bangalore\", \"Hyderabad\", \"Ahmedabad\", \"Chennai\", \"Kolkata\", \"Surat\", \"Pune\", \"Jaipur\", \"Kanpur\", \"Lucknow\", \"Nagpur\", \"Indore\", \"Thane\", \"Bhopal\", \"Visakhapatnam\", \"Pimpri-Chinchwad\", \"Patna\", \"Ludhiana\"], \"y\": [12478447.0, 11007835.0, 8425970.0, 6809970.0, 5570585.0, 4681087.0, 4486679.0, 4462002.0, 3115431.0, 3073350.0, 2920067.0, 2901474.0, 2405421.0, 1960521.0, 1818872.0, 1795648.0, 1730320.0, 1729359.0, 1683200.0, 1613878.0], \"type\": \"bar\", \"uid\": \"97431f1c-e0c1-11e8-90e4-186024bdfae3\", \"xaxis\": \"x2\", \"yaxis\": \"y2\"}, {\"marker\": {\"color\": [\"rgba(222,45,38,0.8)\", \"rgba(222,45,38,0.8)\", \"rgba(204,204,204,1)\", \"rgba(204,204,204,1)\", \"rgba(204,204,204,1)\", \"rgba(204,204,204,1)\", \"rgba(204,204,204,1)\", \"rgba(204,204,204,1)\", \"rgba(204,204,204,1)\", \"rgba(204,204,204,1)\", \"rgba(204,204,204,1)\", \"rgba(204,204,204,1)\", \"rgba(204,204,204,1)\", \"rgba(204,204,204,1)\", \"rgba(204,204,204,1)\", \"rgba(204,204,204,1)\", \"rgba(204,204,204,1)\", \"rgba(204,204,204,1)\", \"rgba(204,204,204,1)\", \"rgba(204,204,204,1)\", \"rgba(204,204,204,1)\", \"rgba(204,204,204,1)\", \"rgba(204,204,204,1)\", \"rgba(204,204,204,1)\", \"rgba(204,204,204,1)\", \"rgba(204,204,204,1)\", \"rgba(204,204,204,1)\", \"rgba(204,204,204,1)\", \"rgba(204,204,204,1)\", \"rgba(204,204,204,1)\", \"rgba(204,204,204,1)\", \"rgba(204,204,204,1)\", \"rgba(204,204,204,1)\", \"rgba(204,204,204,1)\", \"rgba(204,204,204,1)\", \"rgba(204,204,204,1)\"], \"line\": {\"color\": \"rgb(0,0,0)\", \"width\": 1.5}}, \"x\": [\"Kerala\", \"Puducherry (UT)\", \"Tamil Nadu\", \"Andhra Pradesh\", \"Chhattisgarh\", \"Meghalaya\", \"Telangana\", \"Manipur\", \"Odisha\", \"Mizoram\", \"Karnataka\", \"Goa\", \"Himachal Pradesh\", \"Uttarakhand\", \"Tripura\", \"Assam\", \"West Bengal\", \"Jharkhand\", \"Lakshadweep (UT)\", \"Arunachal Pradesh\", \"Nagaland\", \"Madhya Pradesh\", \"Uttar Pradesh\", \"Maharashtra\", \"Rajasthan\", \"Gujarat\", \"Bihar\", \"Punjab\", \"Sikkim\", \"Jammu and Kashmir\", \"Haryana\", \"Andaman and Nicobar Islands (UT)\", \"Delhi (UT)\", \"Chandigarh (UT)\", \"Dadra and Nagar Haveli (UT)\", \"Daman and Diu (UT)\"], \"y\": [1084.0, 1037.0, 996.0, 996.0, 991.0, 989.0, 988.0, 985.0, 979.0, 976.0, 973.0, 973.0, 972.0, 963.0, 960.0, 958.0, 950.0, 948.0, 946.0, 938.0, 931.0, 931.0, 930.0, 929.0, 928.0, 919.0, 918.0, 895.0, 890.0, 889.0, 879.0, 876.0, 868.0, 818.0, 774.0, 618.0], \"type\": \"bar\", \"uid\": \"9749d658-e0c1-11e8-872e-186024bdfae3\", \"xaxis\": \"x3\", \"yaxis\": \"y3\"}],\n",
       "            {\"annotations\": [{\"font\": {\"size\": 16}, \"showarrow\": false, \"text\": \"Population distribution by States(2011)\", \"x\": 0.5, \"xanchor\": \"center\", \"xref\": \"paper\", \"y\": 1.0, \"yanchor\": \"bottom\", \"yref\": \"paper\"}, {\"font\": {\"size\": 16}, \"showarrow\": false, \"text\": \"Cities with largest Population(2011)\", \"x\": 0.5, \"xanchor\": \"center\", \"xref\": \"paper\", \"y\": 0.6111111111111112, \"yanchor\": \"bottom\", \"yref\": \"paper\"}, {\"font\": {\"size\": 16}, \"showarrow\": false, \"text\": \"Sex Ratio by States(2011)\", \"x\": 0.5, \"xanchor\": \"center\", \"xref\": \"paper\", \"y\": 0.22222222222222224, \"yanchor\": \"bottom\", \"yref\": \"paper\"}], \"xaxis\": {\"anchor\": \"y\", \"domain\": [0.0, 1.0]}, \"yaxis\": {\"anchor\": \"x\", \"domain\": [0.7777777777777778, 1.0], \"title\": \"Population\"}, \"xaxis2\": {\"anchor\": \"y2\", \"domain\": [0.0, 1.0]}, \"yaxis2\": {\"anchor\": \"x2\", \"domain\": [0.3888888888888889, 0.6111111111111112], \"title\": \"Population\"}, \"xaxis3\": {\"anchor\": \"y3\", \"domain\": [0.0, 1.0]}, \"yaxis3\": {\"anchor\": \"x3\", \"domain\": [0.0, 0.22222222222222224], \"title\": \"Sex Ratio\"}, \"height\": 1000, \"width\": 1000, \"showlegend\": false},\n",
       "            {\"showLink\": true, \"linkText\": \"Export to plot.ly\"}\n",
       "        ).then(function () {return Plotly.addFrames('f10b242d-7322-415a-8c22-5f19e32b1b3a',{});}).then(function(){Plotly.animate('f10b242d-7322-415a-8c22-5f19e32b1b3a');})\n",
       "        });</script>"
      ]
     },
     "metadata": {},
     "output_type": "display_data"
    }
   ],
   "source": [
    "pop_dist_by_states_df_clean.sort_values(by = 'Population[51]',ascending = False,inplace = True)\n",
    "\n",
    "colors_states = assign_color(pop_dist_by_states_df_clean['Population[51]'],100000000)\n",
    "trace1 = bar_plot(pop_dist_by_states_df_clean['State/UT'],pop_dist_by_states_df_clean['Population[51]'],colors_states,T = None,TP = None)\n",
    "\n",
    "\n",
    "largest_cities_df_clean.sort_values(by = 'population',ascending = False,inplace = True)\n",
    "colors_bar = assign_color(largest_cities_df_clean['population'],largest_cities_df_clean['population'].mean())\n",
    "trace2 = bar_plot(largest_cities_df_clean['city'],largest_cities_df_clean['population'],colors_bar,T = largest_cities_df_clean['state'],TP = None)\n",
    "\n",
    "\n",
    "pop_dist_by_states_df_clean['Sex Ratio']=pop_dist_by_states_df_clean['Sex Ratio'].astype(int)\n",
    "df = pop_dist_by_states_df_clean.sort_values(by = 'Sex Ratio',ascending = False)\n",
    "colors_sexratio = assign_color(df['Sex Ratio'],1000)\n",
    "trace3 = bar_plot(df['State/UT'],df['Sex Ratio'],colors_sexratio,T = None, TP = None)\n",
    "\n",
    "\n",
    "data = [trace1,trace2,trace3]\n",
    "\n",
    "fig = tools.make_subplots(rows=3, cols=1, print_grid = False,subplot_titles=('Population distribution by States(2011)', \n",
    "                                                                             'Cities with largest Population(2011)',\n",
    "                                                                              'Sex Ratio by States(2011)'))\n",
    "\n",
    "fig.append_trace(trace1, 1, 1)\n",
    "fig.append_trace(trace2, 2, 1)\n",
    "fig.append_trace(trace3, 3, 1)\n",
    "\n",
    "\n",
    "fig['layout']['yaxis1'].update(title='Population')\n",
    "fig['layout']['yaxis2'].update(title='Population')\n",
    "fig['layout']['yaxis3'].update(title='Sex Ratio')\n",
    "\n",
    "\n",
    "fig['layout'].update(height = 1000, width = 1000, showlegend = False)\n",
    "\n",
    "iplot(fig)"
   ]
  },
  {
   "cell_type": "markdown",
   "metadata": {},
   "source": [
    "Population distribution by states:\n",
    "- Uttarpradesh,Maharashtra,Bihar are the states with population above 100Million at 2011 census.\n",
    "\n",
    "Cities with largest population:\n",
    "- Mumbai, Delhi, Bangalore, Hyderabad, Ahmedabad, cheannai, kolkata, surat are the cities with population above the mean population.\n",
    "\n",
    "Sex ratio is used to describe number of females per 1000 of males.The major cause of the decrease of the female birth ratio in India is considered to be the violent treatments meted out to the girl child at the time of the birth.\n",
    "\n",
    "- Puducherry and Kerala are the states where the number of women are more than the number of men.In 2011 Kerala and Puducherry had sex ratio of 1084 and 1037 respectively"
   ]
  },
  {
   "cell_type": "code",
   "execution_count": 124,
   "metadata": {},
   "outputs": [],
   "source": [
    "pop_dist_by_states_df_clean['Rural_pop_per'] = pop_dist_by_states_df_clean['Rural[52]'] / pop_dist_by_states_df_clean['Population[51]']\n",
    "\n",
    "pop_dist_by_states_df_clean['Urban_pop_per'] = pop_dist_by_states_df_clean['Urban[52]'] / pop_dist_by_states_df_clean['Population[51]']"
   ]
  },
  {
   "cell_type": "code",
   "execution_count": 125,
   "metadata": {},
   "outputs": [
    {
     "name": "stdout",
     "output_type": "stream",
     "text": [
      "Percentage of Population staying in Rural Areas in 2011:61.28%\n",
      "Percentage of Population staying in Urban Areas in 2011:38.03%\n"
     ]
    },
    {
     "data": {
      "application/vnd.plotly.v1+json": {
       "data": [
        {
         "marker": {
          "color": "rgba(55, 128, 191, 0.7)",
          "line": {
           "color": "rgb(0,0,0)",
           "width": 1.5
          }
         },
         "name": "Rural_pop_per",
         "type": "bar",
         "uid": "978e36a4-e0c1-11e8-8656-186024bdfae3",
         "x": [
          "Himachal Pradesh",
          "Bihar",
          "Assam",
          "Odisha",
          "Meghalaya",
          "Uttar Pradesh",
          "Arunachal Pradesh",
          "Chhattisgarh",
          "Jharkhand",
          "Rajasthan",
          "Sikkim",
          "Tripura",
          "Jammu and Kashmir",
          "Madhya Pradesh",
          "Nagaland",
          "Andhra Pradesh",
          "Uttarakhand",
          "West Bengal",
          "Manipur",
          "Haryana",
          "Andaman and Nicobar Islands (UT)",
          "Punjab",
          "Karnataka",
          "Telangana",
          "Gujarat",
          "Maharashtra",
          "Dadra and Nagar Haveli (UT)",
          "Kerala",
          "Tamil Nadu",
          "Mizoram",
          "Goa",
          "Puducherry (UT)",
          "Daman and Diu (UT)",
          "Lakshadweep (UT)",
          "Delhi (UT)",
          "Chandigarh (UT)"
         ],
         "y": [
          0.8984941880097346,
          0.88449099616778,
          0.858196817132938,
          0.8326833867399269,
          0.7984697101913822,
          0.7762834929199893,
          0.77267047618497,
          0.7674106890852833,
          0.7589682399131761,
          0.751880542513318,
          0.7467723153672674,
          0.7376462233632387,
          0.7283789195093141,
          0.7233953924645099,
          0.7110738326269066,
          0.7041636571748657,
          0.6965476510099053,
          0.6815986416599786,
          0.6651824326264429,
          0.6520922935332093,
          0.6422049445453136,
          0.6241786766970867,
          0.6146549872734066,
          0.6133240465172763,
          0.5736431780625222,
          0.5476823697810068,
          0.5324969669109625,
          0.522225772143564,
          0.5154644480860819,
          0.48216743255140787,
          0.3780575847848369,
          0.31599026565904326,
          0.2480236138575193,
          0.2190219161509469,
          0.05627414344617961,
          0.027480221706381164
         ]
        },
        {
         "marker": {
          "color": "rgba(219, 64, 82, 0.7)",
          "line": {
           "color": "rgb(0,0,0)",
           "width": 1.5
          }
         },
         "name": "Urban_pop_per",
         "type": "bar",
         "uid": "978e36a5-e0c1-11e8-a9d2-186024bdfae3",
         "x": [
          "Himachal Pradesh",
          "Bihar",
          "Assam",
          "Odisha",
          "Meghalaya",
          "Uttar Pradesh",
          "Arunachal Pradesh",
          "Chhattisgarh",
          "Jharkhand",
          "Rajasthan",
          "Sikkim",
          "Tripura",
          "Jammu and Kashmir",
          "Madhya Pradesh",
          "Nagaland",
          "Andhra Pradesh",
          "Uttarakhand",
          "West Bengal",
          "Manipur",
          "Haryana",
          "Andaman and Nicobar Islands (UT)",
          "Punjab",
          "Karnataka",
          "Telangana",
          "Gujarat",
          "Maharashtra",
          "Dadra and Nagar Haveli (UT)",
          "Kerala",
          "Tamil Nadu",
          "Mizoram",
          "Goa",
          "Puducherry (UT)",
          "Daman and Diu (UT)",
          "Lakshadweep (UT)",
          "Delhi (UT)",
          "Chandigarh (UT)"
         ],
         "y": [
          0.10032686527201432,
          0.11267695242046039,
          0.14064012149623517,
          0.16667669663315704,
          0.20055890193397866,
          0.22256110297011134,
          0.22652300634445957,
          0.2323935011190753,
          0.24036800626552565,
          0.24917819789238957,
          0.24849609467765738,
          0.2615685112102424,
          0.2722289918542748,
          0.2762019463088348,
          0.2899875764593617,
          0.2958363428251343,
          0.3064722893209913,
          0.31918602144712227,
          0.28788210914372675,
          0.347971568661405,
          0.35612129875112,
          0.37441190385958606,
          0.38592454996986103,
          0.38667595348272366,
          0.42542921959297875,
          0.45230551891240145,
          0.4650125542246493,
          0.47692456168358194,
          0.4844236692764761,
          0.5122073703570706,
          0.6213788398712415,
          0.6812139559743036,
          0.7505950741427438,
          0.7802956276270687,
          0.7687529995489024,
          0.9717959164337486
         ]
        }
       ],
       "layout": {
        "title": "Rural and Urban Population by States in 2011",
        "yaxis": {
         "title": "Proportion"
        }
       }
      },
      "text/html": [
       "<div id=\"de7995c3-542d-4c06-b547-6b5e0c4cce43\" style=\"height: 525px; width: 100%;\" class=\"plotly-graph-div\"></div><script type=\"text/javascript\">require([\"plotly\"], function(Plotly) { window.PLOTLYENV=window.PLOTLYENV || {};window.PLOTLYENV.BASE_URL=\"https://plot.ly\";Plotly.newPlot(\"de7995c3-542d-4c06-b547-6b5e0c4cce43\", [{\"marker\": {\"color\": \"rgba(55, 128, 191, 0.7)\", \"line\": {\"color\": \"rgb(0,0,0)\", \"width\": 1.5}}, \"name\": \"Rural_pop_per\", \"x\": [\"Himachal Pradesh\", \"Bihar\", \"Assam\", \"Odisha\", \"Meghalaya\", \"Uttar Pradesh\", \"Arunachal Pradesh\", \"Chhattisgarh\", \"Jharkhand\", \"Rajasthan\", \"Sikkim\", \"Tripura\", \"Jammu and Kashmir\", \"Madhya Pradesh\", \"Nagaland\", \"Andhra Pradesh\", \"Uttarakhand\", \"West Bengal\", \"Manipur\", \"Haryana\", \"Andaman and Nicobar Islands (UT)\", \"Punjab\", \"Karnataka\", \"Telangana\", \"Gujarat\", \"Maharashtra\", \"Dadra and Nagar Haveli (UT)\", \"Kerala\", \"Tamil Nadu\", \"Mizoram\", \"Goa\", \"Puducherry (UT)\", \"Daman and Diu (UT)\", \"Lakshadweep (UT)\", \"Delhi (UT)\", \"Chandigarh (UT)\"], \"y\": [0.8984941880097346, 0.88449099616778, 0.858196817132938, 0.8326833867399269, 0.7984697101913822, 0.7762834929199893, 0.77267047618497, 0.7674106890852833, 0.7589682399131761, 0.751880542513318, 0.7467723153672674, 0.7376462233632387, 0.7283789195093141, 0.7233953924645099, 0.7110738326269066, 0.7041636571748657, 0.6965476510099053, 0.6815986416599786, 0.6651824326264429, 0.6520922935332093, 0.6422049445453136, 0.6241786766970867, 0.6146549872734066, 0.6133240465172763, 0.5736431780625222, 0.5476823697810068, 0.5324969669109625, 0.522225772143564, 0.5154644480860819, 0.48216743255140787, 0.3780575847848369, 0.31599026565904326, 0.2480236138575193, 0.2190219161509469, 0.05627414344617961, 0.027480221706381164], \"type\": \"bar\", \"uid\": \"97a7b3dc-e0c1-11e8-9204-186024bdfae3\"}, {\"marker\": {\"color\": \"rgba(219, 64, 82, 0.7)\", \"line\": {\"color\": \"rgb(0,0,0)\", \"width\": 1.5}}, \"name\": \"Urban_pop_per\", \"x\": [\"Himachal Pradesh\", \"Bihar\", \"Assam\", \"Odisha\", \"Meghalaya\", \"Uttar Pradesh\", \"Arunachal Pradesh\", \"Chhattisgarh\", \"Jharkhand\", \"Rajasthan\", \"Sikkim\", \"Tripura\", \"Jammu and Kashmir\", \"Madhya Pradesh\", \"Nagaland\", \"Andhra Pradesh\", \"Uttarakhand\", \"West Bengal\", \"Manipur\", \"Haryana\", \"Andaman and Nicobar Islands (UT)\", \"Punjab\", \"Karnataka\", \"Telangana\", \"Gujarat\", \"Maharashtra\", \"Dadra and Nagar Haveli (UT)\", \"Kerala\", \"Tamil Nadu\", \"Mizoram\", \"Goa\", \"Puducherry (UT)\", \"Daman and Diu (UT)\", \"Lakshadweep (UT)\", \"Delhi (UT)\", \"Chandigarh (UT)\"], \"y\": [0.10032686527201432, 0.11267695242046039, 0.14064012149623517, 0.16667669663315704, 0.20055890193397866, 0.22256110297011134, 0.22652300634445957, 0.2323935011190753, 0.24036800626552565, 0.24917819789238957, 0.24849609467765738, 0.2615685112102424, 0.2722289918542748, 0.2762019463088348, 0.2899875764593617, 0.2958363428251343, 0.3064722893209913, 0.31918602144712227, 0.28788210914372675, 0.347971568661405, 0.35612129875112, 0.37441190385958606, 0.38592454996986103, 0.38667595348272366, 0.42542921959297875, 0.45230551891240145, 0.4650125542246493, 0.47692456168358194, 0.4844236692764761, 0.5122073703570706, 0.6213788398712415, 0.6812139559743036, 0.7505950741427438, 0.7802956276270687, 0.7687529995489024, 0.9717959164337486], \"type\": \"bar\", \"uid\": \"97a7b3dd-e0c1-11e8-bc9b-186024bdfae3\"}], {\"title\": \"Rural and Urban Population by States in 2011\", \"yaxis\": {\"title\": \"Proportion\"}}, {\"showLink\": true, \"linkText\": \"Export to plot.ly\"})});</script>"
      ],
      "text/vnd.plotly.v1+html": [
       "<div id=\"de7995c3-542d-4c06-b547-6b5e0c4cce43\" style=\"height: 525px; width: 100%;\" class=\"plotly-graph-div\"></div><script type=\"text/javascript\">require([\"plotly\"], function(Plotly) { window.PLOTLYENV=window.PLOTLYENV || {};window.PLOTLYENV.BASE_URL=\"https://plot.ly\";Plotly.newPlot(\"de7995c3-542d-4c06-b547-6b5e0c4cce43\", [{\"marker\": {\"color\": \"rgba(55, 128, 191, 0.7)\", \"line\": {\"color\": \"rgb(0,0,0)\", \"width\": 1.5}}, \"name\": \"Rural_pop_per\", \"x\": [\"Himachal Pradesh\", \"Bihar\", \"Assam\", \"Odisha\", \"Meghalaya\", \"Uttar Pradesh\", \"Arunachal Pradesh\", \"Chhattisgarh\", \"Jharkhand\", \"Rajasthan\", \"Sikkim\", \"Tripura\", \"Jammu and Kashmir\", \"Madhya Pradesh\", \"Nagaland\", \"Andhra Pradesh\", \"Uttarakhand\", \"West Bengal\", \"Manipur\", \"Haryana\", \"Andaman and Nicobar Islands (UT)\", \"Punjab\", \"Karnataka\", \"Telangana\", \"Gujarat\", \"Maharashtra\", \"Dadra and Nagar Haveli (UT)\", \"Kerala\", \"Tamil Nadu\", \"Mizoram\", \"Goa\", \"Puducherry (UT)\", \"Daman and Diu (UT)\", \"Lakshadweep (UT)\", \"Delhi (UT)\", \"Chandigarh (UT)\"], \"y\": [0.8984941880097346, 0.88449099616778, 0.858196817132938, 0.8326833867399269, 0.7984697101913822, 0.7762834929199893, 0.77267047618497, 0.7674106890852833, 0.7589682399131761, 0.751880542513318, 0.7467723153672674, 0.7376462233632387, 0.7283789195093141, 0.7233953924645099, 0.7110738326269066, 0.7041636571748657, 0.6965476510099053, 0.6815986416599786, 0.6651824326264429, 0.6520922935332093, 0.6422049445453136, 0.6241786766970867, 0.6146549872734066, 0.6133240465172763, 0.5736431780625222, 0.5476823697810068, 0.5324969669109625, 0.522225772143564, 0.5154644480860819, 0.48216743255140787, 0.3780575847848369, 0.31599026565904326, 0.2480236138575193, 0.2190219161509469, 0.05627414344617961, 0.027480221706381164], \"type\": \"bar\", \"uid\": \"97a7b3dc-e0c1-11e8-9204-186024bdfae3\"}, {\"marker\": {\"color\": \"rgba(219, 64, 82, 0.7)\", \"line\": {\"color\": \"rgb(0,0,0)\", \"width\": 1.5}}, \"name\": \"Urban_pop_per\", \"x\": [\"Himachal Pradesh\", \"Bihar\", \"Assam\", \"Odisha\", \"Meghalaya\", \"Uttar Pradesh\", \"Arunachal Pradesh\", \"Chhattisgarh\", \"Jharkhand\", \"Rajasthan\", \"Sikkim\", \"Tripura\", \"Jammu and Kashmir\", \"Madhya Pradesh\", \"Nagaland\", \"Andhra Pradesh\", \"Uttarakhand\", \"West Bengal\", \"Manipur\", \"Haryana\", \"Andaman and Nicobar Islands (UT)\", \"Punjab\", \"Karnataka\", \"Telangana\", \"Gujarat\", \"Maharashtra\", \"Dadra and Nagar Haveli (UT)\", \"Kerala\", \"Tamil Nadu\", \"Mizoram\", \"Goa\", \"Puducherry (UT)\", \"Daman and Diu (UT)\", \"Lakshadweep (UT)\", \"Delhi (UT)\", \"Chandigarh (UT)\"], \"y\": [0.10032686527201432, 0.11267695242046039, 0.14064012149623517, 0.16667669663315704, 0.20055890193397866, 0.22256110297011134, 0.22652300634445957, 0.2323935011190753, 0.24036800626552565, 0.24917819789238957, 0.24849609467765738, 0.2615685112102424, 0.2722289918542748, 0.2762019463088348, 0.2899875764593617, 0.2958363428251343, 0.3064722893209913, 0.31918602144712227, 0.28788210914372675, 0.347971568661405, 0.35612129875112, 0.37441190385958606, 0.38592454996986103, 0.38667595348272366, 0.42542921959297875, 0.45230551891240145, 0.4650125542246493, 0.47692456168358194, 0.4844236692764761, 0.5122073703570706, 0.6213788398712415, 0.6812139559743036, 0.7505950741427438, 0.7802956276270687, 0.7687529995489024, 0.9717959164337486], \"type\": \"bar\", \"uid\": \"97a7b3dd-e0c1-11e8-bc9b-186024bdfae3\"}], {\"title\": \"Rural and Urban Population by States in 2011\", \"yaxis\": {\"title\": \"Proportion\"}}, {\"showLink\": true, \"linkText\": \"Export to plot.ly\"})});</script>"
      ]
     },
     "metadata": {},
     "output_type": "display_data"
    }
   ],
   "source": [
    "pop_dist_by_states_df_clean.sort_values(by  = 'Rural_pop_per',ascending = False,inplace = True )\n",
    "print(f\"Percentage of Population staying in Rural Areas in 2011:{pop_dist_by_states_df_clean['Rural_pop_per'].mean()*100:.2f}%\")\n",
    "print(f\"Percentage of Population staying in Urban Areas in 2011:{pop_dist_by_states_df_clean['Urban_pop_per'].mean()*100:.2f}%\")\n",
    "\n",
    "traces = []\n",
    "col_list = ['Rural_pop_per','Urban_pop_per']\n",
    "color_list = ['rgba(55, 128, 191, 0.7)','rgba(219, 64, 82, 0.7)']\n",
    "for i in range(2):\n",
    "    trace = go.Bar(\n",
    "                   x  = pop_dist_by_states_df_clean['State/UT'],\n",
    "                   y  =  pop_dist_by_states_df_clean[col_list[i]],\n",
    "                   name = col_list[i],\n",
    "                   marker = dict(color = color_list[i],\n",
    "                              line=dict(color='rgb(0,0,0)',width=1.5)))\n",
    "    traces.append(trace)\n",
    "\n",
    "data = traces\n",
    "layout = dict(title = 'Rural and Urban Population by States in 2011',\n",
    "             yaxis = dict(title = 'Proportion'))\n",
    "fig = {'data':data,'layout':layout}\n",
    "iplot(fig)"
   ]
  },
  {
   "cell_type": "code",
   "execution_count": 126,
   "metadata": {},
   "outputs": [],
   "source": [
    "def change_dtype(df,col_list):\n",
    "    df[col_list] = df[col_list].astype(float)\n",
    "    \n",
    "    return df[col_list]\n",
    "    "
   ]
  },
  {
   "cell_type": "code",
   "execution_count": 127,
   "metadata": {},
   "outputs": [],
   "source": [
    "col_list = ['Overall (%)', 'Male (%)','Female (%)']\n",
    "literacy_rate_df_clean[col_list] = change_dtype(literacy_rate_df_clean,col_list)"
   ]
  },
  {
   "cell_type": "code",
   "execution_count": 128,
   "metadata": {},
   "outputs": [
    {
     "name": "stdout",
     "output_type": "stream",
     "text": [
      "Average Literacy rate in India is: 79.1497%\n"
     ]
    },
    {
     "data": {
      "application/vnd.plotly.v1+json": {
       "data": [
        {
         "marker": {
          "color": "rgba(55, 128, 191, 0.7)",
          "line": {
           "color": "rgb(0,0,0)",
           "width": 1.5
          }
         },
         "name": "Overall (%)",
         "type": "bar",
         "uid": "9804f518-e0c1-11e8-b2a1-186024bdfae3",
         "x": [
          "Kerala",
          "Lakshadweep",
          "Mizoram",
          "Tripura",
          "Goa",
          "Daman and Diu",
          "Jammu and Kashmir",
          "Puducherry",
          "Chandigarh",
          "Delhi",
          "Andaman and Nicobar Islands",
          "Himachal Pradesh",
          "Maharashtra",
          "Sikkim",
          "Tamil Nadu"
         ],
         "y": [
          93.91,
          92.28,
          91.58,
          87.75,
          87.4,
          87.07,
          86.61,
          86.55,
          86.43,
          86.34,
          86.27,
          83.78,
          83.2,
          82.2,
          80.33
         ]
        },
        {
         "marker": {
          "color": "rgba(219, 64, 82, 0.7)",
          "line": {
           "color": "rgb(0,0,0)",
           "width": 1.5
          }
         },
         "name": "Male (%)",
         "type": "bar",
         "uid": "9804f519-e0c1-11e8-8308-186024bdfae3",
         "x": [
          "Kerala",
          "Lakshadweep",
          "Mizoram",
          "Tripura",
          "Goa",
          "Daman and Diu",
          "Jammu and Kashmir",
          "Puducherry",
          "Chandigarh",
          "Delhi",
          "Andaman and Nicobar Islands",
          "Himachal Pradesh",
          "Maharashtra",
          "Sikkim",
          "Tamil Nadu"
         ],
         "y": [
          96.02,
          96.11,
          93.72,
          92.18,
          92.81,
          91.48,
          87.26,
          92.12,
          90.54,
          91.03,
          90.11,
          90.83,
          89.82,
          87.29,
          86.81
         ]
        },
        {
         "marker": {
          "color": "rgba(50, 171, 96, 0.7)",
          "line": {
           "color": "rgb(0,0,0)",
           "width": 1.5
          }
         },
         "name": "Female (%)",
         "type": "bar",
         "uid": "9804f51a-e0c1-11e8-8755-186024bdfae3",
         "x": [
          "Kerala",
          "Lakshadweep",
          "Mizoram",
          "Tripura",
          "Goa",
          "Daman and Diu",
          "Jammu and Kashmir",
          "Puducherry",
          "Chandigarh",
          "Delhi",
          "Andaman and Nicobar Islands",
          "Himachal Pradesh",
          "Maharashtra",
          "Sikkim",
          "Tamil Nadu"
         ],
         "y": [
          91.98,
          88.25,
          89.4,
          83.15,
          81.84,
          79.59,
          86.23,
          81.22,
          81.38,
          80.93,
          81.84,
          76.6,
          75.48,
          76.43,
          73.86
         ]
        }
       ],
       "layout": {
        "title": "Top 15 States in Literacy Rate",
        "yaxis": {
         "title": "Literacy Rate"
        }
       }
      },
      "text/html": [
       "<div id=\"ba3bd4bd-c1a1-4562-bab7-6f1009c0e400\" style=\"height: 525px; width: 100%;\" class=\"plotly-graph-div\"></div><script type=\"text/javascript\">require([\"plotly\"], function(Plotly) { window.PLOTLYENV=window.PLOTLYENV || {};window.PLOTLYENV.BASE_URL=\"https://plot.ly\";Plotly.newPlot(\"ba3bd4bd-c1a1-4562-bab7-6f1009c0e400\", [{\"marker\": {\"color\": \"rgba(55, 128, 191, 0.7)\", \"line\": {\"color\": \"rgb(0,0,0)\", \"width\": 1.5}}, \"name\": \"Overall (%)\", \"x\": [\"Kerala\", \"Lakshadweep\", \"Mizoram\", \"Tripura\", \"Goa\", \"Daman and Diu\", \"Jammu and Kashmir\", \"Puducherry\", \"Chandigarh\", \"Delhi\", \"Andaman and Nicobar Islands\", \"Himachal Pradesh\", \"Maharashtra\", \"Sikkim\", \"Tamil Nadu\"], \"y\": [93.91, 92.28, 91.58, 87.75, 87.4, 87.07, 86.61, 86.55, 86.43, 86.34, 86.27, 83.78, 83.2, 82.2, 80.33], \"type\": \"bar\", \"uid\": \"982e2ad0-e0c1-11e8-92a2-186024bdfae3\"}, {\"marker\": {\"color\": \"rgba(219, 64, 82, 0.7)\", \"line\": {\"color\": \"rgb(0,0,0)\", \"width\": 1.5}}, \"name\": \"Male (%)\", \"x\": [\"Kerala\", \"Lakshadweep\", \"Mizoram\", \"Tripura\", \"Goa\", \"Daman and Diu\", \"Jammu and Kashmir\", \"Puducherry\", \"Chandigarh\", \"Delhi\", \"Andaman and Nicobar Islands\", \"Himachal Pradesh\", \"Maharashtra\", \"Sikkim\", \"Tamil Nadu\"], \"y\": [96.02, 96.11, 93.72, 92.18, 92.81, 91.48, 87.26, 92.12, 90.54, 91.03, 90.11, 90.83, 89.82, 87.29, 86.81], \"type\": \"bar\", \"uid\": \"982e2ad1-e0c1-11e8-88e2-186024bdfae3\"}, {\"marker\": {\"color\": \"rgba(50, 171, 96, 0.7)\", \"line\": {\"color\": \"rgb(0,0,0)\", \"width\": 1.5}}, \"name\": \"Female (%)\", \"x\": [\"Kerala\", \"Lakshadweep\", \"Mizoram\", \"Tripura\", \"Goa\", \"Daman and Diu\", \"Jammu and Kashmir\", \"Puducherry\", \"Chandigarh\", \"Delhi\", \"Andaman and Nicobar Islands\", \"Himachal Pradesh\", \"Maharashtra\", \"Sikkim\", \"Tamil Nadu\"], \"y\": [91.98, 88.25, 89.4, 83.15, 81.84, 79.59, 86.23, 81.22, 81.38, 80.93, 81.84, 76.6, 75.48, 76.43, 73.86], \"type\": \"bar\", \"uid\": \"982e2ad2-e0c1-11e8-bac4-186024bdfae3\"}], {\"title\": \"Top 15 States in Literacy Rate\", \"yaxis\": {\"title\": \"Literacy Rate\"}}, {\"showLink\": true, \"linkText\": \"Export to plot.ly\"})});</script>"
      ],
      "text/vnd.plotly.v1+html": [
       "<div id=\"ba3bd4bd-c1a1-4562-bab7-6f1009c0e400\" style=\"height: 525px; width: 100%;\" class=\"plotly-graph-div\"></div><script type=\"text/javascript\">require([\"plotly\"], function(Plotly) { window.PLOTLYENV=window.PLOTLYENV || {};window.PLOTLYENV.BASE_URL=\"https://plot.ly\";Plotly.newPlot(\"ba3bd4bd-c1a1-4562-bab7-6f1009c0e400\", [{\"marker\": {\"color\": \"rgba(55, 128, 191, 0.7)\", \"line\": {\"color\": \"rgb(0,0,0)\", \"width\": 1.5}}, \"name\": \"Overall (%)\", \"x\": [\"Kerala\", \"Lakshadweep\", \"Mizoram\", \"Tripura\", \"Goa\", \"Daman and Diu\", \"Jammu and Kashmir\", \"Puducherry\", \"Chandigarh\", \"Delhi\", \"Andaman and Nicobar Islands\", \"Himachal Pradesh\", \"Maharashtra\", \"Sikkim\", \"Tamil Nadu\"], \"y\": [93.91, 92.28, 91.58, 87.75, 87.4, 87.07, 86.61, 86.55, 86.43, 86.34, 86.27, 83.78, 83.2, 82.2, 80.33], \"type\": \"bar\", \"uid\": \"982e2ad0-e0c1-11e8-92a2-186024bdfae3\"}, {\"marker\": {\"color\": \"rgba(219, 64, 82, 0.7)\", \"line\": {\"color\": \"rgb(0,0,0)\", \"width\": 1.5}}, \"name\": \"Male (%)\", \"x\": [\"Kerala\", \"Lakshadweep\", \"Mizoram\", \"Tripura\", \"Goa\", \"Daman and Diu\", \"Jammu and Kashmir\", \"Puducherry\", \"Chandigarh\", \"Delhi\", \"Andaman and Nicobar Islands\", \"Himachal Pradesh\", \"Maharashtra\", \"Sikkim\", \"Tamil Nadu\"], \"y\": [96.02, 96.11, 93.72, 92.18, 92.81, 91.48, 87.26, 92.12, 90.54, 91.03, 90.11, 90.83, 89.82, 87.29, 86.81], \"type\": \"bar\", \"uid\": \"982e2ad1-e0c1-11e8-88e2-186024bdfae3\"}, {\"marker\": {\"color\": \"rgba(50, 171, 96, 0.7)\", \"line\": {\"color\": \"rgb(0,0,0)\", \"width\": 1.5}}, \"name\": \"Female (%)\", \"x\": [\"Kerala\", \"Lakshadweep\", \"Mizoram\", \"Tripura\", \"Goa\", \"Daman and Diu\", \"Jammu and Kashmir\", \"Puducherry\", \"Chandigarh\", \"Delhi\", \"Andaman and Nicobar Islands\", \"Himachal Pradesh\", \"Maharashtra\", \"Sikkim\", \"Tamil Nadu\"], \"y\": [91.98, 88.25, 89.4, 83.15, 81.84, 79.59, 86.23, 81.22, 81.38, 80.93, 81.84, 76.6, 75.48, 76.43, 73.86], \"type\": \"bar\", \"uid\": \"982e2ad2-e0c1-11e8-bac4-186024bdfae3\"}], {\"title\": \"Top 15 States in Literacy Rate\", \"yaxis\": {\"title\": \"Literacy Rate\"}}, {\"showLink\": true, \"linkText\": \"Export to plot.ly\"})});</script>"
      ]
     },
     "metadata": {},
     "output_type": "display_data"
    }
   ],
   "source": [
    "literacy_rate_df_clean.sort_values(by = 'Overall (%)',ascending = False,inplace = True)\n",
    "print(f\"Average Literacy rate in India is:{literacy_rate_df_clean['Overall (%)'].mean(): .4f}%\")\n",
    "\n",
    "traces = []\n",
    "col_list = literacy_rate_df_clean.columns\n",
    "color_list = [0,1,'rgba(55, 128, 191, 0.7)','rgba(219, 64, 82, 0.7)','rgba(50, 171, 96, 0.7)']\n",
    "for i in range(2,5):\n",
    "    trace = go.Bar(\n",
    "                   x  = literacy_rate_df_clean.iloc[:15,1],\n",
    "                   y = literacy_rate_df_clean.iloc[:15,i],\n",
    "                   name = col_list[i],\n",
    "                   marker = dict(\n",
    "                               color = color_list[i],\n",
    "                              line=dict(color='rgb(0,0,0)',width=1.5)))\n",
    "    traces.append(trace)\n",
    "\n",
    "\n",
    "data = traces\n",
    "layout = dict(title = 'Top 15 States in Literacy Rate',\n",
    "                 yaxis = dict(title = 'Literacy Rate'))\n",
    "\n",
    "fig = {'data':data,'layout' :layout}\n",
    "iplot(fig)\n",
    "\n"
   ]
  },
  {
   "cell_type": "markdown",
   "metadata": {},
   "source": [
    "Kerala has the highest literacy rate at the 2011 Census.\n",
    "\n",
    "Overall - 93.91%\n",
    "\n",
    "Male - 96.02\n",
    "\n",
    "Female - 91.98%"
   ]
  },
  {
   "cell_type": "code",
   "execution_count": 129,
   "metadata": {},
   "outputs": [
    {
     "name": "stdout",
     "output_type": "stream",
     "text": [
      "State with Lowest Litearcy Rate:\n"
     ]
    },
    {
     "data": {
      "text/html": [
       "<div>\n",
       "<style scoped>\n",
       "    .dataframe tbody tr th:only-of-type {\n",
       "        vertical-align: middle;\n",
       "    }\n",
       "\n",
       "    .dataframe tbody tr th {\n",
       "        vertical-align: top;\n",
       "    }\n",
       "\n",
       "    .dataframe thead th {\n",
       "        text-align: right;\n",
       "    }\n",
       "</style>\n",
       "<table border=\"1\" class=\"dataframe\">\n",
       "  <thead>\n",
       "    <tr style=\"text-align: right;\">\n",
       "      <th></th>\n",
       "      <th>State or UT</th>\n",
       "      <th>Overall (%)</th>\n",
       "    </tr>\n",
       "  </thead>\n",
       "  <tbody>\n",
       "    <tr>\n",
       "      <th>9</th>\n",
       "      <td>Bihar</td>\n",
       "      <td>63.82</td>\n",
       "    </tr>\n",
       "  </tbody>\n",
       "</table>\n",
       "</div>"
      ],
      "text/plain": [
       "  State or UT  Overall (%)\n",
       "9       Bihar        63.82"
      ]
     },
     "execution_count": 129,
     "metadata": {},
     "output_type": "execute_result"
    }
   ],
   "source": [
    "print(\"State with Lowest Litearcy Rate:\")\n",
    "literacy_rate_df_clean.loc[:,['State or UT','Overall (%)']].tail(1)"
   ]
  },
  {
   "cell_type": "code",
   "execution_count": 130,
   "metadata": {},
   "outputs": [],
   "source": [
    "col_list = ['Crude birth rate(per 1000)', 'Crude death rate(per 1000)','Natural change(per 1000)','Total fertility rate']\n",
    "census_df_clean[col_list] = change_dtype(census_df_clean,col_list)"
   ]
  },
  {
   "cell_type": "code",
   "execution_count": 131,
   "metadata": {},
   "outputs": [
    {
     "data": {
      "text/html": [
       "<div>\n",
       "<style scoped>\n",
       "    .dataframe tbody tr th:only-of-type {\n",
       "        vertical-align: middle;\n",
       "    }\n",
       "\n",
       "    .dataframe tbody tr th {\n",
       "        vertical-align: top;\n",
       "    }\n",
       "\n",
       "    .dataframe thead th {\n",
       "        text-align: right;\n",
       "    }\n",
       "</style>\n",
       "<table border=\"1\" class=\"dataframe\">\n",
       "  <thead>\n",
       "    <tr style=\"text-align: right;\">\n",
       "      <th></th>\n",
       "      <th>Year</th>\n",
       "      <th>Average population(x 1000)</th>\n",
       "      <th>Live births1</th>\n",
       "      <th>Deaths1</th>\n",
       "      <th>Natural change</th>\n",
       "      <th>Crude birth rate(per 1000)</th>\n",
       "      <th>Crude death rate(per 1000)</th>\n",
       "      <th>Natural change(per 1000)</th>\n",
       "      <th>Total fertility rate</th>\n",
       "    </tr>\n",
       "  </thead>\n",
       "  <tbody>\n",
       "    <tr>\n",
       "      <th>0</th>\n",
       "      <td>1981</td>\n",
       "      <td>716493</td>\n",
       "      <td>24289000</td>\n",
       "      <td>8956000</td>\n",
       "      <td>15333000</td>\n",
       "      <td>33.9</td>\n",
       "      <td>12.5</td>\n",
       "      <td>21.4</td>\n",
       "      <td>NaN</td>\n",
       "    </tr>\n",
       "    <tr>\n",
       "      <th>1</th>\n",
       "      <td>1982</td>\n",
       "      <td>733152</td>\n",
       "      <td>24781000</td>\n",
       "      <td>8725000</td>\n",
       "      <td>16056000</td>\n",
       "      <td>33.8</td>\n",
       "      <td>11.9</td>\n",
       "      <td>21.9</td>\n",
       "      <td>NaN</td>\n",
       "    </tr>\n",
       "    <tr>\n",
       "      <th>2</th>\n",
       "      <td>1983</td>\n",
       "      <td>750034</td>\n",
       "      <td>25276000</td>\n",
       "      <td>8925000</td>\n",
       "      <td>16351000</td>\n",
       "      <td>33.7</td>\n",
       "      <td>11.9</td>\n",
       "      <td>21.8</td>\n",
       "      <td>NaN</td>\n",
       "    </tr>\n",
       "    <tr>\n",
       "      <th>3</th>\n",
       "      <td>1984</td>\n",
       "      <td>767147</td>\n",
       "      <td>26006000</td>\n",
       "      <td>9666000</td>\n",
       "      <td>16340000</td>\n",
       "      <td>33.9</td>\n",
       "      <td>12.6</td>\n",
       "      <td>21.3</td>\n",
       "      <td>NaN</td>\n",
       "    </tr>\n",
       "    <tr>\n",
       "      <th>4</th>\n",
       "      <td>1985</td>\n",
       "      <td>784491</td>\n",
       "      <td>25810000</td>\n",
       "      <td>9257000</td>\n",
       "      <td>16553000</td>\n",
       "      <td>32.9</td>\n",
       "      <td>11.8</td>\n",
       "      <td>21.1</td>\n",
       "      <td>NaN</td>\n",
       "    </tr>\n",
       "  </tbody>\n",
       "</table>\n",
       "</div>"
      ],
      "text/plain": [
       "   Year  Average population(x 1000)  Live births1  Deaths1  Natural change  \\\n",
       "0  1981                      716493      24289000  8956000        15333000   \n",
       "1  1982                      733152      24781000  8725000        16056000   \n",
       "2  1983                      750034      25276000  8925000        16351000   \n",
       "3  1984                      767147      26006000  9666000        16340000   \n",
       "4  1985                      784491      25810000  9257000        16553000   \n",
       "\n",
       "   Crude birth rate(per 1000)  Crude death rate(per 1000)  \\\n",
       "0                        33.9                        12.5   \n",
       "1                        33.8                        11.9   \n",
       "2                        33.7                        11.9   \n",
       "3                        33.9                        12.6   \n",
       "4                        32.9                        11.8   \n",
       "\n",
       "   Natural change(per 1000)  Total fertility rate  \n",
       "0                      21.4                   NaN  \n",
       "1                      21.9                   NaN  \n",
       "2                      21.8                   NaN  \n",
       "3                      21.3                   NaN  \n",
       "4                      21.1                   NaN  "
      ]
     },
     "execution_count": 131,
     "metadata": {},
     "output_type": "execute_result"
    }
   ],
   "source": [
    "census_df_clean.head()"
   ]
  },
  {
   "cell_type": "code",
   "execution_count": 132,
   "metadata": {},
   "outputs": [
    {
     "name": "stdout",
     "output_type": "stream",
     "text": [
      "26.84 Births per 1000 Population\n",
      "8.95 Deaths per 1000 Population\n"
     ]
    },
    {
     "data": {
      "application/vnd.plotly.v1+json": {
       "data": [
        {
         "marker": {
          "line": {
           "color": "rgb(0,0,0)"
          },
          "opacity": 0.6
         },
         "mode": "lines",
         "name": "Crude birth rate(per 1000)",
         "text": [
          "1981",
          "1982",
          "1983",
          "1984",
          "1985",
          "1986",
          "1987",
          "1988",
          "1989",
          "1990",
          "1991",
          "1992",
          "1993",
          "1994",
          "1995",
          "1996",
          "1997",
          "1998",
          "1999",
          "2000",
          "2001",
          "2002",
          "2003",
          "2004",
          "2005",
          "2006",
          "2007",
          "2008",
          "2009",
          "2010",
          "2011",
          "2012",
          "2013",
          "2014",
          "2015",
          "2016"
         ],
         "type": "scatter",
         "uid": "98b4c89c-e0c1-11e8-9303-186024bdfae3",
         "x": [
          "1981",
          "1982",
          "1983",
          "1984",
          "1985",
          "1986",
          "1987",
          "1988",
          "1989",
          "1990",
          "1991",
          "1992",
          "1993",
          "1994",
          "1995",
          "1996",
          "1997",
          "1998",
          "1999",
          "2000",
          "2001",
          "2002",
          "2003",
          "2004",
          "2005",
          "2006",
          "2007",
          "2008",
          "2009",
          "2010",
          "2011",
          "2012",
          "2013",
          "2014",
          "2015",
          "2016"
         ],
         "y": [
          33.9,
          33.8,
          33.7,
          33.9,
          32.9,
          32.6,
          32.1,
          31.5,
          30.6,
          30.2,
          29.3,
          29,
          28.7,
          28.7,
          28.3,
          27.3,
          27.2,
          26.5,
          26,
          25.8,
          25.4,
          25,
          24.8,
          24.1,
          23.8,
          23.5,
          23.1,
          22.8,
          22.5,
          22.1,
          21.8,
          21.6,
          21.4,
          21,
          20.8,
          20.4
         ]
        },
        {
         "marker": {
          "line": {
           "color": "rgb(0,0,0)"
          },
          "opacity": 0.6
         },
         "mode": "lines",
         "name": "Crude death rate(per 1000)",
         "text": [
          "1981",
          "1982",
          "1983",
          "1984",
          "1985",
          "1986",
          "1987",
          "1988",
          "1989",
          "1990",
          "1991",
          "1992",
          "1993",
          "1994",
          "1995",
          "1996",
          "1997",
          "1998",
          "1999",
          "2000",
          "2001",
          "2002",
          "2003",
          "2004",
          "2005",
          "2006",
          "2007",
          "2008",
          "2009",
          "2010",
          "2011",
          "2012",
          "2013",
          "2014",
          "2015",
          "2016"
         ],
         "type": "scatter",
         "uid": "98b4c89d-e0c1-11e8-ab7d-186024bdfae3",
         "x": [
          "1981",
          "1982",
          "1983",
          "1984",
          "1985",
          "1986",
          "1987",
          "1988",
          "1989",
          "1990",
          "1991",
          "1992",
          "1993",
          "1994",
          "1995",
          "1996",
          "1997",
          "1998",
          "1999",
          "2000",
          "2001",
          "2002",
          "2003",
          "2004",
          "2005",
          "2006",
          "2007",
          "2008",
          "2009",
          "2010",
          "2011",
          "2012",
          "2013",
          "2014",
          "2015",
          "2016"
         ],
         "y": [
          12.5,
          11.9,
          11.9,
          12.6,
          11.8,
          11.1,
          10.9,
          11,
          10.3,
          9.7,
          9.8,
          10.1,
          9.3,
          9.3,
          9,
          8.9,
          8.9,
          9,
          8.7,
          8.5,
          8.4,
          8.1,
          8,
          7.5,
          7.6,
          7.5,
          7.4,
          7.4,
          7.3,
          7.2,
          7.1,
          7,
          7,
          6.7,
          6.5,
          6.4
         ]
        }
       ],
       "layout": {
        "title": "Birth and Death Rate Per 1000 Population",
        "xaxis": {
         "title": "Year"
        }
       }
      },
      "text/html": [
       "<div id=\"04f7cad6-dd53-4be3-8658-f5f3a220707d\" style=\"height: 525px; width: 100%;\" class=\"plotly-graph-div\"></div><script type=\"text/javascript\">require([\"plotly\"], function(Plotly) { window.PLOTLYENV=window.PLOTLYENV || {};window.PLOTLYENV.BASE_URL=\"https://plot.ly\";Plotly.newPlot(\"04f7cad6-dd53-4be3-8658-f5f3a220707d\", [{\"marker\": {\"line\": {\"color\": \"rgb(0,0,0)\"}, \"opacity\": 0.6}, \"mode\": \"lines\", \"name\": \"Crude birth rate(per 1000)\", \"text\": [\"1981\", \"1982\", \"1983\", \"1984\", \"1985\", \"1986\", \"1987\", \"1988\", \"1989\", \"1990\", \"1991\", \"1992\", \"1993\", \"1994\", \"1995\", \"1996\", \"1997\", \"1998\", \"1999\", \"2000\", \"2001\", \"2002\", \"2003\", \"2004\", \"2005\", \"2006\", \"2007\", \"2008\", \"2009\", \"2010\", \"2011\", \"2012\", \"2013\", \"2014\", \"2015\", \"2016\"], \"x\": [\"1981\", \"1982\", \"1983\", \"1984\", \"1985\", \"1986\", \"1987\", \"1988\", \"1989\", \"1990\", \"1991\", \"1992\", \"1993\", \"1994\", \"1995\", \"1996\", \"1997\", \"1998\", \"1999\", \"2000\", \"2001\", \"2002\", \"2003\", \"2004\", \"2005\", \"2006\", \"2007\", \"2008\", \"2009\", \"2010\", \"2011\", \"2012\", \"2013\", \"2014\", \"2015\", \"2016\"], \"y\": [33.9, 33.8, 33.7, 33.9, 32.9, 32.6, 32.1, 31.5, 30.6, 30.2, 29.3, 29.0, 28.7, 28.7, 28.3, 27.3, 27.2, 26.5, 26.0, 25.8, 25.4, 25.0, 24.8, 24.1, 23.8, 23.5, 23.1, 22.8, 22.5, 22.1, 21.8, 21.6, 21.4, 21.0, 20.8, 20.4], \"type\": \"scatter\", \"uid\": \"98ca74de-e0c1-11e8-ae08-186024bdfae3\"}, {\"marker\": {\"line\": {\"color\": \"rgb(0,0,0)\"}, \"opacity\": 0.6}, \"mode\": \"lines\", \"name\": \"Crude death rate(per 1000)\", \"text\": [\"1981\", \"1982\", \"1983\", \"1984\", \"1985\", \"1986\", \"1987\", \"1988\", \"1989\", \"1990\", \"1991\", \"1992\", \"1993\", \"1994\", \"1995\", \"1996\", \"1997\", \"1998\", \"1999\", \"2000\", \"2001\", \"2002\", \"2003\", \"2004\", \"2005\", \"2006\", \"2007\", \"2008\", \"2009\", \"2010\", \"2011\", \"2012\", \"2013\", \"2014\", \"2015\", \"2016\"], \"x\": [\"1981\", \"1982\", \"1983\", \"1984\", \"1985\", \"1986\", \"1987\", \"1988\", \"1989\", \"1990\", \"1991\", \"1992\", \"1993\", \"1994\", \"1995\", \"1996\", \"1997\", \"1998\", \"1999\", \"2000\", \"2001\", \"2002\", \"2003\", \"2004\", \"2005\", \"2006\", \"2007\", \"2008\", \"2009\", \"2010\", \"2011\", \"2012\", \"2013\", \"2014\", \"2015\", \"2016\"], \"y\": [12.5, 11.9, 11.9, 12.6, 11.8, 11.1, 10.9, 11.0, 10.3, 9.7, 9.8, 10.1, 9.3, 9.3, 9.0, 8.9, 8.9, 9.0, 8.7, 8.5, 8.4, 8.1, 8.0, 7.5, 7.6, 7.5, 7.4, 7.4, 7.3, 7.2, 7.1, 7.0, 7.0, 6.7, 6.5, 6.4], \"type\": \"scatter\", \"uid\": \"98ca74df-e0c1-11e8-9cb2-186024bdfae3\"}], {\"title\": \"Birth and Death Rate Per 1000 Population\", \"xaxis\": {\"title\": \"Year\"}}, {\"showLink\": true, \"linkText\": \"Export to plot.ly\"})});</script>"
      ],
      "text/vnd.plotly.v1+html": [
       "<div id=\"04f7cad6-dd53-4be3-8658-f5f3a220707d\" style=\"height: 525px; width: 100%;\" class=\"plotly-graph-div\"></div><script type=\"text/javascript\">require([\"plotly\"], function(Plotly) { window.PLOTLYENV=window.PLOTLYENV || {};window.PLOTLYENV.BASE_URL=\"https://plot.ly\";Plotly.newPlot(\"04f7cad6-dd53-4be3-8658-f5f3a220707d\", [{\"marker\": {\"line\": {\"color\": \"rgb(0,0,0)\"}, \"opacity\": 0.6}, \"mode\": \"lines\", \"name\": \"Crude birth rate(per 1000)\", \"text\": [\"1981\", \"1982\", \"1983\", \"1984\", \"1985\", \"1986\", \"1987\", \"1988\", \"1989\", \"1990\", \"1991\", \"1992\", \"1993\", \"1994\", \"1995\", \"1996\", \"1997\", \"1998\", \"1999\", \"2000\", \"2001\", \"2002\", \"2003\", \"2004\", \"2005\", \"2006\", \"2007\", \"2008\", \"2009\", \"2010\", \"2011\", \"2012\", \"2013\", \"2014\", \"2015\", \"2016\"], \"x\": [\"1981\", \"1982\", \"1983\", \"1984\", \"1985\", \"1986\", \"1987\", \"1988\", \"1989\", \"1990\", \"1991\", \"1992\", \"1993\", \"1994\", \"1995\", \"1996\", \"1997\", \"1998\", \"1999\", \"2000\", \"2001\", \"2002\", \"2003\", \"2004\", \"2005\", \"2006\", \"2007\", \"2008\", \"2009\", \"2010\", \"2011\", \"2012\", \"2013\", \"2014\", \"2015\", \"2016\"], \"y\": [33.9, 33.8, 33.7, 33.9, 32.9, 32.6, 32.1, 31.5, 30.6, 30.2, 29.3, 29.0, 28.7, 28.7, 28.3, 27.3, 27.2, 26.5, 26.0, 25.8, 25.4, 25.0, 24.8, 24.1, 23.8, 23.5, 23.1, 22.8, 22.5, 22.1, 21.8, 21.6, 21.4, 21.0, 20.8, 20.4], \"type\": \"scatter\", \"uid\": \"98ca74de-e0c1-11e8-ae08-186024bdfae3\"}, {\"marker\": {\"line\": {\"color\": \"rgb(0,0,0)\"}, \"opacity\": 0.6}, \"mode\": \"lines\", \"name\": \"Crude death rate(per 1000)\", \"text\": [\"1981\", \"1982\", \"1983\", \"1984\", \"1985\", \"1986\", \"1987\", \"1988\", \"1989\", \"1990\", \"1991\", \"1992\", \"1993\", \"1994\", \"1995\", \"1996\", \"1997\", \"1998\", \"1999\", \"2000\", \"2001\", \"2002\", \"2003\", \"2004\", \"2005\", \"2006\", \"2007\", \"2008\", \"2009\", \"2010\", \"2011\", \"2012\", \"2013\", \"2014\", \"2015\", \"2016\"], \"x\": [\"1981\", \"1982\", \"1983\", \"1984\", \"1985\", \"1986\", \"1987\", \"1988\", \"1989\", \"1990\", \"1991\", \"1992\", \"1993\", \"1994\", \"1995\", \"1996\", \"1997\", \"1998\", \"1999\", \"2000\", \"2001\", \"2002\", \"2003\", \"2004\", \"2005\", \"2006\", \"2007\", \"2008\", \"2009\", \"2010\", \"2011\", \"2012\", \"2013\", \"2014\", \"2015\", \"2016\"], \"y\": [12.5, 11.9, 11.9, 12.6, 11.8, 11.1, 10.9, 11.0, 10.3, 9.7, 9.8, 10.1, 9.3, 9.3, 9.0, 8.9, 8.9, 9.0, 8.7, 8.5, 8.4, 8.1, 8.0, 7.5, 7.6, 7.5, 7.4, 7.4, 7.3, 7.2, 7.1, 7.0, 7.0, 6.7, 6.5, 6.4], \"type\": \"scatter\", \"uid\": \"98ca74df-e0c1-11e8-9cb2-186024bdfae3\"}], {\"title\": \"Birth and Death Rate Per 1000 Population\", \"xaxis\": {\"title\": \"Year\"}}, {\"showLink\": true, \"linkText\": \"Export to plot.ly\"})});</script>"
      ]
     },
     "metadata": {},
     "output_type": "display_data"
    }
   ],
   "source": [
    "print(f\"{census_df_clean['Crude birth rate(per 1000)'].mean():.2f} Births per 1000 Population\")\n",
    "print(f\"{census_df_clean['Crude death rate(per 1000)'].mean():.2f} Deaths per 1000 Population\")\n",
    "\n",
    "traces = []\n",
    "col_list = ['Crude birth rate(per 1000)','Crude death rate(per 1000)']\n",
    "for i in range(2):\n",
    "    trace = go.Scatter(\n",
    "                   x  = census_df_clean['Year'],\n",
    "                   y  =  census_df_clean[col_list[i]],\n",
    "                   name = col_list[i],\n",
    "                   text = census_df_clean['Year'],\n",
    "                   mode = 'lines',\n",
    "                   marker = dict(\n",
    "                        opacity = 0.6,\n",
    "                        line = dict( color = 'rgb(0,0,0)'))\n",
    "                   )\n",
    "    traces.append(trace)\n",
    "data = traces\n",
    "layout = dict(title = 'Birth and Death Rate Per 1000 Population',\n",
    "                 xaxis = dict(title = 'Year'))\n",
    "fig = {'data':data,'layout':layout}\n",
    "iplot(fig)"
   ]
  },
  {
   "cell_type": "markdown",
   "metadata": {},
   "source": [
    "**Crude Birth Rate** is the number of births recorded in a year, per 1000 population. Crude Birth Rate is usually the dominant factor in determining the rate of population growth.\n",
    "Once seemingly unstoppable, India’s population juggernaut is finally slowing down. It has decreased by 43.68% since 1981.\n",
    "\n",
    "**Crude Death Rate** is the number of deaths recorded in a year, per 1000 population.\n",
    "Death rate in India is declining since 1981. It has decreased by 48.8% since 1981.\n",
    "\n",
    "There can be following reasons for declining of death rates in India:\n",
    "\n",
    "1.Control of Epidemics\n",
    "\n",
    "2.Urbanisation of Population\n",
    "\n",
    "3.More Medical Facilities\n",
    "\n",
    "4.Spread of Education\n",
    "\n",
    "5.Late Marriage\n",
    "\n",
    "6.Control over famine\n",
    "\n",
    "7.Balanced Diet"
   ]
  },
  {
   "cell_type": "code",
   "execution_count": 133,
   "metadata": {},
   "outputs": [
    {
     "data": {
      "application/vnd.plotly.v1+json": {
       "data": [
        {
         "marker": {
          "color": [
           1.198428789660822,
           -1.2289831045000599,
           -0.6447442562994229,
           0.8124937628585722,
           1.1474600811847206,
           1.0585250865369924,
           1.1970199161791157,
           0.30921191228238104,
           -0.3671578382998022,
           -0.09889467505341216,
           -0.9887096874199673,
           0.4038525172127261,
           -0.8803661870869776
          ],
          "line": {
           "color": "rgb(0,0,0)"
          },
          "opacity": 0.6,
          "size": [
           34.1908594423685,
           37.08680655360736,
           39.889336016096586,
           42.972118424834726,
           46.14831848232251,
           49.04426559356137,
           51.286289163552745,
           52.96780684104628,
           55.20983041103765,
           57.45185398102903,
           59.32020695602185,
           61.2819775797643,
           63.150330554757105
          ]
         },
         "mode": "lines+markers",
         "type": "scatter",
         "uid": "98ef8b80-e0c1-11e8-af00-186024bdfae3",
         "x": [
          "1950–1955",
          "1955–1960",
          "1960–1965",
          "1965–1970",
          "1970–1975",
          "1975–1980",
          "1980–1985",
          "1985–1990",
          "1990–1995",
          "1995–2000",
          "2000–2005",
          "2005–2010",
          "2010–2015"
         ],
         "y": [
          36.6,
          39.7,
          42.7,
          46,
          49.4,
          52.5,
          54.9,
          56.7,
          59.1,
          61.5,
          63.5,
          65.6,
          67.6
         ]
        }
       ],
       "layout": {
        "title": "Life Expectancy in Years",
        "xaxis": {
         "title": "Year"
        },
        "yaxis": {
         "title": "Age"
        }
       }
      },
      "text/html": [
       "<div id=\"2e9cd286-44a9-480b-8322-1f207aca1922\" style=\"height: 525px; width: 100%;\" class=\"plotly-graph-div\"></div><script type=\"text/javascript\">require([\"plotly\"], function(Plotly) { window.PLOTLYENV=window.PLOTLYENV || {};window.PLOTLYENV.BASE_URL=\"https://plot.ly\";Plotly.newPlot(\"2e9cd286-44a9-480b-8322-1f207aca1922\", [{\"marker\": {\"color\": [1.198428789660822, -1.2289831045000599, -0.6447442562994229, 0.8124937628585722, 1.1474600811847206, 1.0585250865369924, 1.1970199161791157, 0.30921191228238104, -0.3671578382998022, -0.09889467505341216, -0.9887096874199673, 0.4038525172127261, -0.8803661870869776], \"line\": {\"color\": \"rgb(0,0,0)\"}, \"opacity\": 0.6, \"size\": [34.1908594423685, 37.08680655360736, 39.889336016096586, 42.972118424834726, 46.14831848232251, 49.04426559356137, 51.286289163552745, 52.96780684104628, 55.20983041103765, 57.45185398102903, 59.32020695602185, 61.2819775797643, 63.150330554757105]}, \"mode\": \"lines+markers\", \"x\": [\"1950\\u20131955\", \"1955\\u20131960\", \"1960\\u20131965\", \"1965\\u20131970\", \"1970\\u20131975\", \"1975\\u20131980\", \"1980\\u20131985\", \"1985\\u20131990\", \"1990\\u20131995\", \"1995\\u20132000\", \"2000\\u20132005\", \"2005\\u20132010\", \"2010\\u20132015\"], \"y\": [36.6, 39.7, 42.7, 46.0, 49.4, 52.5, 54.9, 56.7, 59.1, 61.5, 63.5, 65.6, 67.6], \"type\": \"scatter\", \"uid\": \"990537de-e0c1-11e8-9f18-186024bdfae3\"}], {\"title\": \"Life Expectancy in Years\", \"xaxis\": {\"title\": \"Year\"}, \"yaxis\": {\"title\": \"Age\"}}, {\"showLink\": true, \"linkText\": \"Export to plot.ly\"})});</script>"
      ],
      "text/vnd.plotly.v1+html": [
       "<div id=\"2e9cd286-44a9-480b-8322-1f207aca1922\" style=\"height: 525px; width: 100%;\" class=\"plotly-graph-div\"></div><script type=\"text/javascript\">require([\"plotly\"], function(Plotly) { window.PLOTLYENV=window.PLOTLYENV || {};window.PLOTLYENV.BASE_URL=\"https://plot.ly\";Plotly.newPlot(\"2e9cd286-44a9-480b-8322-1f207aca1922\", [{\"marker\": {\"color\": [1.198428789660822, -1.2289831045000599, -0.6447442562994229, 0.8124937628585722, 1.1474600811847206, 1.0585250865369924, 1.1970199161791157, 0.30921191228238104, -0.3671578382998022, -0.09889467505341216, -0.9887096874199673, 0.4038525172127261, -0.8803661870869776], \"line\": {\"color\": \"rgb(0,0,0)\"}, \"opacity\": 0.6, \"size\": [34.1908594423685, 37.08680655360736, 39.889336016096586, 42.972118424834726, 46.14831848232251, 49.04426559356137, 51.286289163552745, 52.96780684104628, 55.20983041103765, 57.45185398102903, 59.32020695602185, 61.2819775797643, 63.150330554757105]}, \"mode\": \"lines+markers\", \"x\": [\"1950\\u20131955\", \"1955\\u20131960\", \"1960\\u20131965\", \"1965\\u20131970\", \"1970\\u20131975\", \"1975\\u20131980\", \"1980\\u20131985\", \"1985\\u20131990\", \"1990\\u20131995\", \"1995\\u20132000\", \"2000\\u20132005\", \"2005\\u20132010\", \"2010\\u20132015\"], \"y\": [36.6, 39.7, 42.7, 46.0, 49.4, 52.5, 54.9, 56.7, 59.1, 61.5, 63.5, 65.6, 67.6], \"type\": \"scatter\", \"uid\": \"990537de-e0c1-11e8-9f18-186024bdfae3\"}], {\"title\": \"Life Expectancy in Years\", \"xaxis\": {\"title\": \"Year\"}, \"yaxis\": {\"title\": \"Age\"}}, {\"showLink\": true, \"linkText\": \"Export to plot.ly\"})});</script>"
      ]
     },
     "metadata": {},
     "output_type": "display_data"
    }
   ],
   "source": [
    "life_expe_df_clean = life_expe_df_clean.iloc[:-1,:].sort_values(by = 'period')\n",
    "life_expe_df_clean['life_expec_in_years'] = change_dtype(life_expe_df_clean,'life_expec_in_years')\n",
    "\n",
    "FIG = att_line_plot(life_expe_df_clean['period'],life_expe_df_clean['life_expec_in_years'],'Life Expectancy in Years','Year','Age')\n",
    "iplot(FIG)"
   ]
  },
  {
   "cell_type": "markdown",
   "metadata": {},
   "source": [
    "What is life expectancy? \n",
    "- Life expectancy is the expected number of years of life remaining at a particular age.\n",
    "\n",
    "In the past two decades life expectancy in India has increased by more than 8 years.\n",
    "\n",
    "Between 2010-2015 life expectancy at birth in India was 67.6 years."
   ]
  },
  {
   "cell_type": "code",
   "execution_count": 134,
   "metadata": {},
   "outputs": [],
   "source": [
    "for col in crude_birth_rate_df_clean.iloc[:,[0,2,4,6]].columns:\n",
    "    if col == 'State (Population 2011)':\n",
    "        crude_birth_rate_df_clean[col.split('(')[0]] = crude_birth_rate_df_clean[col].apply(lambda x:x.split('(')[0])\n",
    "        crude_birth_rate_df_clean[col.split('(')[-1]] = crude_birth_rate_df_clean[col].apply(lambda x:x.split('(')[-1])\n",
    "    else:\n",
    "        crude_birth_rate_df_clean[col+str('actual')] = crude_birth_rate_df_clean[col].apply(lambda x:x.split('(')[0])\n",
    "        crude_birth_rate_df_clean[col+str('wanted')] = crude_birth_rate_df_clean[col].apply(lambda x:x.split('(')[-1])\n",
    "    "
   ]
  },
  {
   "cell_type": "code",
   "execution_count": 135,
   "metadata": {},
   "outputs": [],
   "source": [
    "crude_birth_rate_df_clean.drop(['State (Population 2011)','TFR – Total1','TFR – Urban1','TFR – Rural1'],axis = 1,inplace = True)\n",
    "crude_birth_rate_df_clean.sort_values(by  = 'CBR – Total',ascending = False,inplace  =True)"
   ]
  },
  {
   "cell_type": "code",
   "execution_count": 136,
   "metadata": {},
   "outputs": [],
   "source": [
    "col_list = ['TFR – Total1actual', 'TFR – Urban1actual','TFR – Rural1actual']\n",
    "crude_birth_rate_df_clean[col_list] = change_dtype(crude_birth_rate_df_clean,col_list)"
   ]
  },
  {
   "cell_type": "code",
   "execution_count": 137,
   "metadata": {},
   "outputs": [
    {
     "name": "stdout",
     "output_type": "stream",
     "text": [
      "Average Fertility Rate: 2.11\n",
      "Average Fertility rate in urban areas: 1.7\n",
      "Average fertility rate in rural areas: 2.3\n"
     ]
    },
    {
     "data": {
      "application/vnd.plotly.v1+json": {
       "data": [
        {
         "marker": {
          "color": "rgba(55, 128, 191, 0.7)",
          "line": {
           "color": "rgb(0,0,0)",
           "width": 1.5
          }
         },
         "name": "CBR – Total",
         "type": "bar",
         "uid": "99653880-e0c1-11e8-bf50-186024bdfae3",
         "x": [
          "Bihar ",
          "Meghalaya ",
          "Uttar Pradesh ",
          "Jharkhand ",
          "Nagaland ",
          "Manipur ",
          "Rajasthan ",
          "Chhattisgarh ",
          "Madhya Pradesh ",
          "Assam ",
          "Uttarakhand ",
          "Haryana ",
          "Mizoram ",
          "Odisha ",
          "Arunachal Pradesh ",
          "Jammu and Kashmir ",
          "Telangana ",
          "Gujarat ",
          "Maharashtra ",
          "West Bengal ",
          "Andhra Pradesh ",
          "Karnataka ",
          "Tamil Nadu ",
          "Himachal Pradesh ",
          "Tripura ",
          "Punjab ",
          "Goa ",
          "Sikkim ",
          "Kerala "
         ],
         "y": [
          "27.1",
          "24.6",
          "22.6",
          "21.7",
          "21.4",
          "21.2",
          "20.8",
          "20.7",
          "20.2",
          "19.5",
          "19.0",
          "18.7",
          "18.7",
          "18.1",
          "17.9",
          "17.7",
          "17.1",
          "16.7",
          "16.6",
          "16.6",
          "16.1",
          "15.9",
          "15.5",
          "15.3",
          "15.3",
          "13.8",
          "12.8",
          "11.4",
          "11.2"
         ]
        },
        {
         "marker": {
          "color": "rgba(219, 64, 82, 0.7)",
          "line": {
           "color": "rgb(0,0,0)",
           "width": 1.5
          }
         },
         "name": "TFR – Total1actual",
         "type": "bar",
         "uid": "99653881-e0c1-11e8-a29d-186024bdfae3",
         "x": [
          "Bihar ",
          "Meghalaya ",
          "Uttar Pradesh ",
          "Jharkhand ",
          "Nagaland ",
          "Manipur ",
          "Rajasthan ",
          "Chhattisgarh ",
          "Madhya Pradesh ",
          "Assam ",
          "Uttarakhand ",
          "Haryana ",
          "Mizoram ",
          "Odisha ",
          "Arunachal Pradesh ",
          "Jammu and Kashmir ",
          "Telangana ",
          "Gujarat ",
          "Maharashtra ",
          "West Bengal ",
          "Andhra Pradesh ",
          "Karnataka ",
          "Tamil Nadu ",
          "Himachal Pradesh ",
          "Tripura ",
          "Punjab ",
          "Goa ",
          "Sikkim ",
          "Kerala "
         ],
         "y": [
          3.41,
          3.04,
          2.74,
          2.55,
          2.74,
          2.61,
          2.4,
          2.23,
          2.32,
          2.21,
          2.07,
          2.05,
          2.26,
          2.05,
          2.12,
          2.01,
          1.79,
          2.03,
          1.87,
          1.77,
          1.83,
          1.81,
          1.7,
          1.88,
          1.69,
          1.62,
          1.66,
          1.17,
          1.56
         ]
        }
       ],
       "layout": {
        "barmode": "relative",
        "title": "Birth and Fertility Rate by States"
       }
      },
      "text/html": [
       "<div id=\"6c0d8f25-31f1-4ecc-aeac-ce0770cb4fad\" style=\"height: 525px; width: 100%;\" class=\"plotly-graph-div\"></div><script type=\"text/javascript\">require([\"plotly\"], function(Plotly) { window.PLOTLYENV=window.PLOTLYENV || {};window.PLOTLYENV.BASE_URL=\"https://plot.ly\";Plotly.newPlot(\"6c0d8f25-31f1-4ecc-aeac-ce0770cb4fad\", [{\"marker\": {\"color\": \"rgba(55, 128, 191, 0.7)\", \"line\": {\"color\": \"rgb(0,0,0)\", \"width\": 1.5}}, \"name\": \"CBR \\u2013 Total\", \"x\": [\"Bihar \", \"Meghalaya \", \"Uttar Pradesh \", \"Jharkhand \", \"Nagaland \", \"Manipur \", \"Rajasthan \", \"Chhattisgarh \", \"Madhya Pradesh \", \"Assam \", \"Uttarakhand \", \"Haryana \", \"Mizoram \", \"Odisha \", \"Arunachal Pradesh \", \"Jammu and Kashmir \", \"Telangana \", \"Gujarat \", \"Maharashtra \", \"West Bengal \", \"Andhra Pradesh \", \"Karnataka \", \"Tamil Nadu \", \"Himachal Pradesh \", \"Tripura \", \"Punjab \", \"Goa \", \"Sikkim \", \"Kerala \"], \"y\": [\"27.1\", \"24.6\", \"22.6\", \"21.7\", \"21.4\", \"21.2\", \"20.8\", \"20.7\", \"20.2\", \"19.5\", \"19.0\", \"18.7\", \"18.7\", \"18.1\", \"17.9\", \"17.7\", \"17.1\", \"16.7\", \"16.6\", \"16.6\", \"16.1\", \"15.9\", \"15.5\", \"15.3\", \"15.3\", \"13.8\", \"12.8\", \"11.4\", \"11.2\"], \"type\": \"bar\", \"uid\": \"99795df4-e0c1-11e8-8273-186024bdfae3\"}, {\"marker\": {\"color\": \"rgba(219, 64, 82, 0.7)\", \"line\": {\"color\": \"rgb(0,0,0)\", \"width\": 1.5}}, \"name\": \"TFR \\u2013 Total1actual\", \"x\": [\"Bihar \", \"Meghalaya \", \"Uttar Pradesh \", \"Jharkhand \", \"Nagaland \", \"Manipur \", \"Rajasthan \", \"Chhattisgarh \", \"Madhya Pradesh \", \"Assam \", \"Uttarakhand \", \"Haryana \", \"Mizoram \", \"Odisha \", \"Arunachal Pradesh \", \"Jammu and Kashmir \", \"Telangana \", \"Gujarat \", \"Maharashtra \", \"West Bengal \", \"Andhra Pradesh \", \"Karnataka \", \"Tamil Nadu \", \"Himachal Pradesh \", \"Tripura \", \"Punjab \", \"Goa \", \"Sikkim \", \"Kerala \"], \"y\": [3.41, 3.04, 2.74, 2.55, 2.74, 2.61, 2.4, 2.23, 2.32, 2.21, 2.07, 2.05, 2.26, 2.05, 2.12, 2.01, 1.79, 2.03, 1.87, 1.77, 1.83, 1.81, 1.7, 1.88, 1.69, 1.62, 1.66, 1.17, 1.56], \"type\": \"bar\", \"uid\": \"99795df5-e0c1-11e8-a0e6-186024bdfae3\"}], {\"barmode\": \"relative\", \"title\": \"Birth and Fertility Rate by States\"}, {\"showLink\": true, \"linkText\": \"Export to plot.ly\"})});</script>"
      ],
      "text/vnd.plotly.v1+html": [
       "<div id=\"6c0d8f25-31f1-4ecc-aeac-ce0770cb4fad\" style=\"height: 525px; width: 100%;\" class=\"plotly-graph-div\"></div><script type=\"text/javascript\">require([\"plotly\"], function(Plotly) { window.PLOTLYENV=window.PLOTLYENV || {};window.PLOTLYENV.BASE_URL=\"https://plot.ly\";Plotly.newPlot(\"6c0d8f25-31f1-4ecc-aeac-ce0770cb4fad\", [{\"marker\": {\"color\": \"rgba(55, 128, 191, 0.7)\", \"line\": {\"color\": \"rgb(0,0,0)\", \"width\": 1.5}}, \"name\": \"CBR \\u2013 Total\", \"x\": [\"Bihar \", \"Meghalaya \", \"Uttar Pradesh \", \"Jharkhand \", \"Nagaland \", \"Manipur \", \"Rajasthan \", \"Chhattisgarh \", \"Madhya Pradesh \", \"Assam \", \"Uttarakhand \", \"Haryana \", \"Mizoram \", \"Odisha \", \"Arunachal Pradesh \", \"Jammu and Kashmir \", \"Telangana \", \"Gujarat \", \"Maharashtra \", \"West Bengal \", \"Andhra Pradesh \", \"Karnataka \", \"Tamil Nadu \", \"Himachal Pradesh \", \"Tripura \", \"Punjab \", \"Goa \", \"Sikkim \", \"Kerala \"], \"y\": [\"27.1\", \"24.6\", \"22.6\", \"21.7\", \"21.4\", \"21.2\", \"20.8\", \"20.7\", \"20.2\", \"19.5\", \"19.0\", \"18.7\", \"18.7\", \"18.1\", \"17.9\", \"17.7\", \"17.1\", \"16.7\", \"16.6\", \"16.6\", \"16.1\", \"15.9\", \"15.5\", \"15.3\", \"15.3\", \"13.8\", \"12.8\", \"11.4\", \"11.2\"], \"type\": \"bar\", \"uid\": \"99795df4-e0c1-11e8-8273-186024bdfae3\"}, {\"marker\": {\"color\": \"rgba(219, 64, 82, 0.7)\", \"line\": {\"color\": \"rgb(0,0,0)\", \"width\": 1.5}}, \"name\": \"TFR \\u2013 Total1actual\", \"x\": [\"Bihar \", \"Meghalaya \", \"Uttar Pradesh \", \"Jharkhand \", \"Nagaland \", \"Manipur \", \"Rajasthan \", \"Chhattisgarh \", \"Madhya Pradesh \", \"Assam \", \"Uttarakhand \", \"Haryana \", \"Mizoram \", \"Odisha \", \"Arunachal Pradesh \", \"Jammu and Kashmir \", \"Telangana \", \"Gujarat \", \"Maharashtra \", \"West Bengal \", \"Andhra Pradesh \", \"Karnataka \", \"Tamil Nadu \", \"Himachal Pradesh \", \"Tripura \", \"Punjab \", \"Goa \", \"Sikkim \", \"Kerala \"], \"y\": [3.41, 3.04, 2.74, 2.55, 2.74, 2.61, 2.4, 2.23, 2.32, 2.21, 2.07, 2.05, 2.26, 2.05, 2.12, 2.01, 1.79, 2.03, 1.87, 1.77, 1.83, 1.81, 1.7, 1.88, 1.69, 1.62, 1.66, 1.17, 1.56], \"type\": \"bar\", \"uid\": \"99795df5-e0c1-11e8-a0e6-186024bdfae3\"}], {\"barmode\": \"relative\", \"title\": \"Birth and Fertility Rate by States\"}, {\"showLink\": true, \"linkText\": \"Export to plot.ly\"})});</script>"
      ]
     },
     "metadata": {},
     "output_type": "display_data"
    }
   ],
   "source": [
    "print(f\"Average Fertility Rate: {crude_birth_rate_df_clean['TFR – Total1actual'].mean()}\")\n",
    "print(f\"Average Fertility rate in urban areas: {crude_birth_rate_df_clean['TFR – Urban1actual'].mean():.1f}\")\n",
    "print(f\"Average fertility rate in rural areas: {crude_birth_rate_df_clean['TFR – Rural1actual'].mean():.1f}\")\n",
    "\n",
    "traces = []\n",
    "col_list = ['CBR – Total','TFR – Total1actual']\n",
    "color_list = ['rgba(55, 128, 191, 0.7)','rgba(219, 64, 82, 0.7)']\n",
    "for i in range(2):\n",
    "    trace = go.Bar(\n",
    "                   x  = crude_birth_rate_df_clean['State '],\n",
    "                   y  = crude_birth_rate_df_clean[col_list[i]],\n",
    "                   name = col_list[i],\n",
    "                   marker = dict(\n",
    "                                 color = color_list[i],\n",
    "                                 line=dict(color='rgb(0,0,0)',width=1.5)))\n",
    "    traces.append(trace)\n",
    "data = traces\n",
    "layout = dict(title = ('Birth and Fertility Rate by States'),\n",
    "             barmode = 'relative')\n",
    "\n",
    "fig = {'data':data,'layout':layout}\n",
    "iplot(fig)"
   ]
  },
  {
   "cell_type": "markdown",
   "metadata": {},
   "source": [
    "Bihar has the highest crude birth rate and fertility rate(3.41) whereas Sikkim has lowest Fertility rate(1.17).\n",
    "\n",
    "**Total Fertility Rate(TFR)** is defined as average number of children that would be born to a woman .The total fertility rate is a more direct measure of the level of fertility than the birth rate, since it refers to births per woman. This indicator shows the potential for population change in a country. A TFR of about 2.1 children per woman is called replacement-level fertility, which means a population that is stable, neither rising nor falling. "
   ]
  },
  {
   "cell_type": "code",
   "execution_count": 138,
   "metadata": {},
   "outputs": [],
   "source": [
    "pop_struc_df_clean['Sex Ratio']= round((pop_struc_df_clean['Female'] / pop_struc_df_clean['Male'])*1000,2)"
   ]
  },
  {
   "cell_type": "code",
   "execution_count": 139,
   "metadata": {},
   "outputs": [],
   "source": [
    "colors_sexratio_age = []\n",
    "for sr in pop_struc_df_clean['Sex Ratio']:    \n",
    "    if sr > 1000:\n",
    "        colors_sexratio_age.append('rgba(49,130,189,0.8)')\n",
    "    else:\n",
    "        colors_sexratio_age.append('rgba(204,204,204,1)')"
   ]
  },
  {
   "cell_type": "code",
   "execution_count": 140,
   "metadata": {},
   "outputs": [
    {
     "data": {
      "application/vnd.plotly.v1+json": {
       "data": [
        {
         "marker": {
          "color": [
           "rgba(204,204,204,1)",
           "rgba(204,204,204,1)",
           "rgba(204,204,204,1)",
           "rgba(204,204,204,1)",
           "rgba(204,204,204,1)",
           "rgba(204,204,204,1)",
           "rgba(204,204,204,1)",
           "rgba(204,204,204,1)",
           "rgba(204,204,204,1)",
           "rgba(204,204,204,1)",
           "rgba(204,204,204,1)",
           "rgba(49,130,189,0.8)",
           "rgba(49,130,189,0.8)",
           "rgba(49,130,189,0.8)",
           "rgba(204,204,204,1)",
           "rgba(49,130,189,0.8)",
           "rgba(49,130,189,0.8)",
           "rgba(49,130,189,0.8)",
           "rgba(49,130,189,0.8)",
           "rgba(49,130,189,0.8)",
           "rgba(49,130,189,0.8)",
           "rgba(204,204,204,1)"
          ],
          "line": {
           "color": "rgb(0,0,0)",
           "width": 1.5
          }
         },
         "text": [
          "923.98",
          "914.44",
          "911.72",
          "883.74",
          "934.96",
          "975.18",
          "983.74",
          "983.74",
          "929.35",
          "939.08",
          "898.72",
          "1012.03",
          "1013.91",
          "1043.75",
          "990.24",
          "1055.96",
          "1125.09",
          "1127.63",
          "1217.03",
          "1148.52",
          "1093.76",
          "892.13"
         ],
         "textposition": "auto",
         "type": "bar",
         "uid": "99c4c3ae-e0c1-11e8-855a-186024bdfae3",
         "x": [
          "0–4",
          "5–9",
          "10–14",
          "15–19",
          "20–24",
          "25–29",
          "30–34",
          "35–39",
          "40–44",
          "45–49",
          "50–54",
          "55–59",
          "60–64",
          "65–69",
          "70–74",
          "75–79",
          "80–84",
          "85–89",
          "90–94",
          "95–99",
          "100+",
          "Unknown"
         ],
         "y": [
          923.98,
          914.44,
          911.72,
          883.74,
          934.96,
          975.18,
          983.74,
          983.74,
          929.35,
          939.08,
          898.72,
          1012.03,
          1013.91,
          1043.75,
          990.24,
          1055.96,
          1125.09,
          1127.63,
          1217.03,
          1148.52,
          1093.76,
          892.13
         ]
        }
       ],
       "layout": {
        "title": "Sex Ratio by Age group(2011)",
        "yaxis": {
         "title": "Sex Ratio"
        }
       }
      },
      "text/html": [
       "<div id=\"e989d756-f1db-42d5-b692-fbd945469c95\" style=\"height: 525px; width: 100%;\" class=\"plotly-graph-div\"></div><script type=\"text/javascript\">require([\"plotly\"], function(Plotly) { window.PLOTLYENV=window.PLOTLYENV || {};window.PLOTLYENV.BASE_URL=\"https://plot.ly\";Plotly.newPlot(\"e989d756-f1db-42d5-b692-fbd945469c95\", [{\"marker\": {\"color\": [\"rgba(204,204,204,1)\", \"rgba(204,204,204,1)\", \"rgba(204,204,204,1)\", \"rgba(204,204,204,1)\", \"rgba(204,204,204,1)\", \"rgba(204,204,204,1)\", \"rgba(204,204,204,1)\", \"rgba(204,204,204,1)\", \"rgba(204,204,204,1)\", \"rgba(204,204,204,1)\", \"rgba(204,204,204,1)\", \"rgba(49,130,189,0.8)\", \"rgba(49,130,189,0.8)\", \"rgba(49,130,189,0.8)\", \"rgba(204,204,204,1)\", \"rgba(49,130,189,0.8)\", \"rgba(49,130,189,0.8)\", \"rgba(49,130,189,0.8)\", \"rgba(49,130,189,0.8)\", \"rgba(49,130,189,0.8)\", \"rgba(49,130,189,0.8)\", \"rgba(204,204,204,1)\"], \"line\": {\"color\": \"rgb(0,0,0)\", \"width\": 1.5}}, \"text\": [\"923.98\", \"914.44\", \"911.72\", \"883.74\", \"934.96\", \"975.18\", \"983.74\", \"983.74\", \"929.35\", \"939.08\", \"898.72\", \"1012.03\", \"1013.91\", \"1043.75\", \"990.24\", \"1055.96\", \"1125.09\", \"1127.63\", \"1217.03\", \"1148.52\", \"1093.76\", \"892.13\"], \"textposition\": \"auto\", \"x\": [\"0\\u20134\", \"5\\u20139\", \"10\\u201314\", \"15\\u201319\", \"20\\u201324\", \"25\\u201329\", \"30\\u201334\", \"35\\u201339\", \"40\\u201344\", \"45\\u201349\", \"50\\u201354\", \"55\\u201359\", \"60\\u201364\", \"65\\u201369\", \"70\\u201374\", \"75\\u201379\", \"80\\u201384\", \"85\\u201389\", \"90\\u201394\", \"95\\u201399\", \"100+\", \"Unknown\"], \"y\": [923.98, 914.44, 911.72, 883.74, 934.96, 975.18, 983.74, 983.74, 929.35, 939.08, 898.72, 1012.03, 1013.91, 1043.75, 990.24, 1055.96, 1125.09, 1127.63, 1217.03, 1148.52, 1093.76, 892.13], \"type\": \"bar\", \"uid\": \"99dc44da-e0c1-11e8-9ccf-186024bdfae3\"}], {\"title\": \"Sex Ratio by Age group(2011)\", \"yaxis\": {\"title\": \"Sex Ratio\"}}, {\"showLink\": true, \"linkText\": \"Export to plot.ly\"})});</script>"
      ],
      "text/vnd.plotly.v1+html": [
       "<div id=\"e989d756-f1db-42d5-b692-fbd945469c95\" style=\"height: 525px; width: 100%;\" class=\"plotly-graph-div\"></div><script type=\"text/javascript\">require([\"plotly\"], function(Plotly) { window.PLOTLYENV=window.PLOTLYENV || {};window.PLOTLYENV.BASE_URL=\"https://plot.ly\";Plotly.newPlot(\"e989d756-f1db-42d5-b692-fbd945469c95\", [{\"marker\": {\"color\": [\"rgba(204,204,204,1)\", \"rgba(204,204,204,1)\", \"rgba(204,204,204,1)\", \"rgba(204,204,204,1)\", \"rgba(204,204,204,1)\", \"rgba(204,204,204,1)\", \"rgba(204,204,204,1)\", \"rgba(204,204,204,1)\", \"rgba(204,204,204,1)\", \"rgba(204,204,204,1)\", \"rgba(204,204,204,1)\", \"rgba(49,130,189,0.8)\", \"rgba(49,130,189,0.8)\", \"rgba(49,130,189,0.8)\", \"rgba(204,204,204,1)\", \"rgba(49,130,189,0.8)\", \"rgba(49,130,189,0.8)\", \"rgba(49,130,189,0.8)\", \"rgba(49,130,189,0.8)\", \"rgba(49,130,189,0.8)\", \"rgba(49,130,189,0.8)\", \"rgba(204,204,204,1)\"], \"line\": {\"color\": \"rgb(0,0,0)\", \"width\": 1.5}}, \"text\": [\"923.98\", \"914.44\", \"911.72\", \"883.74\", \"934.96\", \"975.18\", \"983.74\", \"983.74\", \"929.35\", \"939.08\", \"898.72\", \"1012.03\", \"1013.91\", \"1043.75\", \"990.24\", \"1055.96\", \"1125.09\", \"1127.63\", \"1217.03\", \"1148.52\", \"1093.76\", \"892.13\"], \"textposition\": \"auto\", \"x\": [\"0\\u20134\", \"5\\u20139\", \"10\\u201314\", \"15\\u201319\", \"20\\u201324\", \"25\\u201329\", \"30\\u201334\", \"35\\u201339\", \"40\\u201344\", \"45\\u201349\", \"50\\u201354\", \"55\\u201359\", \"60\\u201364\", \"65\\u201369\", \"70\\u201374\", \"75\\u201379\", \"80\\u201384\", \"85\\u201389\", \"90\\u201394\", \"95\\u201399\", \"100+\", \"Unknown\"], \"y\": [923.98, 914.44, 911.72, 883.74, 934.96, 975.18, 983.74, 983.74, 929.35, 939.08, 898.72, 1012.03, 1013.91, 1043.75, 990.24, 1055.96, 1125.09, 1127.63, 1217.03, 1148.52, 1093.76, 892.13], \"type\": \"bar\", \"uid\": \"99dc44da-e0c1-11e8-9ccf-186024bdfae3\"}], {\"title\": \"Sex Ratio by Age group(2011)\", \"yaxis\": {\"title\": \"Sex Ratio\"}}, {\"showLink\": true, \"linkText\": \"Export to plot.ly\"})});</script>"
      ]
     },
     "metadata": {},
     "output_type": "display_data"
    }
   ],
   "source": [
    "trace = bar_plot(pop_struc_df_clean['Age group'],pop_struc_df_clean['Sex Ratio'],colors_sexratio_age,T = pop_struc_df_clean['Sex Ratio'],TP='auto')\n",
    "data = [trace]\n",
    "layout = dict(title = 'Sex Ratio by Age group(2011)',\n",
    "              yaxis = dict(title = 'Sex Ratio'))\n",
    "\n",
    "fig = {'data':data,'layout':layout}\n",
    "iplot(fig)"
   ]
  },
  {
   "cell_type": "markdown",
   "metadata": {},
   "source": [
    "- Bar coloured in blue indicates number of Female higher than number of male.\n",
    "- 59% of the age groups have sex ratio below 1000."
   ]
  },
  {
   "cell_type": "code",
   "execution_count": 141,
   "metadata": {},
   "outputs": [
    {
     "data": {
      "application/vnd.plotly.v1+json": {
       "data": [
        {
         "marker": {
          "color": "rgba(255, 255, 128, 0.5)",
          "line": {
           "color": "rgb(0,0,0)",
           "width": 1.5
          }
         },
         "name": "Age group 0-14",
         "type": "bar",
         "uid": "9a0a35b0-e0c1-11e8-b788-186024bdfae3",
         "x": [
          "Male",
          "Female",
          "Total"
         ],
         "y": [
          16.050755762801806,
          14.708015772561012,
          30.75877153536282
         ]
        },
        {
         "marker": {
          "color": "rgba(120, 300, 100, 0.5)",
          "line": {
           "color": "rgb(0,0,0)",
           "width": 1.5
          }
         },
         "name": "Age Group 15-64",
         "type": "bar",
         "uid": "9a0a35b1-e0c1-11e8-a952-186024bdfae3",
         "x": [
          "Male",
          "Female",
          "Total"
         ],
         "y": [
          32.553516852745275,
          30.850915600605404,
          63.40443245335069
         ]
        },
        {
         "marker": {
          "color": "rgba(255, 174, 128, 0.5)",
          "line": {
           "color": "rgb(0,0,0)",
           "width": 1.5
          }
         },
         "name": "Age group 64 & above",
         "type": "bar",
         "uid": "9a0a35b2-e0c1-11e8-b10a-186024bdfae3",
         "x": [
          "Male",
          "Female",
          "Total"
         ],
         "y": [
          2.6733278233038145,
          2.7926721731598416,
          5.465999996463656
         ]
        }
       ],
       "layout": {
        "title": "Percentage of Population by Age Groups",
        "yaxis": {
         "title": "Percentage"
        }
       }
      },
      "text/html": [
       "<div id=\"6eb283a1-cb63-4f71-8c46-39dc480410fc\" style=\"height: 525px; width: 100%;\" class=\"plotly-graph-div\"></div><script type=\"text/javascript\">require([\"plotly\"], function(Plotly) { window.PLOTLYENV=window.PLOTLYENV || {};window.PLOTLYENV.BASE_URL=\"https://plot.ly\";Plotly.newPlot(\"6eb283a1-cb63-4f71-8c46-39dc480410fc\", [{\"marker\": {\"color\": \"rgba(255, 255, 128, 0.5)\", \"line\": {\"color\": \"rgb(0,0,0)\", \"width\": 1.5}}, \"name\": \"Age group 0-14\", \"x\": [\"Male\", \"Female\", \"Total\"], \"y\": [16.050755762801806, 14.708015772561012, 30.75877153536282], \"type\": \"bar\", \"uid\": \"9a20f37a-e0c1-11e8-ac3a-186024bdfae3\"}, {\"marker\": {\"color\": \"rgba(120, 300, 100, 0.5)\", \"line\": {\"color\": \"rgb(0,0,0)\", \"width\": 1.5}}, \"name\": \"Age Group 15-64\", \"x\": [\"Male\", \"Female\", \"Total\"], \"y\": [32.553516852745275, 30.850915600605404, 63.40443245335069], \"type\": \"bar\", \"uid\": \"9a20f37b-e0c1-11e8-a130-186024bdfae3\"}, {\"marker\": {\"color\": \"rgba(255, 174, 128, 0.5)\", \"line\": {\"color\": \"rgb(0,0,0)\", \"width\": 1.5}}, \"name\": \"Age group 64 & above\", \"x\": [\"Male\", \"Female\", \"Total\"], \"y\": [2.6733278233038145, 2.7926721731598416, 5.465999996463656], \"type\": \"bar\", \"uid\": \"9a20f37c-e0c1-11e8-bec8-186024bdfae3\"}], {\"title\": \"Percentage of Population by Age Groups\", \"yaxis\": {\"title\": \"Percentage\"}}, {\"showLink\": true, \"linkText\": \"Export to plot.ly\"})});</script>"
      ],
      "text/vnd.plotly.v1+html": [
       "<div id=\"6eb283a1-cb63-4f71-8c46-39dc480410fc\" style=\"height: 525px; width: 100%;\" class=\"plotly-graph-div\"></div><script type=\"text/javascript\">require([\"plotly\"], function(Plotly) { window.PLOTLYENV=window.PLOTLYENV || {};window.PLOTLYENV.BASE_URL=\"https://plot.ly\";Plotly.newPlot(\"6eb283a1-cb63-4f71-8c46-39dc480410fc\", [{\"marker\": {\"color\": \"rgba(255, 255, 128, 0.5)\", \"line\": {\"color\": \"rgb(0,0,0)\", \"width\": 1.5}}, \"name\": \"Age group 0-14\", \"x\": [\"Male\", \"Female\", \"Total\"], \"y\": [16.050755762801806, 14.708015772561012, 30.75877153536282], \"type\": \"bar\", \"uid\": \"9a20f37a-e0c1-11e8-ac3a-186024bdfae3\"}, {\"marker\": {\"color\": \"rgba(120, 300, 100, 0.5)\", \"line\": {\"color\": \"rgb(0,0,0)\", \"width\": 1.5}}, \"name\": \"Age Group 15-64\", \"x\": [\"Male\", \"Female\", \"Total\"], \"y\": [32.553516852745275, 30.850915600605404, 63.40443245335069], \"type\": \"bar\", \"uid\": \"9a20f37b-e0c1-11e8-a130-186024bdfae3\"}, {\"marker\": {\"color\": \"rgba(255, 174, 128, 0.5)\", \"line\": {\"color\": \"rgb(0,0,0)\", \"width\": 1.5}}, \"name\": \"Age group 64 & above\", \"x\": [\"Male\", \"Female\", \"Total\"], \"y\": [2.6733278233038145, 2.7926721731598416, 5.465999996463656], \"type\": \"bar\", \"uid\": \"9a20f37c-e0c1-11e8-bec8-186024bdfae3\"}], {\"title\": \"Percentage of Population by Age Groups\", \"yaxis\": {\"title\": \"Percentage\"}}, {\"showLink\": true, \"linkText\": \"Export to plot.ly\"})});</script>"
      ]
     },
     "metadata": {},
     "output_type": "display_data"
    }
   ],
   "source": [
    "a = pop_struc_df_clean.iloc[:,1:4]\n",
    "tot_pop = a['Total'].sum()\n",
    "\n",
    "\n",
    "age_group_0_14 = pd.DataFrame((a.iloc[:3,:].sum(axis = 0) / tot_pop)*100).reset_index()\n",
    "trace_1 = go.Bar(\n",
    "                 x = age_group_0_14['index'],\n",
    "                 y = age_group_0_14[0],  \n",
    "                 name = 'Age group 0-14',\n",
    "                 marker = dict(color = 'rgba(255, 255, 128, 0.5)',\n",
    "                              line=dict(color='rgb(0,0,0)',width=1.5))\n",
    "                )\n",
    "\n",
    "age_grp_15_64 = pd.DataFrame((a.iloc[3:13,:].sum(axis = 0) / tot_pop)*100).reset_index()\n",
    "trace_2 = go.Bar(  \n",
    "                 x = age_grp_15_64['index'],\n",
    "                 y = age_grp_15_64[0],\n",
    "                 name = 'Age Group 15-64',\n",
    "                 marker=dict(color='rgba(120, 300, 100, 0.5)',\n",
    "                             line= dict(color = 'rgb(0,0,0)',width = 1.5))\n",
    "                 )\n",
    " \n",
    "\n",
    "age_grp_64_abv = pd.DataFrame((a.iloc[13:-1,:].sum(axis = 0) / tot_pop)*100).reset_index()\n",
    "trace_3 = go.Bar( \n",
    "                x = age_grp_64_abv['index'],\n",
    "                y = age_grp_64_abv[0],\n",
    "                name = 'Age group 64 & above',\n",
    "                marker = dict(color = 'rgba(255, 174, 128, 0.5)',\n",
    "                              line=dict(color='rgb(0,0,0)',width=1.5)))\n",
    "\n",
    "layout = dict(title='Percentage of Population by Age Groups',\n",
    "              yaxis = dict(title = 'Percentage'))\n",
    "\n",
    "data = [trace_1,trace_2,trace_3]\n",
    "fig = {'data':data,'layout':layout}\n",
    "iplot(fig)\n"
   ]
  },
  {
   "cell_type": "markdown",
   "metadata": {},
   "source": [
    "- 63% of total population is from age group 15-64.\n",
    "\n",
    "Out of which \n",
    "\n",
    "Male Population: 32.55% \n",
    "\n",
    "Female Population: 30.85%\n",
    "       "
   ]
  },
  {
   "cell_type": "code",
   "execution_count": 142,
   "metadata": {},
   "outputs": [
    {
     "name": "stdout",
     "output_type": "stream",
     "text": [
      "Number of Languages in India: 29\n"
     ]
    },
    {
     "data": {
      "application/vnd.plotly.v1+json": {
       "data": [
        {
         "marker": {
          "line": {
           "color": "rgb(0,0,0)",
           "width": 1.5
          }
         },
         "type": "bar",
         "uid": "9a378a24-e0c1-11e8-9349-186024bdfae3",
         "x": [
          "Hindi[74]",
          "Bengali",
          "Telugu",
          "Marathi",
          "Tamil",
          "Urdu",
          "Gujarati",
          "Kannada",
          "Malayalam",
          "Odia",
          "Punjabi",
          "Assamese",
          "Maithili",
          "Bhili/Bhilodi",
          "Santali",
          "Kashmiri",
          "Nepali",
          "Gondi",
          "Sindhi",
          "Konkani",
          "Dogri",
          "Khandeshi",
          "Kurukh",
          "Tulu",
          "Meitei (Manipuri)",
          "Bodo",
          "Khasi – Garo",
          "Mundari",
          "Ho"
         ],
         "y": [
          "41.030",
          "8.110",
          "7.190",
          "6.990",
          "5.910",
          "5.010",
          "4.480",
          "3.690",
          "3.210",
          "3.210",
          "2.830",
          "1.280",
          "1.180",
          "0.930",
          "0.630",
          "0.540",
          "0.280",
          "0.260",
          "0.250",
          "0.240",
          "0.220",
          "0.200",
          "0.170",
          "0.170",
          "0.140",
          "0.130",
          "0.112",
          "0.105",
          "0.103"
         ]
        }
       ],
       "layout": {
        "title": "Languages in India by percentage of native speakers at the 2001 census",
        "yaxis": {
         "title": "Percentage"
        }
       }
      },
      "text/html": [
       "<div id=\"4f7ffd2d-778b-4140-911c-3cc227352ca8\" style=\"height: 525px; width: 100%;\" class=\"plotly-graph-div\"></div><script type=\"text/javascript\">require([\"plotly\"], function(Plotly) { window.PLOTLYENV=window.PLOTLYENV || {};window.PLOTLYENV.BASE_URL=\"https://plot.ly\";Plotly.newPlot(\"4f7ffd2d-778b-4140-911c-3cc227352ca8\", [{\"marker\": {\"line\": {\"color\": \"rgb(0,0,0)\", \"width\": 1.5}}, \"x\": [\"Hindi[74]\", \"Bengali\", \"Telugu\", \"Marathi\", \"Tamil\", \"Urdu\", \"Gujarati\", \"Kannada\", \"Malayalam\", \"Odia\", \"Punjabi\", \"Assamese\", \"Maithili\", \"Bhili/Bhilodi\", \"Santali\", \"Kashmiri\", \"Nepali\", \"Gondi\", \"Sindhi\", \"Konkani\", \"Dogri\", \"Khandeshi\", \"Kurukh\", \"Tulu\", \"Meitei (Manipuri)\", \"Bodo\", \"Khasi \\u2013 Garo\", \"Mundari\", \"Ho\"], \"y\": [\"41.030\", \"8.110\", \"7.190\", \"6.990\", \"5.910\", \"5.010\", \"4.480\", \"3.690\", \"3.210\", \"3.210\", \"2.830\", \"1.280\", \"1.180\", \"0.930\", \"0.630\", \"0.540\", \"0.280\", \"0.260\", \"0.250\", \"0.240\", \"0.220\", \"0.200\", \"0.170\", \"0.170\", \"0.140\", \"0.130\", \"0.112\", \"0.105\", \"0.103\"], \"type\": \"bar\", \"uid\": \"9a4d0f5e-e0c1-11e8-abef-186024bdfae3\"}], {\"title\": \"Languages in India by percentage of native speakers at the 2001 census\", \"yaxis\": {\"title\": \"Percentage\"}}, {\"showLink\": true, \"linkText\": \"Export to plot.ly\"})});</script>"
      ],
      "text/vnd.plotly.v1+html": [
       "<div id=\"4f7ffd2d-778b-4140-911c-3cc227352ca8\" style=\"height: 525px; width: 100%;\" class=\"plotly-graph-div\"></div><script type=\"text/javascript\">require([\"plotly\"], function(Plotly) { window.PLOTLYENV=window.PLOTLYENV || {};window.PLOTLYENV.BASE_URL=\"https://plot.ly\";Plotly.newPlot(\"4f7ffd2d-778b-4140-911c-3cc227352ca8\", [{\"marker\": {\"line\": {\"color\": \"rgb(0,0,0)\", \"width\": 1.5}}, \"x\": [\"Hindi[74]\", \"Bengali\", \"Telugu\", \"Marathi\", \"Tamil\", \"Urdu\", \"Gujarati\", \"Kannada\", \"Malayalam\", \"Odia\", \"Punjabi\", \"Assamese\", \"Maithili\", \"Bhili/Bhilodi\", \"Santali\", \"Kashmiri\", \"Nepali\", \"Gondi\", \"Sindhi\", \"Konkani\", \"Dogri\", \"Khandeshi\", \"Kurukh\", \"Tulu\", \"Meitei (Manipuri)\", \"Bodo\", \"Khasi \\u2013 Garo\", \"Mundari\", \"Ho\"], \"y\": [\"41.030\", \"8.110\", \"7.190\", \"6.990\", \"5.910\", \"5.010\", \"4.480\", \"3.690\", \"3.210\", \"3.210\", \"2.830\", \"1.280\", \"1.180\", \"0.930\", \"0.630\", \"0.540\", \"0.280\", \"0.260\", \"0.250\", \"0.240\", \"0.220\", \"0.200\", \"0.170\", \"0.170\", \"0.140\", \"0.130\", \"0.112\", \"0.105\", \"0.103\"], \"type\": \"bar\", \"uid\": \"9a4d0f5e-e0c1-11e8-abef-186024bdfae3\"}], {\"title\": \"Languages in India by percentage of native speakers at the 2001 census\", \"yaxis\": {\"title\": \"Percentage\"}}, {\"showLink\": true, \"linkText\": \"Export to plot.ly\"})});</script>"
      ]
     },
     "metadata": {},
     "output_type": "display_data"
    }
   ],
   "source": [
    "print(f\"Number of Languages in India: {native_speakers_df_clean.shape[0]}\")\n",
    "\n",
    "trace = bar_plot(native_speakers_df_clean['Language'],native_speakers_df_clean['Percentage (%)'],None,T = None,TP=None)\n",
    "\n",
    "data = [trace]\n",
    "layout = dict(title = 'Languages in India by percentage of native speakers at the 2001 census',\n",
    "             yaxis = dict(title = 'Percentage'))\n",
    "fig = {'data':data, 'layout':layout}\n",
    "iplot(fig)"
   ]
  },
  {
   "cell_type": "markdown",
   "metadata": {},
   "source": [
    "<a id='Conclusion'></a>\n",
    "## Conclusion"
   ]
  },
  {
   "cell_type": "markdown",
   "metadata": {},
   "source": [
    "Before Independence Population increased by 63% in 70 Years whereas after independence (in next 60 years) population increased by 235%. From 1970 to 2010 population almost doubled to 1.2 Billion.\n",
    "\n",
    "States with Population above 100Million in 2011\n",
    "* Uttarpradesh: 199 Million\n",
    "* Maharashtra: 112 Million\n",
    "* Bihar: 104 Million\n",
    "\n",
    "Highly Populated cities in 2011\n",
    "* Mumbai : 13.48 Million\n",
    "* Delhi : 11 Million\n",
    "* Bangalore : 8.42 Million\n",
    "* Hyderabad : 6.8 Million\n",
    "* Ahmedabad : 5.57 Million\n",
    "\n",
    "Sex Ratio\n",
    "* Puducherry and Kerala are the states where the number of women are more than the number of men. In 2011 Kerala and Puducherry had sex ratio of 1084 and 1037 respectively\n",
    "\n",
    "`As per 2011`:\n",
    "- Percentage of Population in rural areas: 61.28%\n",
    "- Percentage of population in Urban Areas: 38.03%\n",
    "\n",
    "States with large number of population in rural areas\n",
    "\n",
    "- Himachal Pradesh\n",
    "- Bihar\n",
    "- Assam\n",
    "- Odisha\n",
    "- Meghalaya\n",
    "- UttarPradesh\n",
    "\n",
    "Literacy Rate as per 2011\n",
    "- average literacy rate in India: 79.14%\n",
    "\n",
    "Kerala has highest literacy rate of 93.91% with Male:96.02% and Female:91.98%\n",
    "\n",
    "Fertility rate: 2.11 Urban Areas: 1.7, Rural Areas: 2.3\n",
    "\n",
    "Total Population \n",
    "- between age 15-64: 63.40%\n",
    "- between age 0-14: 30.73%\n",
    "- between age 64 & Above 5.466%\n",
    "\n",
    "India has total 29 Spoken languages.Native Hindi speaker were 41% as per 2001 Census."
   ]
  },
  {
   "cell_type": "code",
   "execution_count": null,
   "metadata": {},
   "outputs": [],
   "source": []
  }
 ],
 "metadata": {
  "kernelspec": {
   "display_name": "Python 3",
   "language": "python",
   "name": "python3"
  },
  "language_info": {
   "codemirror_mode": {
    "name": "ipython",
    "version": 3
   },
   "file_extension": ".py",
   "mimetype": "text/x-python",
   "name": "python",
   "nbconvert_exporter": "python",
   "pygments_lexer": "ipython3",
   "version": "3.6.4"
  }
 },
 "nbformat": 4,
 "nbformat_minor": 2
}
